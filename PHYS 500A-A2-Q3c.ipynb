{
 "cells": [
  {
   "cell_type": "code",
   "execution_count": 1,
   "metadata": {},
   "outputs": [
    {
     "name": "stdout",
     "output_type": "stream",
     "text": [
      "Populating the interactive namespace from numpy and matplotlib\n"
     ]
    }
   ],
   "source": [
    "%pylab inline"
   ]
  },
  {
   "cell_type": "code",
   "execution_count": 2,
   "metadata": {},
   "outputs": [],
   "source": [
    "import sympy as sp\n",
    "from sympy import *\n",
    "init_printing()"
   ]
  },
  {
   "cell_type": "code",
   "execution_count": 3,
   "metadata": {},
   "outputs": [
    {
     "name": "stdout",
     "output_type": "stream",
     "text": [
      "A is:\n"
     ]
    },
    {
     "data": {
      "image/png": "[encoded data removed]",
      "text/latex": [
       "$$\\frac{- q\" \\sin{\\left (\\Omega t^{'} \\right )} + q' \\sin{\\left (\\Omega t^{\"} \\right )}}{\\sin{\\left (\\Omega \\left(t^{\"} - t^{'}\\right) \\right )}}$$"
      ],
      "text/plain": [
       "-q\"⋅sin(\\Omega⋅t__{'}) + q'⋅sin(\\Omega⋅t__{\"})\n",
       "──────────────────────────────────────────────\n",
       "        sin(\\Omega⋅(t__{\"} - t__{'}))         "
      ]
     },
     "metadata": {},
     "output_type": "display_data"
    },
    {
     "name": "stdout",
     "output_type": "stream",
     "text": [
      "B is:\n"
     ]
    },
    {
     "data": {
      "image/png": "[encoded data removed]",
      "text/latex": [
       "$$\\frac{q\" \\cos{\\left (\\Omega t^{'} \\right )} - q' \\cos{\\left (\\Omega t^{\"} \\right )}}{\\sin{\\left (\\Omega \\left(t^{\"} - t^{'}\\right) \\right )}}$$"
      ],
      "text/plain": [
       "q\"⋅cos(\\Omega⋅t__{'}) - q'⋅cos(\\Omega⋅t__{\"})\n",
       "─────────────────────────────────────────────\n",
       "        sin(\\Omega⋅(t__{\"} - t__{'}))        "
      ]
     },
     "metadata": {},
     "output_type": "display_data"
    }
   ],
   "source": [
    "h,t,m,o,tp,tpp,qp,qpp= symbols('hbar t m \\Omega t^{\\'} t^{\"} q\\' q\"')\n",
    "\n",
    "A=(qp*sin(o*tpp)-qpp*sin(o*tp))/sin(o*(tpp-tp))\n",
    "B=(qpp*cos(o*tp)-qp*cos(o*tpp))/sin(o*(tpp-tp))\n",
    "\n",
    "print('A is:')\n",
    "display(A)\n",
    "\n",
    "print('B is:')\n",
    "\n",
    "display(B)"
   ]
  },
  {
   "cell_type": "code",
   "execution_count": 4,
   "metadata": {},
   "outputs": [],
   "source": [
    "q=A*cos(o*t)+B*sin(o*t)\n",
    "\n",
    "qdp=diff(q,t).doit().subs(t,tp)\n",
    "qdpp=diff(q,t).doit().subs(t,tpp)\n",
    "\n",
    "S=m/2*(qpp*qdpp-qp*qdp).simplify()"
   ]
  },
  {
   "cell_type": "code",
   "execution_count": 5,
   "metadata": {},
   "outputs": [
    {
     "data": {
      "image/png": "[encoded data removed]",
      "text/latex": [
       "$$\\frac{\\Omega m \\left(q\" \\left(q\" \\cos{\\left (\\Omega t \\right )} - q'\\right) - q' \\left(q\" - q' \\cos{\\left (\\Omega t \\right )}\\right)\\right)}{2 \\sin{\\left (\\Omega t \\right )}}$$"
      ],
      "text/plain": [
       "\\Omega⋅m⋅(q\"⋅(q\"⋅cos(\\Omega⋅t) - q') - q'⋅(q\" - q'⋅cos(\\Omega⋅t)))\n",
       "──────────────────────────────────────────────────────────────────\n",
       "                         2⋅sin(\\Omega⋅t)                          "
      ]
     },
     "execution_count": 5,
     "metadata": {},
     "output_type": "execute_result"
    }
   ],
   "source": [
    "S.simplify().subs(tpp-tp,t).simplify()"
   ]
  },
  {
   "cell_type": "code",
   "execution_count": 6,
   "metadata": {},
   "outputs": [
    {
     "name": "stdout",
     "output_type": "stream",
     "text": [
      "S_cl is:\n"
     ]
    },
    {
     "data": {
      "image/png": "[encoded data removed]",
      "text/latex": [
       "$$\\frac{\\Omega m \\left(- 2 q\" q' + \\left(q\"^{2} + q'^{2}\\right) \\cos{\\left (\\Omega t \\right )}\\right)}{2 \\sin{\\left (\\Omega t \\right )}}$$"
      ],
      "text/plain": [
       "         ⎛           ⎛  2     2⎞              ⎞\n",
       "\\Omega⋅m⋅⎝-2⋅q\"⋅q' + ⎝q\"  + q' ⎠⋅cos(\\Omega⋅t)⎠\n",
       "───────────────────────────────────────────────\n",
       "                2⋅sin(\\Omega⋅t)                "
      ]
     },
     "metadata": {},
     "output_type": "display_data"
    }
   ],
   "source": [
    "S=o*m/(2*sin(o*t))*((qpp**2+qp**2)*cos(o*(t))-2*qp*qpp).simplify()\n",
    "print('S_cl is:')\n",
    "display(S)"
   ]
  },
  {
   "cell_type": "code",
   "execution_count": 7,
   "metadata": {},
   "outputs": [
    {
     "name": "stdout",
     "output_type": "stream",
     "text": [
      "differentiate wrt q\"\n",
      "\n",
      "RHS of the differential equation is :\n"
     ]
    },
    {
     "data": {
      "image/png": "[encoded data removed]",
      "text/latex": [
       "$$- \\frac{\\Omega}{2 \\tan{\\left (\\Omega t \\right )}}$$"
      ],
      "text/plain": [
       "    -\\Omega    \n",
       "───────────────\n",
       "2⋅tan(\\Omega⋅t)"
      ]
     },
     "metadata": {},
     "output_type": "display_data"
    }
   ],
   "source": [
    "print ('differentiate wrt q\"')\n",
    "print()\n",
    "print('RHS of the differential equation is :')\n",
    "display((1/(I*h)*(diff(S,t)+m/2*o**2*qpp**2-I*h/(2*m)*(diff(S,qpp,2)+I/h*(diff(S,qpp))**2))).simplify())"
   ]
  },
  {
   "cell_type": "code",
   "execution_count": 8,
   "metadata": {},
   "outputs": [
    {
     "name": "stdout",
     "output_type": "stream",
     "text": [
      "differentiation wrt q'\n",
      "\n",
      "RHS of the differential equation is :\n"
     ]
    },
    {
     "data": {
      "image/png": "[encoded data removed]",
      "text/latex": [
       "$$- \\frac{\\Omega}{2 \\tan{\\left (\\Omega t \\right )}}$$"
      ],
      "text/plain": [
       "    -\\Omega    \n",
       "───────────────\n",
       "2⋅tan(\\Omega⋅t)"
      ]
     },
     "metadata": {},
     "output_type": "display_data"
    }
   ],
   "source": [
    "print ('differentiation wrt q\\'')\n",
    "print()\n",
    "print('RHS of the differential equation is :')\n",
    "display((1/(I*h)*(diff(S,t)+m/2*o**2*qp**2-I*h/(2*m)*(diff(S,qp,2)+I/h*(diff(S,qp))**2))).simplify())"
   ]
  },
  {
   "cell_type": "code",
   "execution_count": 9,
   "metadata": {},
   "outputs": [],
   "source": [
    "F=exp(integrate(-o/2*cot(o*t),t)).simplify()"
   ]
  },
  {
   "cell_type": "code",
   "execution_count": 10,
   "metadata": {},
   "outputs": [
    {
     "name": "stdout",
     "output_type": "stream",
     "text": [
      "F(t) is:\n"
     ]
    },
    {
     "data": {
      "image/png": "[encoded data removed]",
      "text/latex": [
       "$$\\begin{cases} \\frac{1}{\\sqrt{\\sin{\\left (\\Omega t \\right )}}} & \\text{for}\\: \\Omega \\neq 0 \\\\1 & \\text{otherwise} \\end{cases}$$"
      ],
      "text/plain": [
       "⎧        1                        \n",
       "⎪─────────────────  for \\Omega ≠ 0\n",
       "⎪  _______________                \n",
       "⎨╲╱ sin(\\Omega⋅t)                 \n",
       "⎪                                 \n",
       "⎪        1            otherwise   \n",
       "⎩                                 "
      ]
     },
     "metadata": {},
     "output_type": "display_data"
    }
   ],
   "source": [
    "print('F(t) is:')\n",
    "display(F)"
   ]
  }
 ],
 "metadata": {
  "kernelspec": {
   "display_name": "Python 3",
   "language": "python",
   "name": "python3"
  },
  "language_info": {
   "codemirror_mode": {
    "name": "ipython",
    "version": 3
   },
   "file_extension": ".py",
   "mimetype": "text/x-python",
   "name": "python",
   "nbconvert_exporter": "python",
   "pygments_lexer": "ipython3",
   "version": "3.7.1"
  }
 },
 "nbformat": 4,
 "nbformat_minor": 2
}
