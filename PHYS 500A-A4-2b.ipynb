{
 "cells": [
  {
   "cell_type": "code",
   "execution_count": 1,
   "metadata": {},
   "outputs": [
    {
     "name": "stdout",
     "output_type": "stream",
     "text": [
      "Populating the interactive namespace from numpy and matplotlib\n"
     ]
    }
   ],
   "source": [
    "%pylab inline"
   ]
  },
  {
   "cell_type": "code",
   "execution_count": 5,
   "metadata": {},
   "outputs": [],
   "source": [
    "from sympy import *\n",
    "init_printing()"
   ]
  },
  {
   "cell_type": "code",
   "execution_count": 59,
   "metadata": {},
   "outputs": [],
   "source": [
    "h,g,w,t= symbols('\\hbar \\gamma \\omega_{0} t ', real=True)\n",
    "\n",
    "c1=1-I*g**2/h**2*(t/w)+g**2/h**2*(exp(I*w*t)-1)/(w**2)\n",
    "c2=g/h*(exp(-I*w*t)-1)/w"
   ]
  },
  {
   "cell_type": "code",
   "execution_count": 70,
   "metadata": {},
   "outputs": [
    {
     "data": {
      "image/png": "[encoded data removed]",
      "text/latex": [
       "$$\\frac{\\gamma^{4} t^{2}}{\\hbar^{4} \\omega_{0}^{2}} + \\frac{i \\gamma^{4} t e^{i \\omega_{0} t}}{\\hbar^{4} \\omega_{0}^{3}} - \\frac{i \\gamma^{4} t e^{- i \\omega_{0} t}}{\\hbar^{4} \\omega_{0}^{3}} - \\frac{\\gamma^{4} e^{i \\omega_{0} t}}{\\hbar^{4} \\omega_{0}^{4}} + \\frac{2 \\gamma^{4}}{\\hbar^{4} \\omega_{0}^{4}} - \\frac{\\gamma^{4} e^{- i \\omega_{0} t}}{\\hbar^{4} \\omega_{0}^{4}} + \\frac{\\gamma^{2} e^{i \\omega_{0} t}}{\\hbar^{2} \\omega_{0}^{2}} - \\frac{2 \\gamma^{2}}{\\hbar^{2} \\omega_{0}^{2}} + \\frac{\\gamma^{2} e^{- i \\omega_{0} t}}{\\hbar^{2} \\omega_{0}^{2}} + 1$$"
      ],
      "text/plain": [
       "         4  2              4    ⅈ⋅\\omega_{0}⋅t           4    -ⅈ⋅\\omega_{0}⋅t \n",
       "   \\gamma ⋅t       ⅈ⋅\\gamma ⋅t⋅ℯ                 ⅈ⋅\\gamma ⋅t⋅ℯ                \n",
       "──────────────── + ─────────────────────────── - ──────────────────────────── \n",
       "   4           2            4           3                 4           3       \n",
       "\\h̅ ⋅\\omega_{0}          \\h̅ ⋅\\omega_{0}               \\h̅ ⋅\\omega_{0}        \n",
       "\n",
       "        4  ⅈ⋅\\omega_{0}⋅t              4             4  -ⅈ⋅\\omega_{0}⋅t       \n",
       "  \\gamma ⋅ℯ                    2⋅\\gamma        \\gamma ⋅ℯ                  \\gam\n",
       "- ─────────────────────── + ──────────────── - ──────────────────────── + ────\n",
       "         4           4         4           4          4           4           \n",
       "      \\h̅ ⋅\\omega_{0}       \\h̅ ⋅\\omega_{0}        \\h̅ ⋅\\omega_{0}            \n",
       "\n",
       "  2  ⅈ⋅\\omega_{0}⋅t              2             2  -ⅈ⋅\\omega_{0}⋅t    \n",
       "ma ⋅ℯ                    2⋅\\gamma        \\gamma ⋅ℯ                   \n",
       "─────────────────── - ──────────────── + ──────────────────────── + 1\n",
       "   2           2         2           2          2           2        \n",
       "\\h̅ ⋅\\omega_{0}       \\h̅ ⋅\\omega_{0}        \\h̅ ⋅\\omega_{0}         "
      ]
     },
     "metadata": {},
     "output_type": "display_data"
    }
   ],
   "source": [
    "display(abs(c1)**2)"
   ]
  },
  {
   "cell_type": "code",
   "execution_count": 62,
   "metadata": {},
   "outputs": [
    {
     "data": {
      "image/png": "[encoded data removed]",
      "text/latex": [
       "$$\\frac{\\gamma^{2} \\left(- e^{i \\omega_{0} t} + 2 - e^{- i \\omega_{0} t}\\right)}{\\hbar^{2} \\omega_{0}^{2}}$$"
      ],
      "text/plain": [
       "      2 ⎛   ⅈ⋅\\omega_{0}⋅t        -ⅈ⋅\\omega_{0}⋅t⎞\n",
       "\\gamma ⋅⎝- ℯ               + 2 - ℯ               ⎠\n",
       "──────────────────────────────────────────────────\n",
       "                    2           2                 \n",
       "                 \\h̅ ⋅\\omega_{0}                  "
      ]
     },
     "execution_count": 62,
     "metadata": {},
     "output_type": "execute_result"
    }
   ],
   "source": [
    "(abs(c2)**2)"
   ]
  }
 ],
 "metadata": {
  "kernelspec": {
   "display_name": "Python 3",
   "language": "python",
   "name": "python3"
  },
  "language_info": {
   "codemirror_mode": {
    "name": "ipython",
    "version": 3
   },
   "file_extension": ".py",
   "mimetype": "text/x-python",
   "name": "python",
   "nbconvert_exporter": "python",
   "pygments_lexer": "ipython3",
   "version": "3.7.1"
  }
 },
 "nbformat": 4,
 "nbformat_minor": 2
}
