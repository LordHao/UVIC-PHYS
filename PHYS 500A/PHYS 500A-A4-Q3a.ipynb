{
 "cells": [
  {
   "cell_type": "code",
   "execution_count": 1,
   "metadata": {},
   "outputs": [
    {
     "name": "stdout",
     "output_type": "stream",
     "text": [
      "Populating the interactive namespace from numpy and matplotlib\n"
     ]
    }
   ],
   "source": [
    "%pylab inline\n",
    "from sympy import *\n",
    "init_printing()"
   ]
  },
  {
   "cell_type": "code",
   "execution_count": 2,
   "metadata": {},
   "outputs": [
    {
     "name": "stdout",
     "output_type": "stream",
     "text": [
      "\n",
      "The T^i_j\n"
     ]
    },
    {
     "data": {
      "image/png": "[encoded data removed]",
      "text/latex": [
       "$$\\left[\\begin{matrix}\\sin{\\left (\\theta \\right )} \\cos{\\left (\\phi \\right )} & r \\cos{\\left (\\phi \\right )} \\cos{\\left (\\theta \\right )} & - r \\sin{\\left (\\phi \\right )} \\sin{\\left (\\theta \\right )}\\\\\\sin{\\left (\\phi \\right )} \\sin{\\left (\\theta \\right )} & r \\sin{\\left (\\phi \\right )} \\cos{\\left (\\theta \\right )} & r \\sin{\\left (\\theta \\right )} \\cos{\\left (\\phi \\right )}\\\\\\cos{\\left (\\theta \\right )} & - r \\sin{\\left (\\theta \\right )} & 0\\end{matrix}\\right]$$"
      ],
      "text/plain": [
       "⎡sin(θ)⋅cos(φ)  r⋅cos(φ)⋅cos(θ)  -r⋅sin(φ)⋅sin(θ)⎤\n",
       "⎢                                                ⎥\n",
       "⎢sin(φ)⋅sin(θ)  r⋅sin(φ)⋅cos(θ)  r⋅sin(θ)⋅cos(φ) ⎥\n",
       "⎢                                                ⎥\n",
       "⎣   cos(θ)         -r⋅sin(θ)            0        ⎦"
      ]
     },
     "metadata": {},
     "output_type": "display_data"
    },
    {
     "name": "stdout",
     "output_type": "stream",
     "text": [
      "\n",
      "The inverse T^i_j matrix\n"
     ]
    },
    {
     "data": {
      "image/png": "[encoded data removed]",
      "text/latex": [
       "$$\\left[\\begin{matrix}\\sin{\\left (\\theta \\right )} \\cos{\\left (\\phi \\right )} & \\sin{\\left (\\phi \\right )} \\sin{\\left (\\theta \\right )} & \\cos{\\left (\\theta \\right )}\\\\\\frac{\\cos{\\left (\\phi \\right )} \\cos{\\left (\\theta \\right )}}{r} & \\frac{\\sin{\\left (\\phi \\right )} \\cos{\\left (\\theta \\right )}}{r} & - \\frac{\\sin{\\left (\\theta \\right )}}{r}\\\\- \\frac{\\sin{\\left (\\phi \\right )}}{r \\sin{\\left (\\theta \\right )}} & \\frac{\\cos{\\left (\\phi \\right )}}{r \\sin{\\left (\\theta \\right )}} & 0\\end{matrix}\\right]$$"
      ],
      "text/plain": [
       "⎡sin(θ)⋅cos(φ)  sin(φ)⋅sin(θ)   cos(θ) ⎤\n",
       "⎢                                      ⎥\n",
       "⎢cos(φ)⋅cos(θ)  sin(φ)⋅cos(θ)  -sin(θ) ⎥\n",
       "⎢─────────────  ─────────────  ────────⎥\n",
       "⎢      r              r           r    ⎥\n",
       "⎢                                      ⎥\n",
       "⎢  -sin(φ)         cos(φ)              ⎥\n",
       "⎢  ────────       ────────        0    ⎥\n",
       "⎣  r⋅sin(θ)       r⋅sin(θ)             ⎦"
      ]
     },
     "metadata": {},
     "output_type": "display_data"
    }
   ],
   "source": [
    "r, t, p, dr,dt,dp,h= symbols('r theta phi  \\partial_{r} \\partial_{\\\\theta}  \\partial_{\\phi} \\hbar', real=True)\n",
    "\n",
    "d=[dr,dt,dp]\n",
    "\n",
    "f  = [r*sin(t)*cos(p), r*sin(t)*sin(p),r*cos(t)]\n",
    "fr = [diff(fi, r) for fi in f]\n",
    "ft = [diff(fi, t) for fi in f]\n",
    "fp = [diff(fi, p) for fi in f]\n",
    "T_ij = Matrix([fr,ft,fp])\n",
    "\n",
    "print(\"\\nThe T^i_j\")\n",
    "Tij=transpose(T_ij)\n",
    "display(Tij)\n",
    "\n",
    "print(\"\\nThe inverse T^i_j matrix\")\n",
    "iTij=simplify(Tij**-1)\n",
    "display(iTij)"
   ]
  },
  {
   "cell_type": "markdown",
   "metadata": {},
   "source": [
    "$L_i=-i\\hbar \\epsilon_{ijk} x_{j} {(\\Lambda^{-1})}^{\\mu}_{k}\\partial_{\\mu}$"
   ]
  },
  {
   "cell_type": "code",
   "execution_count": 3,
   "metadata": {},
   "outputs": [],
   "source": [
    "L1=0\n",
    "L2=0\n",
    "L3=0\n",
    "for n in range(3):\n",
    "    a=((f[1]*iTij[n,2]-f[2]*iTij[n,1]).simplify()*d[n]).simplify()\n",
    "    b=((f[2]*iTij[n,0]-f[0]*iTij[n,2]).simplify()*d[n]).simplify()\n",
    "    c=((f[0]*iTij[n,1]-f[1]*iTij[n,0]).simplify()*d[n]).simplify()\n",
    "    L1+=a*(-I*h)\n",
    "    L2+=b*(-I*h)\n",
    "    L3+=c*(-I*h)"
   ]
  },
  {
   "cell_type": "code",
   "execution_count": 4,
   "metadata": {},
   "outputs": [
    {
     "data": {
      "image/png": "[encoded data removed]",
      "text/latex": [
       "$$i \\hbar \\left(\\frac{\\partial_{\\phi} \\cos{\\left (\\phi \\right )}}{\\tan{\\left (\\theta \\right )}} + \\partial_{\\theta} \\sin{\\left (\\phi \\right )}\\right)$$"
      ],
      "text/plain": [
       "      ⎛\\partial_{\\phi}⋅cos(φ)                           ⎞\n",
       "ⅈ⋅\\h̅⋅⎜────────────────────── + \\partial_{\\theta}⋅sin(φ)⎟\n",
       "      ⎝        tan(θ)                                   ⎠"
      ]
     },
     "execution_count": 4,
     "metadata": {},
     "output_type": "execute_result"
    }
   ],
   "source": [
    "L1.simplify()"
   ]
  },
  {
   "cell_type": "code",
   "execution_count": 5,
   "metadata": {},
   "outputs": [
    {
     "data": {
      "image/png": "[encoded data removed]",
      "text/latex": [
       "$$i \\hbar \\left(\\frac{\\partial_{\\phi} \\sin{\\left (\\phi \\right )}}{\\tan{\\left (\\theta \\right )}} - \\partial_{\\theta} \\cos{\\left (\\phi \\right )}\\right)$$"
      ],
      "text/plain": [
       "      ⎛\\partial_{\\phi}⋅sin(φ)                           ⎞\n",
       "ⅈ⋅\\h̅⋅⎜────────────────────── - \\partial_{\\theta}⋅cos(φ)⎟\n",
       "      ⎝        tan(θ)                                   ⎠"
      ]
     },
     "execution_count": 5,
     "metadata": {},
     "output_type": "execute_result"
    }
   ],
   "source": [
    "L2.simplify()"
   ]
  },
  {
   "cell_type": "code",
   "execution_count": 6,
   "metadata": {},
   "outputs": [
    {
     "data": {
      "image/png": "[encoded data removed]",
      "text/latex": [
       "$$- i \\hbar \\partial_{\\phi}$$"
      ],
      "text/plain": [
       "-ⅈ⋅\\h̅⋅\\partial_{\\phi}"
      ]
     },
     "execution_count": 6,
     "metadata": {},
     "output_type": "execute_result"
    }
   ],
   "source": [
    "L3.simplify()"
   ]
  }
 ],
 "metadata": {
  "kernelspec": {
   "display_name": "Python 3",
   "language": "python",
   "name": "python3"
  },
  "language_info": {
   "codemirror_mode": {
    "name": "ipython",
    "version": 3
   },
   "file_extension": ".py",
   "mimetype": "text/x-python",
   "name": "python",
   "nbconvert_exporter": "python",
   "pygments_lexer": "ipython3",
   "version": "3.7.1"
  }
 },
 "nbformat": 4,
 "nbformat_minor": 2
}
