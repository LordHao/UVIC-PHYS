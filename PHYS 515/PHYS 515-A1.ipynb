{
 "cells": [
  {
   "cell_type": "code",
   "execution_count": 1,
   "metadata": {},
   "outputs": [
    {
     "name": "stdout",
     "output_type": "stream",
     "text": [
      "Populating the interactive namespace from numpy and matplotlib\n"
     ]
    }
   ],
   "source": [
    "%pylab inline"
   ]
  },
  {
   "cell_type": "markdown",
   "metadata": {},
   "source": [
    "$$X=\\mu_X+\\sigma_A A$$\n",
    "\n",
    "$$Y=\\mu_Y+\\sigma_A A+ \\sigma_B B$$\n",
    "\n",
    "where $\\mu_X,\\mu_Y,\\sigma_A,$ and $\\sigma_B$ are constants, and A and B are independent variables distributed according to normal distribution(mean=0 and standard deviation=1)"
   ]
  },
  {
   "cell_type": "markdown",
   "metadata": {},
   "source": [
    "Q1.\n",
    "\n",
    "Expectation values:\n",
    "\n",
    "$E[A]=0$ the mean value of A & B are 0\n",
    "\n",
    "$E[B]=0$\n",
    "\n",
    "\n",
    "$E[X]=E[\\mu_X+\\sigma_A A]=E[\\mu_X]+\\sigma_AE[A]=\\mu_X+0=\\mu_X$\n",
    "\n",
    "\n",
    "\n",
    "$E[Y]=E[\\mu_Y+\\sigma_A A+ \\sigma_B B]=E[\\mu_Y]+\\sigma_AE[A]+\\sigma_BE[B]=\\mu_Y+0+0=\\mu_Y$\n",
    "\n"
   ]
  },
  {
   "cell_type": "markdown",
   "metadata": {},
   "source": [
    "Variance:\n",
    "\n",
    "$V[A]=1^2=1$ the standard deviation of A & B are 1\n",
    "\n",
    "$V[B]=1^2=1$\n",
    "\n",
    "$V[X]=V[\\mu_X+\\sigma_A A]=V[\\mu_X]+ V[\\sigma_A A]=0+E[(\\sigma_A A)^2]-E[\\sigma_A A]^2=\\sigma_A^2(E[A^2]-E[A]^2)=\\sigma_A^2V[A]=\\sigma_A^2$\n",
    "\n",
    "similarly,\n",
    "\n",
    "$V[Y]=V[\\mu_Y+\\sigma_A A+\\sigma_B B]=V[\\mu_Y]+ V[\\sigma_A A]+V[\\sigma_B B]=0+\\sigma_A^2V[A]+\\sigma_B^2V[B]=\\sigma_A^2+\\sigma_B^2$"
   ]
  },
  {
   "cell_type": "markdown",
   "metadata": {},
   "source": [
    "Covariance:\n",
    "\n",
    "$V_{XY}=E[XY]-E[X]E[Y]$\n",
    "\n",
    "\n",
    "\n",
    "$\\begin{aligned}E[XY]&=E[(\\mu_X+\\sigma_A A)(\\mu_Y+\\sigma_A A+ \\sigma_B B)]\\\\&= E[\\mu_X\\mu_Y+\\mu_X\\sigma_A A+\\mu_X\\sigma_B B+\\mu_Y\\sigma_AA +(\\sigma_A A)^2+\\sigma_A \\sigma_B A B]\\\\&=E[\\mu_X\\mu_Y]+(\\mu_X+\\mu_Y)\\sigma_AE[A]+\\mu_X\\sigma_BE[B]+\\sigma_A^2E[A^2]+\\sigma_A \\sigma_B E[A B]\\\\&=\\mu_X\\mu_Y+\\sigma_A^2E[A^2]+\\sigma_A \\sigma_B E[A]E[B]\\end{aligned}$\n",
    "\n",
    "$E[AB]=E[A]E[B]$ because A and B are independent.\n",
    "\n",
    "\n",
    "\n",
    "$1=V[A]=E[A^2]-E[A]^2=E[A^2]-0^2=E[A^2]$\n",
    "\n",
    "$\\Longrightarrow E[A^2]=1$\n",
    "\n",
    "Then,\n",
    "$E[XY]=\\mu_X\\mu_Y+\\sigma_A^2$\n",
    "\n",
    "$V_{XY}=E[XY]-E[X]E[Y]=\\mu_X\\mu_Y+\\sigma_A^2-\\mu_X\\mu_Y=\\sigma_A^2$"
   ]
  },
  {
   "cell_type": "markdown",
   "metadata": {},
   "source": [
    "Correlation Coefficient:\n",
    "\n",
    "$\\rho_{XY}=\\frac{V_{XY}}{\\sqrt{V[X]V[Y]}}=\\frac{\\sigma_A^2}{\\sqrt{\\sigma_A^2(\\sigma_A^2+\\sigma_B^2)}}=\\frac{\\sigma_A}{\\sqrt{\\sigma_A^2+\\sigma_B^2}}$"
   ]
  },
  {
   "cell_type": "markdown",
   "metadata": {},
   "source": [
    "Q2."
   ]
  },
  {
   "cell_type": "code",
   "execution_count": 2,
   "metadata": {},
   "outputs": [],
   "source": [
    "import random"
   ]
  },
  {
   "cell_type": "code",
   "execution_count": 3,
   "metadata": {},
   "outputs": [],
   "source": [
    "def getSample(n):\n",
    "    muA=0\n",
    "    muB=0\n",
    "    \n",
    "    sigmaA=1\n",
    "    sigmaB=1\n",
    "    \n",
    "    X=[]\n",
    "    Y=[]\n",
    "    for i in range(n):\n",
    "        A=random.gauss(muA, sigmaA)\n",
    "        B=random.gauss(muB, sigmaB)\n",
    "        X.append(muX+sA*A)\n",
    "        Y.append(muY+sA*A+sB*B)\n",
    "    return X,Y"
   ]
  },
  {
   "cell_type": "markdown",
   "metadata": {},
   "source": [
    "Q3."
   ]
  },
  {
   "cell_type": "code",
   "execution_count": 4,
   "metadata": {},
   "outputs": [],
   "source": [
    "muX=5\n",
    "muY=4\n",
    "sA=3\n",
    "sB=2"
   ]
  },
  {
   "cell_type": "code",
   "execution_count": 5,
   "metadata": {},
   "outputs": [],
   "source": [
    "a=getSample(20)"
   ]
  },
  {
   "cell_type": "code",
   "execution_count": 6,
   "metadata": {},
   "outputs": [
    {
     "data": {
      "image/png": "[encoded data removed]",
      "text/plain": [
       "<Figure size 432x288 with 1 Axes>"
      ]
     },
     "metadata": {
      "needs_background": "light"
     },
     "output_type": "display_data"
    }
   ],
   "source": [
    "x=array(a[0])\n",
    "y=array(a[1])\n",
    "\n",
    "plot(x,y,'ro')\n",
    "xlabel('X')\n",
    "ylabel('Y')\n",
    "title('Scatter plot of event sample')\n",
    "show()"
   ]
  },
  {
   "cell_type": "markdown",
   "metadata": {},
   "source": [
    "We can see that there is a weak linear relationship between Y and X."
   ]
  },
  {
   "cell_type": "code",
   "execution_count": 7,
   "metadata": {},
   "outputs": [
    {
     "name": "stdout",
     "output_type": "stream",
     "text": [
      "the mean value of X is : 4.764 and expectation: 5\n",
      "the mean value of Y is : 4.089 and expectation: 4\n",
      "the variance of X is: 13.957 and expectation: 9\n",
      "the variance of Y is: 17.787 and expectation: 13\n",
      "the covariance of X and Y is: 15.074 and expectation: 9\n",
      "the correlation coefficient of X and Y is 0.909, and ρ= 0.832\n"
     ]
    }
   ],
   "source": [
    "print('the mean value of X is : %s and expectation: 5'%round(mean(x),3))\n",
    "print('the mean value of Y is : %s and expectation: 4'%round(mean(y),3))\n",
    "\n",
    "print('the variance of X is: %s and expectation: 9'%round(var(x),3))\n",
    "print('the variance of Y is: %s and expectation: 13'%round(var(y),3))\n",
    "\n",
    "Vxy=cov(x,y)[0][1]\n",
    "r=corrcoef(x,y)[0][1]\n",
    "\n",
    "print('the covariance of X and Y is: %s and expectation: 9'%round((Vxy),3))\n",
    "print('the correlation coefficient of X and Y is %s, and ρ= %s'%(round(r,3),round(sA/sqrt(sA**2+sB**2),3)))"
   ]
  },
  {
   "cell_type": "markdown",
   "metadata": {},
   "source": [
    "Q4."
   ]
  },
  {
   "cell_type": "code",
   "execution_count": 8,
   "metadata": {},
   "outputs": [],
   "source": [
    "NN=1000\n",
    "def getr(m):\n",
    "    M=[]\n",
    "    for i in range(NN):\n",
    "        b=getSample(m)\n",
    "        x=b[0]\n",
    "        y=b[1]\n",
    "        r=corrcoef(x,y)[0][1]\n",
    "        M.append(r)\n",
    "    return M"
   ]
  },
  {
   "cell_type": "code",
   "execution_count": 9,
   "metadata": {},
   "outputs": [
    {
     "data": {
      "image/png": "[encoded data removed]",
      "text/plain": [
       "<Figure size 432x288 with 1 Axes>"
      ]
     },
     "metadata": {
      "needs_background": "light"
     },
     "output_type": "display_data"
    },
    {
     "name": "stdout",
     "output_type": "stream",
     "text": [
      "the mean value of r is: 0.827\n",
      "the standard deviation of r is: 0.078\n"
     ]
    }
   ],
   "source": [
    "abin = arange(0, 1, 0.02)\n",
    "N=20\n",
    "R=getr(N)\n",
    "hist(R,bins=abin)\n",
    "xlabel('the event of correlation')\n",
    "ylabel('frequency of oberservation')\n",
    "title('the correlation distribution (%s samples)'%N)\n",
    "show()\n",
    "print('the mean value of r is:',round(mean(R),3))\n",
    "print('the standard deviation of r is:',round(std(R),3))"
   ]
  },
  {
   "cell_type": "markdown",
   "metadata": {},
   "source": [
    "Q5."
   ]
  },
  {
   "cell_type": "code",
   "execution_count": 10,
   "metadata": {},
   "outputs": [
    {
     "data": {
      "image/png": "[encoded data removed]",
      "text/plain": [
       "<Figure size 432x288 with 1 Axes>"
      ]
     },
     "metadata": {
      "needs_background": "light"
     },
     "output_type": "display_data"
    },
    {
     "name": "stdout",
     "output_type": "stream",
     "text": [
      "the mean value of r is: 0.83\n",
      "the standard deviation of r is: 0.022\n"
     ]
    }
   ],
   "source": [
    "N=200\n",
    "R=getr(N)\n",
    "hist(R,bins=abin)\n",
    "xlabel('the event of correlation')\n",
    "ylabel('frequency of oberservation')\n",
    "title('the correlation distribution (%s samples)'%N)\n",
    "show()\n",
    "print('the mean value of r is:',round(mean(R),3))\n",
    "print('the standard deviation of r is:',round(std(R),3))"
   ]
  },
  {
   "cell_type": "markdown",
   "metadata": {},
   "source": [
    "Comapred with 20 samples, the r of 200 samples is less spread out, and the mean value is more closed to the expectation $\\rho$."
   ]
  },
  {
   "cell_type": "markdown",
   "metadata": {},
   "source": [
    "Q6."
   ]
  },
  {
   "cell_type": "markdown",
   "metadata": {},
   "source": [
    "$z=$tanh$^{-1}(r)$\n",
    "\n",
    "$E[Z]=$tanh$^{-1}(\\rho)+\\frac{\\rho}{2(n-1)}$\n",
    "\n",
    "$V[Z]=\\frac{1}{n-3}$"
   ]
  },
  {
   "cell_type": "code",
   "execution_count": 11,
   "metadata": {},
   "outputs": [],
   "source": [
    "def G(x):\n",
    "    return 1/sqrt(2*pi*sigz**2)*e**(-(x-Ez)**2/(2*sigz**2))"
   ]
  },
  {
   "cell_type": "code",
   "execution_count": 12,
   "metadata": {},
   "outputs": [
    {
     "data": {
      "image/png": "[encoded data removed]",
      "text/plain": [
       "<Figure size 432x288 with 1 Axes>"
      ]
     },
     "metadata": {
      "needs_background": "light"
     },
     "output_type": "display_data"
    },
    {
     "name": "stdout",
     "output_type": "stream",
     "text": [
      "the mean value of z is:1.215 and the expectation is:1.217\n",
      "the standard deviation of z is:0.246 and the expectation is:0.243\n"
     ]
    }
   ],
   "source": [
    "num=20\n",
    "R=getr(num)\n",
    "\n",
    "z=arctanh(R)\n",
    "p=sA/sqrt(sA**2+sB**2)                #calculate ρ\n",
    "Ez=arctanh(p)+p/(2*(num-1))\n",
    "sigz=sqrt(1/(num-3))\n",
    "\n",
    "xx=linspace(0,2,1000)\n",
    "plot(xx,G(xx),'r-',label='Gaussian')\n",
    "\n",
    "bbin=arange(0,2,0.1)\n",
    "hist(z,bins=bbin,density=1)\n",
    "xlabel('z')\n",
    "ylabel('frequency of obeservation (normalized)')\n",
    "title('distribution of the mean value of z (sample size=%s)'%num)\n",
    "legend(loc='best')\n",
    "show()\n",
    "print('the mean value of z is:%s and the expectation is:%s'%(round(mean(z),3),round((Ez),3)))\n",
    "print('the standard deviation of z is:%s and the expectation is:%s'%(round(std(z),3),round((sigz),3)))"
   ]
  },
  {
   "cell_type": "markdown",
   "metadata": {},
   "source": [
    "It can be seen that there is a weak gaussian shape of 20 smaples."
   ]
  }
 ],
 "metadata": {
  "kernelspec": {
   "display_name": "Python 3",
   "language": "python",
   "name": "python3"
  },
  "language_info": {
   "codemirror_mode": {
    "name": "ipython",
    "version": 3
   },
   "file_extension": ".py",
   "mimetype": "text/x-python",
   "name": "python",
   "nbconvert_exporter": "python",
   "pygments_lexer": "ipython3",
   "version": "3.7.1"
  }
 },
 "nbformat": 4,
 "nbformat_minor": 2
}
