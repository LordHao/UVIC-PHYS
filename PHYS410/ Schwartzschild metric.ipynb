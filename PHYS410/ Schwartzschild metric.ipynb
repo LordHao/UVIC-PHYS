{
 "cells": [
  {
   "cell_type": "markdown",
   "metadata": {},
   "source": [
    "$\\Gamma^{\\mu}_{\\alpha\\beta}=\\frac{1}{2}\\big(\\frac{\\partial g_{\\lambda \\beta}}{\\partial x^{\\alpha}}+\\frac{\\partial g_{\\alpha \\lambda}}{\\partial x^{\\beta}}-\\frac{\\partial g_{\\alpha \\beta}}{\\partial x^{\\lambda}}\\big)$"
   ]
  },
  {
   "cell_type": "code",
   "execution_count": 1,
   "metadata": {},
   "outputs": [
    {
     "name": "stdout",
     "output_type": "stream",
     "text": [
      "Populating the interactive namespace from numpy and matplotlib\n"
     ]
    }
   ],
   "source": [
    "%pylab inline\n",
    "import sympy as sp\n",
    "from sympy import *\n",
    "init_printing()"
   ]
  },
  {
   "cell_type": "code",
   "execution_count": 2,
   "metadata": {
    "scrolled": false
   },
   "outputs": [
    {
     "name": "stdout",
     "output_type": "stream",
     "text": [
      "\n",
      "The g_ij matrix\n"
     ]
    },
    {
     "data": {
      "image/png": "[encoded data removed]",
      "text/latex": [
       "$$\\left[\\begin{matrix}-1 + \\frac{rs}{r} & 0 & 0 & 0\\\\0 & \\frac{1}{1 - \\frac{rs}{r}} & 0 & 0\\\\0 & 0 & r^{2} & 0\\\\0 & 0 & 0 & r^{2} \\sin^{2}{\\left (\\theta \\right )}\\end{matrix}\\right]$$"
      ],
      "text/plain": [
       "⎡     rs                        ⎤\n",
       "⎢-1 + ──    0     0       0     ⎥\n",
       "⎢     r                         ⎥\n",
       "⎢                               ⎥\n",
       "⎢           1                   ⎥\n",
       "⎢   0     ──────  0       0     ⎥\n",
       "⎢             rs                ⎥\n",
       "⎢         1 - ──                ⎥\n",
       "⎢             r                 ⎥\n",
       "⎢                               ⎥\n",
       "⎢                  2            ⎥\n",
       "⎢   0       0     r       0     ⎥\n",
       "⎢                               ⎥\n",
       "⎢                      2    2   ⎥\n",
       "⎣   0       0     0   r ⋅sin (θ)⎦"
      ]
     },
     "metadata": {},
     "output_type": "display_data"
    },
    {
     "name": "stdout",
     "output_type": "stream",
     "text": [
      "\n",
      "The inverse g_ij matrix\n"
     ]
    },
    {
     "data": {
      "image/png": "[encoded data removed]",
      "text/latex": [
       "$$\\left[\\begin{matrix}- \\frac{r}{r - rs} & 0 & 0 & 0\\\\0 & \\frac{r - rs}{r} & 0 & 0\\\\0 & 0 & \\frac{1}{r^{2}} & 0\\\\0 & 0 & 0 & \\frac{1}{r^{2} \\sin^{2}{\\left (\\theta \\right )}}\\end{matrix}\\right]$$"
      ],
      "text/plain": [
       "⎡ -r                           ⎤\n",
       "⎢──────    0     0       0     ⎥\n",
       "⎢r - rs                        ⎥\n",
       "⎢                              ⎥\n",
       "⎢        r - rs                ⎥\n",
       "⎢  0     ──────  0       0     ⎥\n",
       "⎢          r                   ⎥\n",
       "⎢                              ⎥\n",
       "⎢                1             ⎥\n",
       "⎢  0       0     ──      0     ⎥\n",
       "⎢                 2            ⎥\n",
       "⎢                r             ⎥\n",
       "⎢                              ⎥\n",
       "⎢                        1     ⎥\n",
       "⎢  0       0     0   ──────────⎥\n",
       "⎢                     2    2   ⎥\n",
       "⎣                    r ⋅sin (θ)⎦"
      ]
     },
     "metadata": {},
     "output_type": "display_data"
    }
   ],
   "source": [
    "t,r,s,p,rs= symbols('t r theta phi rs', real=True) \n",
    "u=rs/r\n",
    "\n",
    "gij = Matrix([[-(1-u),0,0,0],\\\n",
    "              [0,1/(1-u),0,0],\\\n",
    "              [0,0,r**2, 0],\\\n",
    "              [0,0,0,r**2*sp.sin(s)**2]])\n",
    "print(\"\\nThe g_ij matrix\")\n",
    "\n",
    "detg=gij.det()\n",
    "display(gij)\n",
    "\n",
    "print(\"\\nThe inverse g_ij matrix\")\n",
    "igij = gij**-1\n",
    "display(simplify(igij))"
   ]
  },
  {
   "cell_type": "code",
   "execution_count": 3,
   "metadata": {
    "scrolled": false
   },
   "outputs": [
    {
     "name": "stdout",
     "output_type": "stream",
     "text": [
      "\n",
      "Christoffel [Γ^t_ij]\n"
     ]
    },
    {
     "data": {
      "image/png": "[encoded data removed]",
      "text/latex": [
       "$$\\left[\\begin{matrix}0 & \\frac{rs}{2 r \\left(r - rs\\right)} & 0 & 0\\\\\\frac{rs}{2 r \\left(r - rs\\right)} & 0 & 0 & 0\\\\0 & 0 & 0 & 0\\\\0 & 0 & 0 & 0\\end{matrix}\\right]$$"
      ],
      "text/plain": [
       "⎡                   rs           ⎤\n",
       "⎢     0        ────────────  0  0⎥\n",
       "⎢              2⋅r⋅(r - rs)      ⎥\n",
       "⎢                                ⎥\n",
       "⎢     rs                         ⎥\n",
       "⎢────────────       0        0  0⎥\n",
       "⎢2⋅r⋅(r - rs)                    ⎥\n",
       "⎢                                ⎥\n",
       "⎢     0             0        0  0⎥\n",
       "⎢                                ⎥\n",
       "⎣     0             0        0  0⎦"
      ]
     },
     "metadata": {},
     "output_type": "display_data"
    },
    {
     "name": "stdout",
     "output_type": "stream",
     "text": [
      "\n",
      "Christoffel [Γ^r_ij]\n"
     ]
    },
    {
     "data": {
      "image/png": "[encoded data removed]",
      "text/latex": [
       "$$\\left[\\begin{matrix}\\frac{rs \\left(r - rs\\right)}{2 r^{3}} & 0 & 0 & 0\\\\0 & - \\frac{rs}{2 r \\left(r - rs\\right)} & 0 & 0\\\\0 & 0 & - r + rs & 0\\\\0 & 0 & 0 & \\left(- r + rs\\right) \\sin^{2}{\\left (\\theta \\right )}\\end{matrix}\\right]$$"
      ],
      "text/plain": [
       "⎡rs⋅(r - rs)                                          ⎤\n",
       "⎢───────────       0           0             0        ⎥\n",
       "⎢       3                                             ⎥\n",
       "⎢    2⋅r                                              ⎥\n",
       "⎢                                                     ⎥\n",
       "⎢                 -rs                                 ⎥\n",
       "⎢     0       ────────────     0             0        ⎥\n",
       "⎢             2⋅r⋅(r - rs)                            ⎥\n",
       "⎢                                                     ⎥\n",
       "⎢     0            0        -r + rs          0        ⎥\n",
       "⎢                                                     ⎥\n",
       "⎢                                                 2   ⎥\n",
       "⎣     0            0           0     (-r + rs)⋅sin (θ)⎦"
      ]
     },
     "metadata": {},
     "output_type": "display_data"
    },
    {
     "name": "stdout",
     "output_type": "stream",
     "text": [
      "\n",
      "Christoffel [Γ^θ_ij]\n"
     ]
    },
    {
     "data": {
      "image/png": "[encoded data removed]",
      "text/latex": [
       "$$\\left[\\begin{matrix}0 & 0 & 0 & 0\\\\0 & 0 & \\frac{1}{r} & 0\\\\0 & \\frac{1}{r} & 0 & 0\\\\0 & 0 & 0 & - \\frac{\\sin{\\left (2 \\theta \\right )}}{2}\\end{matrix}\\right]$$"
      ],
      "text/plain": [
       "⎡0  0  0      0     ⎤\n",
       "⎢                   ⎥\n",
       "⎢      1            ⎥\n",
       "⎢0  0  ─      0     ⎥\n",
       "⎢      r            ⎥\n",
       "⎢                   ⎥\n",
       "⎢   1               ⎥\n",
       "⎢0  ─  0      0     ⎥\n",
       "⎢   r               ⎥\n",
       "⎢                   ⎥\n",
       "⎢         -sin(2⋅θ) ⎥\n",
       "⎢0  0  0  ──────────⎥\n",
       "⎣             2     ⎦"
      ]
     },
     "metadata": {},
     "output_type": "display_data"
    },
    {
     "name": "stdout",
     "output_type": "stream",
     "text": [
      "\n",
      "Christoffel [Γ^φ_ij]\n"
     ]
    },
    {
     "data": {
      "image/png": "[encoded data removed]",
      "text/latex": [
       "$$\\left[\\begin{matrix}0 & 0 & 0 & 0\\\\0 & 0 & 0 & \\frac{1}{r}\\\\0 & 0 & 0 & \\frac{1}{\\tan{\\left (\\theta \\right )}}\\\\0 & \\frac{1}{r} & \\frac{1}{\\tan{\\left (\\theta \\right )}} & 0\\end{matrix}\\right]$$"
      ],
      "text/plain": [
       "⎡0  0    0       0   ⎤\n",
       "⎢                    ⎥\n",
       "⎢                1   ⎥\n",
       "⎢0  0    0       ─   ⎥\n",
       "⎢                r   ⎥\n",
       "⎢                    ⎥\n",
       "⎢                1   ⎥\n",
       "⎢0  0    0     ──────⎥\n",
       "⎢              tan(θ)⎥\n",
       "⎢                    ⎥\n",
       "⎢   1    1           ⎥\n",
       "⎢0  ─  ──────    0   ⎥\n",
       "⎣   r  tan(θ)        ⎦"
      ]
     },
     "metadata": {},
     "output_type": "display_data"
    }
   ],
   "source": [
    "gijt = Matrix([[diff(gij[i,j], t) for i in range(4)] for j in range(4)])\n",
    "\n",
    "gijr = Matrix([[diff(gij[i,j], r) for i in range(4)] for j in range(4)])\n",
    "\n",
    "gijs = Matrix([[diff(gij[i,j], s) for i in range(4)] for j in range(4)])\n",
    "\n",
    "gijp = Matrix([[diff(gij[i,j], p) for i in range(4)] for j in range(4)])\n",
    "\n",
    "mpg  = [gijt,gijr, gijs,gijp] \n",
    "\n",
    "print(\"\\nChristoffel [Γ^t_ij]\")\n",
    "Gt = Matrix([[sum([ (mpg[j][i,n] - mpg[n][i,j] + mpg[i][n,j])*igij[n,0] \\\n",
    "                      for n in range(4)]) for j in range(4)] for i in range(4)])/2\n",
    "Gt= simplify(Gt)\n",
    "display(Gt)\n",
    "\n",
    "print(\"\\nChristoffel [Γ^r_ij]\")\n",
    "Gr = Matrix([[sum([ (mpg[j][i,n] - mpg[n][i,j] + mpg[i][n,j])*igij[n,1] \\\n",
    "                      for n in range(4)]) for j in range(4)] for i in range(4)])/2\n",
    "Gr = simplify(Gr)\n",
    "display(Gr)\n",
    "\n",
    "print(\"\\nChristoffel [Γ^θ_ij]\")\n",
    "Gs = Matrix([[sum([ (mpg[j][i,n] - mpg[n][i,j] + mpg[i][n,j])*igij[n,2] \\\n",
    "                      for n in range(4)]) for j in range(4)] for i in range(4)])/2\n",
    "\n",
    "Gs= simplify(Gs)\n",
    "display(Gs)\n",
    "\n",
    "print(\"\\nChristoffel [Γ^φ_ij]\")\n",
    "Gp = Matrix([[sum([(mpg[j][i,n] - mpg[n][i,j] + mpg[i][n,j])*igij[n,3] \\\n",
    "                      for n in range(4)]) for j in range(4)] for i in range(4)])/2\n",
    "\n",
    "Gp= simplify(Gp)\n",
    "display(Gp)"
   ]
  }
 ],
 "metadata": {
  "anaconda-cloud": {},
  "kernelspec": {
   "display_name": "Python 3",
   "language": "python",
   "name": "python3"
  },
  "language_info": {
   "codemirror_mode": {
    "name": "ipython",
    "version": 3
   },
   "file_extension": ".py",
   "mimetype": "text/x-python",
   "name": "python",
   "nbconvert_exporter": "python",
   "pygments_lexer": "ipython3",
   "version": "3.7.1"
  }
 },
 "nbformat": 4,
 "nbformat_minor": 1
}
