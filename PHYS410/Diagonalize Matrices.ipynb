{
 "cells": [
  {
   "cell_type": "code",
   "execution_count": 1,
   "metadata": {},
   "outputs": [
    {
     "name": "stdout",
     "output_type": "stream",
     "text": [
      "Populating the interactive namespace from numpy and matplotlib\n"
     ]
    }
   ],
   "source": [
    "%pylab inline\n",
    "from sympy import *\n",
    "init_printing()"
   ]
  },
  {
   "cell_type": "code",
   "execution_count": 2,
   "metadata": {},
   "outputs": [],
   "source": [
    "\n",
    "\n",
    "De=Matrix([[1,0,0],\\\n",
    "           [0,1,0],\\\n",
    "           [0,0,1]])\n",
    "\n",
    "Da=Matrix([[-Rational(1.0/2),-sqrt(3)/2,0],\\\n",
    "           [sqrt(3)/2,-Rational(1.0/2),0],\\\n",
    "                            [0,0,1]])\n",
    "\n",
    "Db=Matrix([[-Rational(1.0/2),sqrt(3)/2,0],\\\n",
    "           [-sqrt(3)/2,-Rational(1.0/2),0],\\\n",
    "                                  [0,0,1]])\n",
    "\n",
    "iSij= Matrix([[1,I,0],\\\n",
    "              [I,1,0],\\\n",
    "              [0,0,1]])\n",
    "\n",
    "Sij = iSij**-1"
   ]
  },
  {
   "cell_type": "code",
   "execution_count": 3,
   "metadata": {},
   "outputs": [
    {
     "name": "stdout",
     "output_type": "stream",
     "text": [
      "\n",
      "The inverse S matrix\n"
     ]
    },
    {
     "data": {
      "image/png": "[encoded data removed]",
      "text/latex": [
       "$$\\left[\\begin{matrix}1 & i & 0\\\\i & 1 & 0\\\\0 & 0 & 1\\end{matrix}\\right]$$"
      ],
      "text/plain": [
       "⎡1  ⅈ  0⎤\n",
       "⎢       ⎥\n",
       "⎢ⅈ  1  0⎥\n",
       "⎢       ⎥\n",
       "⎣0  0  1⎦"
      ]
     },
     "metadata": {},
     "output_type": "display_data"
    },
    {
     "name": "stdout",
     "output_type": "stream",
     "text": [
      "\n",
      "The S matrix\n"
     ]
    },
    {
     "data": {
      "image/png": "[encoded data removed]",
      "text/latex": [
       "$$\\left[\\begin{matrix}\\frac{1}{2} & - \\frac{i}{2} & 0\\\\- \\frac{i}{2} & \\frac{1}{2} & 0\\\\0 & 0 & 1\\end{matrix}\\right]$$"
      ],
      "text/plain": [
       "⎡     -ⅈ    ⎤\n",
       "⎢1/2  ───  0⎥\n",
       "⎢      2    ⎥\n",
       "⎢           ⎥\n",
       "⎢-ⅈ         ⎥\n",
       "⎢───  1/2  0⎥\n",
       "⎢ 2         ⎥\n",
       "⎢           ⎥\n",
       "⎣ 0    0   1⎦"
      ]
     },
     "metadata": {},
     "output_type": "display_data"
    }
   ],
   "source": [
    "print(\"\\nThe inverse S matrix\")\n",
    "display(simplify(iSij))\n",
    "\n",
    "print(\"\\nThe S matrix\")\n",
    "display(simplify(Sij))"
   ]
  },
  {
   "cell_type": "markdown",
   "metadata": {},
   "source": [
    "$D'_{3}(g)=SD_{3}(g)S^{-1}$"
   ]
  },
  {
   "cell_type": "code",
   "execution_count": 4,
   "metadata": {},
   "outputs": [
    {
     "name": "stdout",
     "output_type": "stream",
     "text": [
      "\n",
      "The D'3(a)\n"
     ]
    },
    {
     "data": {
      "image/png": "[encoded data removed]",
      "text/latex": [
       "$$\\left[\\begin{matrix}- \\frac{1}{2} - \\frac{\\sqrt{3} i}{2} & 0 & 0\\\\0 & - \\frac{1}{2} + \\frac{\\sqrt{3} i}{2} & 0\\\\0 & 0 & 1\\end{matrix}\\right]$$"
      ],
      "text/plain": [
       "⎡  1   √3⋅ⅈ               ⎤\n",
       "⎢- ─ - ────      0       0⎥\n",
       "⎢  2    2                 ⎥\n",
       "⎢                         ⎥\n",
       "⎢              1   √3⋅ⅈ   ⎥\n",
       "⎢    0       - ─ + ────  0⎥\n",
       "⎢              2    2     ⎥\n",
       "⎢                         ⎥\n",
       "⎣    0           0       1⎦"
      ]
     },
     "metadata": {},
     "output_type": "display_data"
    },
    {
     "name": "stdout",
     "output_type": "stream",
     "text": [
      "\n",
      "The D'3(b)\n"
     ]
    },
    {
     "data": {
      "image/png": "[encoded data removed]",
      "text/latex": [
       "$$\\left[\\begin{matrix}- \\frac{1}{2} + \\frac{\\sqrt{3} i}{2} & 0 & 0\\\\0 & - \\frac{1}{2} - \\frac{\\sqrt{3} i}{2} & 0\\\\0 & 0 & 1\\end{matrix}\\right]$$"
      ],
      "text/plain": [
       "⎡  1   √3⋅ⅈ               ⎤\n",
       "⎢- ─ + ────      0       0⎥\n",
       "⎢  2    2                 ⎥\n",
       "⎢                         ⎥\n",
       "⎢              1   √3⋅ⅈ   ⎥\n",
       "⎢    0       - ─ - ────  0⎥\n",
       "⎢              2    2     ⎥\n",
       "⎢                         ⎥\n",
       "⎣    0           0       1⎦"
      ]
     },
     "metadata": {},
     "output_type": "display_data"
    },
    {
     "name": "stdout",
     "output_type": "stream",
     "text": [
      "\n",
      "The D'3(e)\n"
     ]
    },
    {
     "data": {
      "image/png": "[encoded data removed]",
      "text/latex": [
       "$$\\left[\\begin{matrix}1 & 0 & 0\\\\0 & 1 & 0\\\\0 & 0 & 1\\end{matrix}\\right]$$"
      ],
      "text/plain": [
       "⎡1  0  0⎤\n",
       "⎢       ⎥\n",
       "⎢0  1  0⎥\n",
       "⎢       ⎥\n",
       "⎣0  0  1⎦"
      ]
     },
     "metadata": {},
     "output_type": "display_data"
    }
   ],
   "source": [
    "\n",
    "#compute the new matrix D'3, use SD(g)S^-1\n",
    "\n",
    "DaiS = Matrix([[sum([Da[i,n]*iSij[n,j]\\\n",
    "                      for n in range(3)]) for j in range(3)] for i in range(3)])\n",
    "Dap = Matrix([[sum([Sij[i,n]*DaiS[n,j]\\\n",
    "                      for n in range(3)]) for j in range(3)] for i in range(3)])\n",
    "\n",
    "print(\"\\nThe D'3(a)\")\n",
    "display(simplify(Dap))\n",
    "\n",
    "DaiS = Matrix([[sum([Db[i,n]*iSij[n,j]\\\n",
    "                      for n in range(3)]) for j in range(3)] for i in range(3)])\n",
    "Dbp = Matrix([[sum([Sij[i,n]*DaiS[n,j]\\\n",
    "                      for n in range(3)]) for j in range(3)] for i in range(3)])\n",
    "\n",
    "print(\"\\nThe D'3(b)\")\n",
    "\n",
    "display(simplify(Dbp))\n",
    "\n",
    "\n",
    "DaiS = Matrix([[sum([De[i,n]*iSij[n,j]\\\n",
    "                      for n in range(3)]) for j in range(3)] for i in range(3)])\n",
    "Dep = Matrix([[sum([Sij[i,n]*DaiS[n,j]\\\n",
    "                      for n in range(3)]) for j in range(3)] for i in range(3)])\n",
    "\n",
    "print(\"\\nThe D'3(e)\")\n",
    "\n",
    "display(simplify(Dep))"
   ]
  },
  {
   "cell_type": "code",
   "execution_count": 5,
   "metadata": {},
   "outputs": [
    {
     "name": "stdout",
     "output_type": "stream",
     "text": [
      "\n",
      " Inverse S\n"
     ]
    },
    {
     "data": {
      "image/png": "[encoded data removed]",
      "text/latex": [
       "$$\\left[\\begin{matrix}0 & - i & i\\\\0 & 1 & 1\\\\1 & 0 & 0\\end{matrix}\\right]$$"
      ],
      "text/plain": [
       "⎡0  -ⅈ  ⅈ⎤\n",
       "⎢        ⎥\n",
       "⎢0  1   1⎥\n",
       "⎢        ⎥\n",
       "⎣1  0   0⎦"
      ]
     },
     "metadata": {},
     "output_type": "display_data"
    },
    {
     "name": "stdout",
     "output_type": "stream",
     "text": [
      "\n",
      " S\n"
     ]
    },
    {
     "data": {
      "image/png": "[encoded data removed]",
      "text/latex": [
       "$$\\left[\\begin{matrix}0 & 0 & 1\\\\\\frac{i}{2} & \\frac{1}{2} & 0\\\\- \\frac{i}{2} & \\frac{1}{2} & 0\\end{matrix}\\right]$$"
      ],
      "text/plain": [
       "⎡ 0    0   1⎤\n",
       "⎢           ⎥\n",
       "⎢ ⅈ         ⎥\n",
       "⎢ ─   1/2  0⎥\n",
       "⎢ 2         ⎥\n",
       "⎢           ⎥\n",
       "⎢-ⅈ         ⎥\n",
       "⎢───  1/2  0⎥\n",
       "⎣ 2         ⎦"
      ]
     },
     "metadata": {},
     "output_type": "display_data"
    },
    {
     "name": "stdout",
     "output_type": "stream",
     "text": [
      "\n",
      "The D'3(a)\n"
     ]
    },
    {
     "data": {
      "image/png": "[encoded data removed]",
      "text/latex": [
       "$$\\left[\\begin{matrix}1 & 0 & 0\\\\0 & - \\frac{1}{2} - \\frac{\\sqrt{3} i}{2} & 0\\\\0 & 0 & - \\frac{1}{2} + \\frac{\\sqrt{3} i}{2}\\end{matrix}\\right]$$"
      ],
      "text/plain": [
       "⎡1      0           0     ⎤\n",
       "⎢                         ⎥\n",
       "⎢     1   √3⋅ⅈ            ⎥\n",
       "⎢0  - ─ - ────      0     ⎥\n",
       "⎢     2    2              ⎥\n",
       "⎢                         ⎥\n",
       "⎢                 1   √3⋅ⅈ⎥\n",
       "⎢0      0       - ─ + ────⎥\n",
       "⎣                 2    2  ⎦"
      ]
     },
     "metadata": {},
     "output_type": "display_data"
    },
    {
     "name": "stdout",
     "output_type": "stream",
     "text": [
      "\n",
      "The S^-1D'3(a)S\n"
     ]
    },
    {
     "data": {
      "image/png": "[encoded data removed]",
      "text/latex": [
       "$$\\left[\\begin{matrix}- \\frac{1}{2} & - \\frac{\\sqrt{3}}{2} & 0\\\\\\frac{\\sqrt{3}}{2} & - \\frac{1}{2} & 0\\\\0 & 0 & 1\\end{matrix}\\right]$$"
      ],
      "text/plain": [
       "⎡      -√3    ⎤\n",
       "⎢-1/2  ────  0⎥\n",
       "⎢       2     ⎥\n",
       "⎢             ⎥\n",
       "⎢ √3          ⎥\n",
       "⎢ ──   -1/2  0⎥\n",
       "⎢ 2           ⎥\n",
       "⎢             ⎥\n",
       "⎣ 0     0    1⎦"
      ]
     },
     "metadata": {},
     "output_type": "display_data"
    }
   ],
   "source": [
    "P, D = Da.diagonalize()\n",
    "print(\"\\n Inverse S\")\n",
    "display(P)\n",
    "\n",
    "print(\"\\n S\")\n",
    "display(simplify(P**-1))\n",
    "\n",
    "print(\"\\nThe D'3(a)\")\n",
    "display(D)\n",
    "\n",
    "print(\"\\nThe S^-1D'3(a)S\")\n",
    "display(simplify((P*D*P**-1)))"
   ]
  },
  {
   "cell_type": "code",
   "execution_count": 10,
   "metadata": {},
   "outputs": [
    {
     "data": {
      "image/png": "[encoded data removed]",
      "text/latex": [
       "$$\\left[\\begin{matrix}0 & 1 & 0 & 0\\\\-1 & 0 & 1 & 0\\\\1 & 0 & 1 & 0\\\\0 & 0 & 0 & 1\\end{matrix}\\right]$$"
      ],
      "text/plain": [
       "⎡0   1  0  0⎤\n",
       "⎢           ⎥\n",
       "⎢-1  0  1  0⎥\n",
       "⎢           ⎥\n",
       "⎢1   0  1  0⎥\n",
       "⎢           ⎥\n",
       "⎣0   0  0  1⎦"
      ]
     },
     "metadata": {},
     "output_type": "display_data"
    },
    {
     "data": {
      "image/png": "[encoded data removed]",
      "text/latex": [
       "$$\\left[\\begin{matrix}- \\frac{3}{4} & 0 & 0 & 0\\\\0 & \\frac{1}{4} & 0 & 0\\\\0 & 0 & \\frac{1}{4} & 0\\\\0 & 0 & 0 & \\frac{1}{4}\\end{matrix}\\right]$$"
      ],
      "text/plain": [
       "⎡-3/4   0    0    0 ⎤\n",
       "⎢                   ⎥\n",
       "⎢ 0    1/4   0    0 ⎥\n",
       "⎢                   ⎥\n",
       "⎢ 0     0   1/4   0 ⎥\n",
       "⎢                   ⎥\n",
       "⎣ 0     0    0   1/4⎦"
      ]
     },
     "metadata": {},
     "output_type": "display_data"
    }
   ],
   "source": [
    "SS=Matrix([[Rational(1/4.0),0,0,0],\\\n",
    "           [0,-Rational(1/4.0),Rational(1/2.0),0],\\\n",
    "           [0,Rational(1/2.0),-Rational(1/4.0),0],\\\n",
    "           [0,0,0,Rational(1/4.0)]])\n",
    "P, D = SS.diagonalize()\n",
    "display(P)\n",
    "display(D)"
   ]
  }
 ],
 "metadata": {
  "anaconda-cloud": {},
  "kernelspec": {
   "display_name": "Python 3",
   "language": "python",
   "name": "python3"
  },
  "language_info": {
   "codemirror_mode": {
    "name": "ipython",
    "version": 3
   },
   "file_extension": ".py",
   "mimetype": "text/x-python",
   "name": "python",
   "nbconvert_exporter": "python",
   "pygments_lexer": "ipython3",
   "version": "3.7.1"
  }
 },
 "nbformat": 4,
 "nbformat_minor": 1
}
