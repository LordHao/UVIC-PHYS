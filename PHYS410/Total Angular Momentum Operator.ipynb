{
 "cells": [
  {
   "cell_type": "code",
   "execution_count": 1,
   "metadata": {},
   "outputs": [
    {
     "name": "stdout",
     "output_type": "stream",
     "text": [
      "Populating the interactive namespace from numpy and matplotlib\n"
     ]
    }
   ],
   "source": [
    "%pylab inline\n",
    "from sympy import *\n",
    "init_printing()"
   ]
  },
  {
   "cell_type": "markdown",
   "metadata": {},
   "source": [
    "$ \\langle j,m'|J_{z}|j,m \\rangle=m\\delta_{m'm}$"
   ]
  },
  {
   "cell_type": "code",
   "execution_count": 3,
   "metadata": {},
   "outputs": [
    {
     "name": "stdout",
     "output_type": "stream",
     "text": [
      "\n",
      " Jz:\n"
     ]
    },
    {
     "data": {
      "image/png": "[encoded data removed]",
      "text/latex": [
       "$$\\left[\\begin{matrix}\\frac{1}{2} & 0\\\\0 & - \\frac{1}{2}\\end{matrix}\\right]$$"
      ],
      "text/plain": [
       "⎡1/2   0  ⎤\n",
       "⎢         ⎥\n",
       "⎣ 0   -1/2⎦"
      ]
     },
     "metadata": {},
     "output_type": "display_data"
    }
   ],
   "source": [
    "J=0.5\n",
    "n=int(2*J+1)\n",
    "m=linspace(J,-J,n)\n",
    "Jz = Matrix([[0 for i in range(n)] for j in range(n)])\n",
    "for i in range(n):\n",
    "    for j in range(n):\n",
    "        if j==i:\n",
    "            Jz[i,j]=Rational(m[i])\n",
    "        else:\n",
    "            pass\n",
    "        \n",
    "print(\"\\n Jz:\")\n",
    "display(simplify(Jz))"
   ]
  },
  {
   "cell_type": "markdown",
   "metadata": {},
   "source": [
    "$\\langle j,m'|J_{+}|j,m \\rangle=\\sqrt{j(j+1)-m(m+1)}\\delta_{m'm+1}$\n",
    "\n",
    "$J_{-}=J_{+}^{\\dagger}$\n"
   ]
  },
  {
   "cell_type": "code",
   "execution_count": 4,
   "metadata": {},
   "outputs": [
    {
     "name": "stdout",
     "output_type": "stream",
     "text": [
      "\n",
      " J+:\n"
     ]
    },
    {
     "data": {
      "image/png": "[encoded data removed]",
      "text/latex": [
       "$$\\left[\\begin{matrix}0 & 1\\\\0 & 0\\end{matrix}\\right]$$"
      ],
      "text/plain": [
       "⎡0  1⎤\n",
       "⎢    ⎥\n",
       "⎣0  0⎦"
      ]
     },
     "metadata": {},
     "output_type": "display_data"
    },
    {
     "name": "stdout",
     "output_type": "stream",
     "text": [
      "\n",
      " J-:\n"
     ]
    },
    {
     "data": {
      "image/png": "[encoded data removed]",
      "text/latex": [
       "$$\\left[\\begin{matrix}0 & 0\\\\1 & 0\\end{matrix}\\right]$$"
      ],
      "text/plain": [
       "⎡0  0⎤\n",
       "⎢    ⎥\n",
       "⎣1  0⎦"
      ]
     },
     "metadata": {},
     "output_type": "display_data"
    }
   ],
   "source": [
    "#Jp is J+\n",
    "#Jm is J_\n",
    "Jp = Matrix([[0 for i in range(n)] for j in range(n)])\n",
    "for i in range(n):\n",
    "    for j in range(n):\n",
    "        if j==i+1:\n",
    "            Jp[i,j]=sqrt(Rational(J*(J+1)-m[j]*(m[j]+1)))\n",
    "        else:\n",
    "            pass\n",
    "        \n",
    "print(\"\\n J+:\")\n",
    "display(simplify(Jp))\n",
    "\n",
    "print(\"\\n J-:\")\n",
    "Jm=Jp.H\n",
    "display(simplify(Jm))"
   ]
  },
  {
   "cell_type": "markdown",
   "metadata": {},
   "source": [
    "$J_{+}=J_{x}+iJ_{y}$\n",
    "\n",
    "$J_{-}=J_{x}-iJ_{y}$\n",
    "\n",
    "$J_x=\\frac{1}{2}(J_{+}+J_{-})$\n",
    "\n",
    "$J_y=\\frac{1}{2i}(J_{+}-J_{-})$"
   ]
  },
  {
   "cell_type": "code",
   "execution_count": 5,
   "metadata": {},
   "outputs": [
    {
     "name": "stdout",
     "output_type": "stream",
     "text": [
      "\n",
      " Jx:\n"
     ]
    },
    {
     "data": {
      "image/png": "[encoded data removed]",
      "text/latex": [
       "$$\\left[\\begin{matrix}0 & \\frac{1}{2}\\\\\\frac{1}{2} & 0\\end{matrix}\\right]$$"
      ],
      "text/plain": [
       "⎡ 0   1/2⎤\n",
       "⎢        ⎥\n",
       "⎣1/2   0 ⎦"
      ]
     },
     "metadata": {},
     "output_type": "display_data"
    },
    {
     "name": "stdout",
     "output_type": "stream",
     "text": [
      "\n",
      " Jy:\n"
     ]
    },
    {
     "data": {
      "image/png": "[encoded data removed]",
      "text/latex": [
       "$$\\left[\\begin{matrix}0 & - \\frac{i}{2}\\\\\\frac{i}{2} & 0\\end{matrix}\\right]$$"
      ],
      "text/plain": [
       "⎡   -ⅈ ⎤\n",
       "⎢0  ───⎥\n",
       "⎢    2 ⎥\n",
       "⎢      ⎥\n",
       "⎢ⅈ     ⎥\n",
       "⎢─   0 ⎥\n",
       "⎣2     ⎦"
      ]
     },
     "metadata": {},
     "output_type": "display_data"
    }
   ],
   "source": [
    "print(\"\\n Jx:\")\n",
    "Jx=(Jp+Jm)/2\n",
    "display(simplify(Jx))\n",
    "\n",
    "print(\"\\n Jy:\")\n",
    "Jy=Rational(-1.0/2)*I*(Jp-Jm)\n",
    "display(simplify(Jy))"
   ]
  },
  {
   "cell_type": "markdown",
   "metadata": {},
   "source": [
    "$[J_{k},J_{l}]=i\\epsilon_{klm}J_{m}$"
   ]
  },
  {
   "cell_type": "code",
   "execution_count": 6,
   "metadata": {},
   "outputs": [
    {
     "name": "stdout",
     "output_type": "stream",
     "text": [
      "\n",
      " -i[jx,jy]:\n"
     ]
    },
    {
     "data": {
      "image/png": "[encoded data removed]",
      "text/latex": [
       "$$\\left[\\begin{matrix}\\frac{1}{2} & 0\\\\0 & - \\frac{1}{2}\\end{matrix}\\right]$$"
      ],
      "text/plain": [
       "⎡1/2   0  ⎤\n",
       "⎢         ⎥\n",
       "⎣ 0   -1/2⎦"
      ]
     },
     "metadata": {},
     "output_type": "display_data"
    },
    {
     "name": "stdout",
     "output_type": "stream",
     "text": [
      "\n",
      "\n",
      "\n",
      " -i[jy,jz]:\n"
     ]
    },
    {
     "data": {
      "image/png": "[encoded data removed]",
      "text/latex": [
       "$$\\left[\\begin{matrix}0 & \\frac{1}{2}\\\\\\frac{1}{2} & 0\\end{matrix}\\right]$$"
      ],
      "text/plain": [
       "⎡ 0   1/2⎤\n",
       "⎢        ⎥\n",
       "⎣1/2   0 ⎦"
      ]
     },
     "metadata": {},
     "output_type": "display_data"
    },
    {
     "name": "stdout",
     "output_type": "stream",
     "text": [
      "\n",
      "\n",
      "\n",
      " -i[jz,jx]:\n"
     ]
    },
    {
     "data": {
      "image/png": "[encoded data removed]",
      "text/latex": [
       "$$\\left[\\begin{matrix}0 & - \\frac{i}{2}\\\\\\frac{i}{2} & 0\\end{matrix}\\right]$$"
      ],
      "text/plain": [
       "⎡   -ⅈ ⎤\n",
       "⎢0  ───⎥\n",
       "⎢    2 ⎥\n",
       "⎢      ⎥\n",
       "⎢ⅈ     ⎥\n",
       "⎢─   0 ⎥\n",
       "⎣2     ⎦"
      ]
     },
     "metadata": {},
     "output_type": "display_data"
    }
   ],
   "source": [
    "ixy =-I*(Matrix([[sum([Jx[i,k]*Jy[k,j]\\\n",
    "                      for k in range(n)]) for j in range(n)] for i in range(n)])-Matrix([[sum([Jy[i,k]*Jx[k,j]\\\n",
    "                      for k in range(n)]) for j in range(n)] for i in range(n)]))\n",
    "print(\"\\n -i[jx,jy]:\")\n",
    "display(ixy)\n",
    "print(\"\\n\")\n",
    "\n",
    "iyz =-I*(Matrix([[sum([Jy[i,k]*Jz[k,j]\\\n",
    "                      for k in range(n)]) for j in range(n)] for i in range(n)])-Matrix([[sum([Jz[i,k]*Jy[k,j]\\\n",
    "                      for k in range(n)]) for j in range(n)] for i in range(n)]))\n",
    "print(\"\\n -i[jy,jz]:\")\n",
    "display(iyz)\n",
    "print(\"\\n\")\n",
    "\n",
    "izx =-I*(Matrix([[sum([Jz[i,k]*Jx[k,j]\\\n",
    "                      for k in range(n)]) for j in range(n)] for i in range(n)])-Matrix([[sum([Jx[i,k]*Jz[k,j]\\\n",
    "                      for k in range(n)]) for j in range(n)] for i in range(n)]))\n",
    "print(\"\\n -i[jz,jx]:\")\n",
    "display(izx)"
   ]
  },
  {
   "cell_type": "code",
   "execution_count": 8,
   "metadata": {
    "scrolled": false
   },
   "outputs": [
    {
     "name": "stdout",
     "output_type": "stream",
     "text": [
      "\n",
      " J+:\n"
     ]
    },
    {
     "data": {
      "image/png": "[encoded data removed]",
      "text/latex": [
       "$$\\left[\\begin{matrix}0 & 2 & 0 & 0 & 0\\\\0 & 0 & \\sqrt{6} & 0 & 0\\\\0 & 0 & 0 & \\sqrt{6} & 0\\\\0 & 0 & 0 & 0 & 2\\\\0 & 0 & 0 & 0 & 0\\end{matrix}\\right]$$"
      ],
      "text/plain": [
       "⎡0  2  0   0   0⎤\n",
       "⎢               ⎥\n",
       "⎢0  0  √6  0   0⎥\n",
       "⎢               ⎥\n",
       "⎢0  0  0   √6  0⎥\n",
       "⎢               ⎥\n",
       "⎢0  0  0   0   2⎥\n",
       "⎢               ⎥\n",
       "⎣0  0  0   0   0⎦"
      ]
     },
     "metadata": {},
     "output_type": "display_data"
    },
    {
     "name": "stdout",
     "output_type": "stream",
     "text": [
      "\n",
      " J-:\n"
     ]
    },
    {
     "data": {
      "image/png": "[encoded data removed]",
      "text/latex": [
       "$$\\left[\\begin{matrix}0 & 0 & 0 & 0 & 0\\\\2 & 0 & 0 & 0 & 0\\\\0 & \\sqrt{6} & 0 & 0 & 0\\\\0 & 0 & \\sqrt{6} & 0 & 0\\\\0 & 0 & 0 & 2 & 0\\end{matrix}\\right]$$"
      ],
      "text/plain": [
       "⎡0  0   0   0  0⎤\n",
       "⎢               ⎥\n",
       "⎢2  0   0   0  0⎥\n",
       "⎢               ⎥\n",
       "⎢0  √6  0   0  0⎥\n",
       "⎢               ⎥\n",
       "⎢0  0   √6  0  0⎥\n",
       "⎢               ⎥\n",
       "⎣0  0   0   2  0⎦"
      ]
     },
     "metadata": {},
     "output_type": "display_data"
    },
    {
     "name": "stdout",
     "output_type": "stream",
     "text": [
      "\n",
      " Jx:\n"
     ]
    },
    {
     "data": {
      "image/png": "[encoded data removed]",
      "text/latex": [
       "$$\\left[\\begin{matrix}0 & 1 & 0 & 0 & 0\\\\1 & 0 & \\frac{\\sqrt{6}}{2} & 0 & 0\\\\0 & \\frac{\\sqrt{6}}{2} & 0 & \\frac{\\sqrt{6}}{2} & 0\\\\0 & 0 & \\frac{\\sqrt{6}}{2} & 0 & 1\\\\0 & 0 & 0 & 1 & 0\\end{matrix}\\right]$$"
      ],
      "text/plain": [
       "⎡0  1   0   0   0⎤\n",
       "⎢                ⎥\n",
       "⎢       √6       ⎥\n",
       "⎢1  0   ──  0   0⎥\n",
       "⎢       2        ⎥\n",
       "⎢                ⎥\n",
       "⎢   √6      √6   ⎥\n",
       "⎢0  ──  0   ──  0⎥\n",
       "⎢   2       2    ⎥\n",
       "⎢                ⎥\n",
       "⎢       √6       ⎥\n",
       "⎢0  0   ──  0   1⎥\n",
       "⎢       2        ⎥\n",
       "⎢                ⎥\n",
       "⎣0  0   0   1   0⎦"
      ]
     },
     "metadata": {},
     "output_type": "display_data"
    },
    {
     "name": "stdout",
     "output_type": "stream",
     "text": [
      "\n",
      " Jy:\n"
     ]
    },
    {
     "data": {
      "image/png": "[encoded data removed]",
      "text/latex": [
       "$$\\left[\\begin{matrix}0 & - i & 0 & 0 & 0\\\\i & 0 & - \\frac{\\sqrt{6} i}{2} & 0 & 0\\\\0 & \\frac{\\sqrt{6} i}{2} & 0 & - \\frac{\\sqrt{6} i}{2} & 0\\\\0 & 0 & \\frac{\\sqrt{6} i}{2} & 0 & - i\\\\0 & 0 & 0 & i & 0\\end{matrix}\\right]$$"
      ],
      "text/plain": [
       "⎡0   -ⅈ     0       0     0 ⎤\n",
       "⎢                           ⎥\n",
       "⎢         -√6⋅ⅈ             ⎥\n",
       "⎢ⅈ   0    ──────    0     0 ⎥\n",
       "⎢           2               ⎥\n",
       "⎢                           ⎥\n",
       "⎢   √6⋅ⅈ          -√6⋅ⅈ     ⎥\n",
       "⎢0  ────    0     ──────  0 ⎥\n",
       "⎢    2              2       ⎥\n",
       "⎢                           ⎥\n",
       "⎢          √6⋅ⅈ             ⎥\n",
       "⎢0   0     ────     0     -ⅈ⎥\n",
       "⎢           2               ⎥\n",
       "⎢                           ⎥\n",
       "⎣0   0      0       ⅈ     0 ⎦"
      ]
     },
     "metadata": {},
     "output_type": "display_data"
    },
    {
     "name": "stdout",
     "output_type": "stream",
     "text": [
      "\n",
      " Jz:\n"
     ]
    },
    {
     "data": {
      "image/png": "[encoded data removed]",
      "text/latex": [
       "$$\\left[\\begin{matrix}2 & 0 & 0 & 0 & 0\\\\0 & 1 & 0 & 0 & 0\\\\0 & 0 & 0 & 0 & 0\\\\0 & 0 & 0 & -1 & 0\\\\0 & 0 & 0 & 0 & -2\\end{matrix}\\right]$$"
      ],
      "text/plain": [
       "⎡2  0  0  0   0 ⎤\n",
       "⎢               ⎥\n",
       "⎢0  1  0  0   0 ⎥\n",
       "⎢               ⎥\n",
       "⎢0  0  0  0   0 ⎥\n",
       "⎢               ⎥\n",
       "⎢0  0  0  -1  0 ⎥\n",
       "⎢               ⎥\n",
       "⎣0  0  0  0   -2⎦"
      ]
     },
     "metadata": {},
     "output_type": "display_data"
    }
   ],
   "source": [
    "J=2\n",
    "n=int(2*J+1)\n",
    "m=linspace(J,-J,n)\n",
    "\n",
    "Jp = Matrix([[0 for i in range(n)] for j in range(n)])\n",
    "for i in range(n):\n",
    "    for j in range(n):\n",
    "        if j==i+1:\n",
    "            Jp[i,j]=sqrt(Rational(J*(J+1)-m[j]*(m[j]+1)))\n",
    "        else:\n",
    "            pass\n",
    "        \n",
    "print(\"\\n J+:\")\n",
    "display(simplify(Jp))\n",
    "\n",
    "print(\"\\n J-:\")\n",
    "Jm=Jp.H\n",
    "display(simplify(Jm))\n",
    "\n",
    "print(\"\\n Jx:\")\n",
    "Jx=(Jp+Jm)/2\n",
    "display(simplify(Jx))\n",
    "\n",
    "print(\"\\n Jy:\")\n",
    "Jy=simplify(Rational(-1.0/2)*I*(Jp-Jm))\n",
    "display(simplify(Jy))\n",
    "\n",
    "Jz = Matrix([[0 for i in range(n)] for j in range(n)])\n",
    "for i in range(n):\n",
    "    for j in range(n):\n",
    "        if j==i:\n",
    "            Jz[i,j]=Rational(m[i])\n",
    "        else:\n",
    "            pass\n",
    "        \n",
    "print(\"\\n Jz:\")\n",
    "display(simplify(Jz))"
   ]
  }
 ],
 "metadata": {
  "anaconda-cloud": {},
  "kernelspec": {
   "display_name": "Python 3",
   "language": "python",
   "name": "python3"
  },
  "language_info": {
   "codemirror_mode": {
    "name": "ipython",
    "version": 3
   },
   "file_extension": ".py",
   "mimetype": "text/x-python",
   "name": "python",
   "nbconvert_exporter": "python",
   "pygments_lexer": "ipython3",
   "version": "3.7.1"
  }
 },
 "nbformat": 4,
 "nbformat_minor": 1
}
