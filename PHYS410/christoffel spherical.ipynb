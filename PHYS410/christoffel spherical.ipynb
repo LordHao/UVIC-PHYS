{
 "cells": [
  {
   "cell_type": "markdown",
   "metadata": {},
   "source": [
    "$\\frac{\\partial\\hat{x}_{\\alpha}}{\\partial x^{\\beta}}=\\Gamma^{\\lambda}_{\\alpha\\beta}\\hat{x}_{\\lambda}$\n",
    "\n",
    "$g(\\frac{\\partial\\hat{x}_{\\alpha}}{\\partial x^{\\beta}},\\hat{x}_{\\rho})=g(\\Gamma^{\\lambda}_{\\alpha\\beta}\\hat{x}_{\\lambda},\\hat{x}_{\\rho})$\n",
    "\n",
    "$g(\\frac{\\partial\\hat{x}_{\\alpha}}{\\partial\n",
    "x^{\\beta}},\\hat{x}_{\\rho})=\\Gamma^{\\lambda}_{\\alpha\\beta}g(\\hat{x}_{\\lambda},\\hat{x}_{\\rho})$\n",
    "\n",
    "$g(\\frac{\\partial\\hat{x}_{\\alpha}}{\\partial x^{\\beta}},\\hat{x}_{\\rho})=\\Gamma^{\\lambda}_{\\alpha\\beta}g_{\\lambda \\rho}$\n",
    "\n",
    "$g(\\frac{\\partial\\hat{x}_{\\alpha}}{\\partial x^{\\beta}},\\hat{x}_{\\rho})g^{\\mu \\rho}=\\Gamma^{\\lambda}_{\\alpha\\beta}g_{\\lambda \\rho} g^{\\mu \\rho}$\n",
    "\n",
    "$g(\\frac{\\partial\\hat{x}_{\\alpha}}{\\partial x^{\\beta}},\\hat{x}_{\\rho})g^{\\mu \\rho}=\\Gamma^{\\lambda}_{\\alpha\\beta} \\delta^{\\mu}_{\\lambda}$\n",
    "\n",
    "$\\Gamma^{\\mu}_{\\alpha\\beta}=g(\\frac{\\partial\\hat{x}_{\\alpha}}{\\partial x^{\\beta}},\\hat{x}_{\\rho})g^{\\mu \\rho}$\n",
    "\n",
    "$\\hat{x}_{\\alpha}=\\tilde{\\Lambda}^{i}_{\\alpha} \\hat{\\xi}_{i}=\\frac{\\partial \\xi^{i}}{\\partial\n",
    "x^{\\alpha}}\\hat{\\xi}_{i} \\hspace{70pt} \\hat{\\xi}_{i}={\\Lambda}^{\\sigma}_{i}\\hat{x}_{\\sigma}=\\frac{\\partial x^{\\sigma}}{\\partial {\\xi}^{i}}\\hat{x}_{\\sigma}$\n",
    "\n",
    "$\\partial_{\\beta}\\hat{x}_{\\alpha}=\\partial_{\\beta}(\\tilde{\\Lambda}^{i}_{\\alpha} \\hat{\\xi}_{i})=(\\partial_{\\beta}\\tilde{\\Lambda}^{i}_{\\alpha})\\hat{\\xi}_{i}+\\tilde{\\Lambda}^{i}_{\\alpha}\\underbrace{\\partial_{\\beta}\\hat{\\xi}_{i}}_\\text{0}=(\\partial_{\\beta}\\tilde{\\Lambda}^{i}_{\\alpha})\\hat{\\xi}_{i}=(\\partial_{\\beta}\\tilde{\\Lambda}^{i}_{\\alpha}){\\Lambda}^{\\sigma}_{i}\\hat{x}_{\\sigma}$\n",
    "\n",
    "$g(\\frac{\\partial\\hat{x}_{\\alpha}}{\\partial x^{\\beta}},\\hat{x}_{\\rho})g^{\\mu \\rho}=g((\\partial_{\\beta}\\tilde{\\Lambda}^{i}_{\\alpha}){\\Lambda}^{\\sigma}_{i}\\hat{x}_{\\sigma},\\hat{x}_{\\rho})g^{\\mu \\rho}=(\\partial_{\\beta}\\tilde{\\Lambda}^{i}_{\\alpha}){\\Lambda}^{\\sigma}_{i}g(\\hat{x}_{\\sigma},\\hat{x}_{\\rho})g^{\\mu \\rho}=(\\partial_{\\beta}\\tilde{\\Lambda}^{i}_{\\alpha}){\\Lambda}^{\\sigma}_{i}g_{\\sigma \\rho}g^{\\mu \\rho}=(\\partial_{\\beta}\\tilde{\\Lambda}^{i}_{\\alpha}){\\Lambda}^{\\sigma}_{i}\\delta^{\\mu}_{\\sigma}=\\Lambda^{\\mu}_{i}\\partial_{\\beta}\\tilde{\\Lambda}^{i}_{\\alpha}$\n",
    "\n",
    "$\\Gamma^{\\mu}_{\\alpha\\beta}=\\Lambda^{\\mu}_{i}\\partial_{\\beta}\\tilde{\\Lambda}^{i}_{\\alpha} $\n",
    "\n",
    "$\\Gamma^{\\mu}_{\\alpha\\beta}=\\frac{\\partial x^{\\mu}}{\\partial \\xi^{i}}\\frac{\\partial^2 \\xi^{i}}{\\partial x^{\\alpha}\\partial x^{\\beta}}$"
   ]
  },
  {
   "cell_type": "code",
   "execution_count": 1,
   "metadata": {},
   "outputs": [
    {
     "name": "stdout",
     "output_type": "stream",
     "text": [
      "Populating the interactive namespace from numpy and matplotlib\n"
     ]
    }
   ],
   "source": [
    "%pylab inline\n",
    "from sympy import *\n",
    "init_printing()"
   ]
  },
  {
   "cell_type": "code",
   "execution_count": 2,
   "metadata": {},
   "outputs": [
    {
     "name": "stdout",
     "output_type": "stream",
     "text": [
      "\n",
      "The T^i_j\n"
     ]
    },
    {
     "data": {
      "image/png": "[encoded data removed]",
      "text/latex": [
       "$$\\left[\\begin{matrix}\\sin{\\left (\\theta \\right )} \\cos{\\left (\\phi \\right )} & r \\cos{\\left (\\phi \\right )} \\cos{\\left (\\theta \\right )} & - r \\sin{\\left (\\phi \\right )} \\sin{\\left (\\theta \\right )}\\\\\\sin{\\left (\\phi \\right )} \\sin{\\left (\\theta \\right )} & r \\sin{\\left (\\phi \\right )} \\cos{\\left (\\theta \\right )} & r \\sin{\\left (\\theta \\right )} \\cos{\\left (\\phi \\right )}\\\\\\cos{\\left (\\theta \\right )} & - r \\sin{\\left (\\theta \\right )} & 0\\end{matrix}\\right]$$"
      ],
      "text/plain": [
       "⎡sin(θ)⋅cos(φ)  r⋅cos(φ)⋅cos(θ)  -r⋅sin(φ)⋅sin(θ)⎤\n",
       "⎢                                                ⎥\n",
       "⎢sin(φ)⋅sin(θ)  r⋅sin(φ)⋅cos(θ)  r⋅sin(θ)⋅cos(φ) ⎥\n",
       "⎢                                                ⎥\n",
       "⎣   cos(θ)         -r⋅sin(θ)            0        ⎦"
      ]
     },
     "metadata": {},
     "output_type": "display_data"
    },
    {
     "name": "stdout",
     "output_type": "stream",
     "text": [
      "\n",
      "The inverse T^i_j matrix\n"
     ]
    },
    {
     "data": {
      "image/png": "[encoded data removed]",
      "text/latex": [
       "$$\\left[\\begin{matrix}\\sin{\\left (\\theta \\right )} \\cos{\\left (\\phi \\right )} & \\sin{\\left (\\phi \\right )} \\sin{\\left (\\theta \\right )} & \\cos{\\left (\\theta \\right )}\\\\\\frac{\\cos{\\left (\\phi \\right )} \\cos{\\left (\\theta \\right )}}{r} & \\frac{\\sin{\\left (\\phi \\right )} \\cos{\\left (\\theta \\right )}}{r} & - \\frac{\\sin{\\left (\\theta \\right )}}{r}\\\\- \\frac{\\sin{\\left (\\phi \\right )}}{r \\sin{\\left (\\theta \\right )}} & \\frac{\\cos{\\left (\\phi \\right )}}{r \\sin{\\left (\\theta \\right )}} & 0\\end{matrix}\\right]$$"
      ],
      "text/plain": [
       "⎡sin(θ)⋅cos(φ)  sin(φ)⋅sin(θ)   cos(θ) ⎤\n",
       "⎢                                      ⎥\n",
       "⎢cos(φ)⋅cos(θ)  sin(φ)⋅cos(θ)  -sin(θ) ⎥\n",
       "⎢─────────────  ─────────────  ────────⎥\n",
       "⎢      r              r           r    ⎥\n",
       "⎢                                      ⎥\n",
       "⎢  -sin(φ)         cos(φ)              ⎥\n",
       "⎢  ────────       ────────        0    ⎥\n",
       "⎣  r⋅sin(θ)       r⋅sin(θ)             ⎦"
      ]
     },
     "metadata": {},
     "output_type": "display_data"
    }
   ],
   "source": [
    "r, t, p = symbols('r theta phi', real=True)\n",
    "\n",
    "f  = [r*sin(t)*cos(p), r*sin(t)*sin(p),r*cos(t)]\n",
    "fr = [diff(fi, r) for fi in f]\n",
    "ft = [diff(fi, t) for fi in f]\n",
    "fp = [diff(fi, p) for fi in f]\n",
    "T_ij = Matrix([fr,ft,fp])\n",
    "\n",
    "print(\"\\nThe T^i_j\")\n",
    "Tij=transpose(T_ij)\n",
    "display(Tij)\n",
    "\n",
    "print(\"\\nThe inverse T^i_j matrix\")\n",
    "iTij=simplify(Tij**-1)\n",
    "display(iTij)"
   ]
  },
  {
   "cell_type": "code",
   "execution_count": 3,
   "metadata": {},
   "outputs": [
    {
     "name": "stdout",
     "output_type": "stream",
     "text": [
      "\n",
      "partial T^i_j wrt r\n"
     ]
    },
    {
     "data": {
      "image/png": "[encoded data removed]",
      "text/latex": [
       "$$\\left[\\begin{matrix}0 & \\cos{\\left (\\phi \\right )} \\cos{\\left (\\theta \\right )} & - \\sin{\\left (\\phi \\right )} \\sin{\\left (\\theta \\right )}\\\\0 & \\sin{\\left (\\phi \\right )} \\cos{\\left (\\theta \\right )} & \\sin{\\left (\\theta \\right )} \\cos{\\left (\\phi \\right )}\\\\0 & - \\sin{\\left (\\theta \\right )} & 0\\end{matrix}\\right]$$"
      ],
      "text/plain": [
       "⎡0  cos(φ)⋅cos(θ)  -sin(φ)⋅sin(θ)⎤\n",
       "⎢                                ⎥\n",
       "⎢0  sin(φ)⋅cos(θ)  sin(θ)⋅cos(φ) ⎥\n",
       "⎢                                ⎥\n",
       "⎣0     -sin(θ)           0       ⎦"
      ]
     },
     "metadata": {},
     "output_type": "display_data"
    },
    {
     "name": "stdout",
     "output_type": "stream",
     "text": [
      "\n",
      "partial T^i_j wrt θ\n"
     ]
    },
    {
     "data": {
      "image/png": "[encoded data removed]",
      "text/latex": [
       "$$\\left[\\begin{matrix}\\cos{\\left (\\phi \\right )} \\cos{\\left (\\theta \\right )} & - r \\sin{\\left (\\theta \\right )} \\cos{\\left (\\phi \\right )} & - r \\sin{\\left (\\phi \\right )} \\cos{\\left (\\theta \\right )}\\\\\\sin{\\left (\\phi \\right )} \\cos{\\left (\\theta \\right )} & - r \\sin{\\left (\\phi \\right )} \\sin{\\left (\\theta \\right )} & r \\cos{\\left (\\phi \\right )} \\cos{\\left (\\theta \\right )}\\\\- \\sin{\\left (\\theta \\right )} & - r \\cos{\\left (\\theta \\right )} & 0\\end{matrix}\\right]$$"
      ],
      "text/plain": [
       "⎡cos(φ)⋅cos(θ)  -r⋅sin(θ)⋅cos(φ)  -r⋅sin(φ)⋅cos(θ)⎤\n",
       "⎢                                                 ⎥\n",
       "⎢sin(φ)⋅cos(θ)  -r⋅sin(φ)⋅sin(θ)  r⋅cos(φ)⋅cos(θ) ⎥\n",
       "⎢                                                 ⎥\n",
       "⎣   -sin(θ)        -r⋅cos(θ)             0        ⎦"
      ]
     },
     "metadata": {},
     "output_type": "display_data"
    },
    {
     "name": "stdout",
     "output_type": "stream",
     "text": [
      "\n",
      "partial T^i_j wrt φ\n"
     ]
    },
    {
     "data": {
      "image/png": "[encoded data removed]",
      "text/latex": [
       "$$\\left[\\begin{matrix}- \\sin{\\left (\\phi \\right )} \\sin{\\left (\\theta \\right )} & - r \\sin{\\left (\\phi \\right )} \\cos{\\left (\\theta \\right )} & - r \\sin{\\left (\\theta \\right )} \\cos{\\left (\\phi \\right )}\\\\\\sin{\\left (\\theta \\right )} \\cos{\\left (\\phi \\right )} & r \\cos{\\left (\\phi \\right )} \\cos{\\left (\\theta \\right )} & - r \\sin{\\left (\\phi \\right )} \\sin{\\left (\\theta \\right )}\\\\0 & 0 & 0\\end{matrix}\\right]$$"
      ],
      "text/plain": [
       "⎡-sin(φ)⋅sin(θ)  -r⋅sin(φ)⋅cos(θ)  -r⋅sin(θ)⋅cos(φ)⎤\n",
       "⎢                                                  ⎥\n",
       "⎢sin(θ)⋅cos(φ)   r⋅cos(φ)⋅cos(θ)   -r⋅sin(φ)⋅sin(θ)⎥\n",
       "⎢                                                  ⎥\n",
       "⎣      0                0                 0        ⎦"
      ]
     },
     "metadata": {},
     "output_type": "display_data"
    }
   ],
   "source": [
    "print(\"\\npartial T^i_j wrt r\")\n",
    "Tijr = Matrix([[diff(Tij[i,j], r) for j in range(3)] for i in range(3)])\n",
    "display(Tijr)\n",
    "\n",
    "print(\"\\npartial T^i_j wrt θ\")\n",
    "Tijt = Matrix([[diff(Tij[i,j], t) for j in range(3)] for i in range(3)])\n",
    "display(Tijt)\n",
    "\n",
    "print(\"\\npartial T^i_j wrt φ\")\n",
    "Tijp = Matrix([[diff(Tij[i,j], p) for j in range(3)] for i in range(3)])\n",
    "display(Tijp)"
   ]
  },
  {
   "cell_type": "code",
   "execution_count": 4,
   "metadata": {},
   "outputs": [
    {
     "name": "stdout",
     "output_type": "stream",
     "text": [
      "\n",
      "Christoffel [Γ^r_ij]\n"
     ]
    },
    {
     "data": {
      "image/png": "[encoded data removed]",
      "text/latex": [
       "$$\\left[\\begin{matrix}0 & 0 & 0\\\\0 & - r & 0\\\\0 & 0 & - r \\sin^{2}{\\left (\\theta \\right )}\\end{matrix}\\right]$$"
      ],
      "text/plain": [
       "⎡0  0       0     ⎤\n",
       "⎢                 ⎥\n",
       "⎢0  -r      0     ⎥\n",
       "⎢                 ⎥\n",
       "⎢             2   ⎥\n",
       "⎣0  0   -r⋅sin (θ)⎦"
      ]
     },
     "metadata": {},
     "output_type": "display_data"
    },
    {
     "name": "stdout",
     "output_type": "stream",
     "text": [
      "\n",
      "Christoffel [Γ^θ_ij]\n"
     ]
    },
    {
     "data": {
      "image/png": "[encoded data removed]",
      "text/latex": [
       "$$\\left[\\begin{matrix}0 & \\frac{1}{r} & 0\\\\\\frac{1}{r} & 0 & 0\\\\0 & 0 & - \\frac{\\sin{\\left (2 \\theta \\right )}}{2}\\end{matrix}\\right]$$"
      ],
      "text/plain": [
       "⎡   1            ⎤\n",
       "⎢0  ─      0     ⎥\n",
       "⎢   r            ⎥\n",
       "⎢                ⎥\n",
       "⎢1               ⎥\n",
       "⎢─  0      0     ⎥\n",
       "⎢r               ⎥\n",
       "⎢                ⎥\n",
       "⎢      -sin(2⋅θ) ⎥\n",
       "⎢0  0  ──────────⎥\n",
       "⎣          2     ⎦"
      ]
     },
     "metadata": {},
     "output_type": "display_data"
    },
    {
     "name": "stdout",
     "output_type": "stream",
     "text": [
      "\n",
      "Christoffel [Γ^φ_ij]\n"
     ]
    },
    {
     "data": {
      "image/png": "[encoded data removed]",
      "text/latex": [
       "$$\\left[\\begin{matrix}0 & 0 & \\frac{1}{r}\\\\0 & 0 & \\frac{1}{\\tan{\\left (\\theta \\right )}}\\\\\\frac{1}{r} & \\frac{1}{\\tan{\\left (\\theta \\right )}} & 0\\end{matrix}\\right]$$"
      ],
      "text/plain": [
       "⎡             1   ⎤\n",
       "⎢0    0       ─   ⎥\n",
       "⎢             r   ⎥\n",
       "⎢                 ⎥\n",
       "⎢             1   ⎥\n",
       "⎢0    0     ──────⎥\n",
       "⎢           tan(θ)⎥\n",
       "⎢                 ⎥\n",
       "⎢1    1           ⎥\n",
       "⎢─  ──────    0   ⎥\n",
       "⎣r  tan(θ)        ⎦"
      ]
     },
     "metadata": {},
     "output_type": "display_data"
    },
    {
     "name": "stdout",
     "output_type": "stream",
     "text": [
      "\n",
      "\n",
      "\n",
      "\n",
      "\n",
      "\n"
     ]
    }
   ],
   "source": [
    "mpg = [Tijr,Tijt,Tijp] \n",
    "\n",
    "print(\"\\nChristoffel [Γ^r_ij]\")\n",
    "Gr = Matrix([[sum([iTij[0,n]*mpg[j][n,i]\n",
    "                      for n in range(3)]) for j in range(3)] for i in range(3)])\n",
    "Gr= simplify(Gr)\n",
    "display(Gr)\n",
    "\n",
    "print(\"\\nChristoffel [Γ^θ_ij]\")\n",
    "Gt =Matrix([[sum([iTij[1,n]*mpg[j][n,i]\\\n",
    "                      for n in range(3)]) for j in range(3)] for i in range(3)])\n",
    "Gt= simplify(Gt)\n",
    "display(Gt)\n",
    "\n",
    "print(\"\\nChristoffel [Γ^φ_ij]\")\n",
    "Gp =Matrix([[sum([iTij[2,n]*mpg[j][n,i]\\\n",
    "                      for n in range(3)]) for j in range(3)] for i in range(3)])\n",
    "Gp= simplify(Gp)\n",
    "display(Gp)\n",
    "\n",
    "print(\"\\n\")\n",
    "\n",
    "print(\"\\n\")\n",
    "\n",
    "print(\"\\n\")\n"
   ]
  },
  {
   "cell_type": "markdown",
   "metadata": {},
   "source": [
    "# $\\Gamma^{\\mu}_{\\alpha\\beta}=\\frac{1}{2} g^{\\mu \\lambda}\\big(\\frac{\\partial g_{\\lambda \\beta}}{\\partial x^{\\alpha}}+\\frac{\\partial g_{\\alpha \\lambda}}{\\partial x^{\\beta}}-\\frac{\\partial g_{\\alpha \\beta}}{\\partial x^{\\lambda}}\\big)$"
   ]
  },
  {
   "cell_type": "code",
   "execution_count": 5,
   "metadata": {},
   "outputs": [
    {
     "name": "stdout",
     "output_type": "stream",
     "text": [
      "The g_ij matrix\n"
     ]
    },
    {
     "data": {
      "image/png": "[encoded data removed]",
      "text/latex": [
       "$$\\left[\\begin{matrix}1 & 0 & 0\\\\0 & r^{2} & 0\\\\0 & 0 & r^{2} \\sin^{2}{\\left (\\theta \\right )}\\end{matrix}\\right]$$"
      ],
      "text/plain": [
       "⎡1  0       0     ⎤\n",
       "⎢                 ⎥\n",
       "⎢    2            ⎥\n",
       "⎢0  r       0     ⎥\n",
       "⎢                 ⎥\n",
       "⎢        2    2   ⎥\n",
       "⎣0  0   r ⋅sin (θ)⎦"
      ]
     },
     "metadata": {},
     "output_type": "display_data"
    },
    {
     "name": "stdout",
     "output_type": "stream",
     "text": [
      "\n",
      "The inverse g_ij matrix\n"
     ]
    },
    {
     "data": {
      "image/png": "[encoded data removed]",
      "text/latex": [
       "$$\\left[\\begin{matrix}1 & 0 & 0\\\\0 & \\frac{1}{r^{2}} & 0\\\\0 & 0 & \\frac{1}{r^{2} \\sin^{2}{\\left (\\theta \\right )}}\\end{matrix}\\right]$$"
      ],
      "text/plain": [
       "⎡1  0       0     ⎤\n",
       "⎢                 ⎥\n",
       "⎢   1             ⎥\n",
       "⎢0  ──      0     ⎥\n",
       "⎢    2            ⎥\n",
       "⎢   r             ⎥\n",
       "⎢                 ⎥\n",
       "⎢           1     ⎥\n",
       "⎢0  0   ──────────⎥\n",
       "⎢        2    2   ⎥\n",
       "⎣       r ⋅sin (θ)⎦"
      ]
     },
     "metadata": {},
     "output_type": "display_data"
    }
   ],
   "source": [
    "r, t, p = symbols('r theta phi', real=True) \n",
    "\n",
    "f  = [r*sin(t)*cos(p), r*sin(t)*sin(p),r*cos(t)]\n",
    "fr = [diff(fi, r) for fi in f]\n",
    "ft = [diff(fi, t) for fi in f]\n",
    "fp = [diff(fi, p) for fi in f]\n",
    "\n",
    "f  = Matrix(f)\n",
    "fr = Matrix(fr)\n",
    "ft = Matrix(ft)\n",
    "fp = Matrix(fp)\n",
    "\n",
    "\n",
    "\n",
    "gij = Matrix([[fr.dot(fr),fr.dot(ft), fr.dot(fp)],\\\n",
    "             [ft.dot(fr),ft.dot(ft), ft.dot(fp)],\\\n",
    "             [fp.dot(fr),fp.dot(ft), fp.dot(fp)] ])\n",
    "\n",
    "print(\"The g_ij matrix\")\n",
    "gij = simplify(gij)\n",
    "display(gij)\n",
    "\n",
    "print(\"\\nThe inverse g_ij matrix\")\n",
    "igij = gij**-1\n",
    "display(igij)"
   ]
  },
  {
   "cell_type": "code",
   "execution_count": 6,
   "metadata": {},
   "outputs": [
    {
     "name": "stdout",
     "output_type": "stream",
     "text": [
      "partial g_ij wrt r\n"
     ]
    },
    {
     "data": {
      "image/png": "[encoded data removed]",
      "text/latex": [
       "$$\\left[\\begin{matrix}0 & 0 & 0\\\\0 & 2 r & 0\\\\0 & 0 & 2 r \\sin^{2}{\\left (\\theta \\right )}\\end{matrix}\\right]$$"
      ],
      "text/plain": [
       "⎡0   0        0     ⎤\n",
       "⎢                   ⎥\n",
       "⎢0  2⋅r       0     ⎥\n",
       "⎢                   ⎥\n",
       "⎢               2   ⎥\n",
       "⎣0   0   2⋅r⋅sin (θ)⎦"
      ]
     },
     "metadata": {},
     "output_type": "display_data"
    },
    {
     "name": "stdout",
     "output_type": "stream",
     "text": [
      "partial g_ij wrt θ\n"
     ]
    },
    {
     "data": {
      "image/png": "[encoded data removed]",
      "text/latex": [
       "$$\\left[\\begin{matrix}0 & 0 & 0\\\\0 & 0 & 0\\\\0 & 0 & 2 r^{2} \\sin{\\left (\\theta \\right )} \\cos{\\left (\\theta \\right )}\\end{matrix}\\right]$$"
      ],
      "text/plain": [
       "⎡0  0          0         ⎤\n",
       "⎢                        ⎥\n",
       "⎢0  0          0         ⎥\n",
       "⎢                        ⎥\n",
       "⎢         2              ⎥\n",
       "⎣0  0  2⋅r ⋅sin(θ)⋅cos(θ)⎦"
      ]
     },
     "metadata": {},
     "output_type": "display_data"
    },
    {
     "name": "stdout",
     "output_type": "stream",
     "text": [
      "partial g_ij wrt φ\n"
     ]
    },
    {
     "data": {
      "image/png": "[encoded data removed]",
      "text/latex": [
       "$$\\left[\\begin{matrix}0 & 0 & 0\\\\0 & 0 & 0\\\\0 & 0 & 0\\end{matrix}\\right]$$"
      ],
      "text/plain": [
       "⎡0  0  0⎤\n",
       "⎢       ⎥\n",
       "⎢0  0  0⎥\n",
       "⎢       ⎥\n",
       "⎣0  0  0⎦"
      ]
     },
     "metadata": {},
     "output_type": "display_data"
    }
   ],
   "source": [
    "print(\"partial g_ij wrt r\")\n",
    "gijr = Matrix([[diff(gij[i,j], r) for i in range(3)] for j in range(3)])\n",
    "display(gijr)\n",
    "\n",
    "print(\"partial g_ij wrt θ\")\n",
    "gijt = Matrix([[diff(gij[i,j], t) for i in range(3)] for j in range(3)])\n",
    "display(gijt)\n",
    "\n",
    "\n",
    "print(\"partial g_ij wrt φ\")\n",
    "gijp = Matrix([[diff(gij[i,j], p) for i in range(3)] for j in range(3)])\n",
    "display(gijp)\n",
    "\n",
    "mpg = [gijr, gijt,gijp] \n"
   ]
  },
  {
   "cell_type": "code",
   "execution_count": 7,
   "metadata": {},
   "outputs": [
    {
     "name": "stdout",
     "output_type": "stream",
     "text": [
      "\n",
      "Christoffel [Γ^r_ij]\n"
     ]
    },
    {
     "data": {
      "image/png": "[encoded data removed]",
      "text/latex": [
       "$$\\left[\\begin{matrix}0 & 0 & 0\\\\0 & - r & 0\\\\0 & 0 & - r \\sin^{2}{\\left (\\theta \\right )}\\end{matrix}\\right]$$"
      ],
      "text/plain": [
       "⎡0  0       0     ⎤\n",
       "⎢                 ⎥\n",
       "⎢0  -r      0     ⎥\n",
       "⎢                 ⎥\n",
       "⎢             2   ⎥\n",
       "⎣0  0   -r⋅sin (θ)⎦"
      ]
     },
     "metadata": {},
     "output_type": "display_data"
    },
    {
     "name": "stdout",
     "output_type": "stream",
     "text": [
      "\n",
      "Christoffel [Γ^θ_ij]\n"
     ]
    },
    {
     "data": {
      "image/png": "[encoded data removed]",
      "text/latex": [
       "$$\\left[\\begin{matrix}0 & \\frac{1}{r} & 0\\\\\\frac{1}{r} & 0 & 0\\\\0 & 0 & - \\frac{\\sin{\\left (2 \\theta \\right )}}{2}\\end{matrix}\\right]$$"
      ],
      "text/plain": [
       "⎡   1            ⎤\n",
       "⎢0  ─      0     ⎥\n",
       "⎢   r            ⎥\n",
       "⎢                ⎥\n",
       "⎢1               ⎥\n",
       "⎢─  0      0     ⎥\n",
       "⎢r               ⎥\n",
       "⎢                ⎥\n",
       "⎢      -sin(2⋅θ) ⎥\n",
       "⎢0  0  ──────────⎥\n",
       "⎣          2     ⎦"
      ]
     },
     "metadata": {},
     "output_type": "display_data"
    },
    {
     "name": "stdout",
     "output_type": "stream",
     "text": [
      "\n",
      "Christoffel [Γ^φ_ij]\n"
     ]
    },
    {
     "data": {
      "image/png": "[encoded data removed]",
      "text/latex": [
       "$$\\left[\\begin{matrix}0 & 0 & \\frac{1}{r}\\\\0 & 0 & \\frac{1}{\\tan{\\left (\\theta \\right )}}\\\\\\frac{1}{r} & \\frac{1}{\\tan{\\left (\\theta \\right )}} & 0\\end{matrix}\\right]$$"
      ],
      "text/plain": [
       "⎡             1   ⎤\n",
       "⎢0    0       ─   ⎥\n",
       "⎢             r   ⎥\n",
       "⎢                 ⎥\n",
       "⎢             1   ⎥\n",
       "⎢0    0     ──────⎥\n",
       "⎢           tan(θ)⎥\n",
       "⎢                 ⎥\n",
       "⎢1    1           ⎥\n",
       "⎢─  ──────    0   ⎥\n",
       "⎣r  tan(θ)        ⎦"
      ]
     },
     "metadata": {},
     "output_type": "display_data"
    }
   ],
   "source": [
    "print(\"\\nChristoffel [Γ^r_ij]\")\n",
    "Gr = Matrix([[sum([ (mpg[j][i,n] - mpg[n][i,j] + mpg[i][n,j])*igij[n,0] \\\n",
    "                      for n in range(3)]) for j in range(3)] for i in range(3)])/2\n",
    "Gr= simplify(Gr)\n",
    "display(Gr)\n",
    "\n",
    "print(\"\\nChristoffel [Γ^θ_ij]\")\n",
    "Gt = Matrix([[sum([ (mpg[j][i,n] - mpg[n][i,j] + mpg[i][n,j])*igij[n,1] \\\n",
    "                      for n in range(3)]) for j in range(3)] for i in range(3)])/2\n",
    "\n",
    "Gt= simplify(Gt)\n",
    "display(Gt)\n",
    "\n",
    "\n",
    "print(\"\\nChristoffel [Γ^φ_ij]\")\n",
    "Gp = Matrix([[sum([ (mpg[j][i,n] - mpg[n][i,j] + mpg[i][n,j])*igij[n,2] \\\n",
    "                      for n in range(3)]) for j in range(3)] for i in range(3)])/2\n",
    "\n",
    "Gp= simplify(Gp)\n",
    "display(Gp)"
   ]
  }
 ],
 "metadata": {
  "anaconda-cloud": {},
  "kernelspec": {
   "display_name": "Python 3",
   "language": "python",
   "name": "python3"
  },
  "language_info": {
   "codemirror_mode": {
    "name": "ipython",
    "version": 3
   },
   "file_extension": ".py",
   "mimetype": "text/x-python",
   "name": "python",
   "nbconvert_exporter": "python",
   "pygments_lexer": "ipython3",
   "version": "3.7.1"
  }
 },
 "nbformat": 4,
 "nbformat_minor": 1
}
