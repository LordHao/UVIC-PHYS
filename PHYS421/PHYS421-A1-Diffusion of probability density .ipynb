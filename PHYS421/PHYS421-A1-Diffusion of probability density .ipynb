{
 "cells": [
  {
   "cell_type": "code",
   "execution_count": 1,
   "metadata": {
    "collapsed": false
   },
   "outputs": [
    {
     "name": "stdout",
     "output_type": "stream",
     "text": [
      "Populating the interactive namespace from numpy and matplotlib\n"
     ]
    }
   ],
   "source": [
    "%pylab inline"
   ]
  },
  {
   "cell_type": "code",
   "execution_count": 2,
   "metadata": {
    "collapsed": true
   },
   "outputs": [],
   "source": [
    "import sympy as sp\n",
    "from sympy import *\n",
    "init_printing()\n",
    "from IPython.display import Latex"
   ]
  },
  {
   "cell_type": "code",
   "execution_count": 3,
   "metadata": {
    "collapsed": false
   },
   "outputs": [],
   "source": [
    "x,D,t,v,r,pi= symbols('x D t v rho pi')\n",
    "p=1/sqrt(4*pi*D*t)*exp(-(x - v*t)**2/(4*D*t))\n",
    "dt=diff(p,t,1)\n",
    "dpx=diff(p,x,1)\n",
    "j=p*v-D*dpx\n",
    "dx=diff(j,x,1)"
   ]
  },
  {
   "cell_type": "code",
   "execution_count": 6,
   "metadata": {
    "collapsed": false
   },
   "outputs": [
    {
     "name": "stdout",
     "output_type": "stream",
     "text": [
      "the partial derivative of   wrt t\n"
     ]
    },
    {
     "data": {
      "image/png": "[encoded data removed]",
      "text/latex": [
       "$$- \\frac{\\sqrt{D \\pi t}}{8 D^{2} \\pi t^{3}} \\left(2 D t + \\left(t v - x\\right) \\left(t v + x\\right)\\right) e^{- \\frac{\\left(t v - x\\right)^{2}}{4 D t}}$$"
      ],
      "text/plain": [
       "                                                    2  \n",
       "                                          -(t⋅v - x)   \n",
       "                                          ──────────── \n",
       "   _______                                   4⋅D⋅t     \n",
       "-╲╱ D⋅π⋅t ⋅(2⋅D⋅t + (t⋅v - x)⋅(t⋅v + x))⋅ℯ             \n",
       "───────────────────────────────────────────────────────\n",
       "                          2    3                       \n",
       "                       8⋅D ⋅π⋅t                        "
      ]
     },
     "metadata": {},
     "output_type": "display_data"
    },
    {
     "name": "stdout",
     "output_type": "stream",
     "text": [
      "\n",
      "\n",
      "the partial derivative of j wrt x\n"
     ]
    },
    {
     "data": {
      "image/png": "[encoded data removed]",
      "text/latex": [
       "$$\\frac{\\pi e^{- \\frac{\\left(t v - x\\right)^{2}}{4 D t}}}{8 t \\left(D \\pi t\\right)^{\\frac{3}{2}}} \\left(2 D t + 2 t v \\left(t v - x\\right) - \\left(t v - x\\right)^{2}\\right)$$"
      ],
      "text/plain": [
       "                                                    2 \n",
       "                                          -(t⋅v - x)  \n",
       "                                          ────────────\n",
       "  ⎛                                   2⎞     4⋅D⋅t    \n",
       "π⋅⎝2⋅D⋅t + 2⋅t⋅v⋅(t⋅v - x) - (t⋅v - x) ⎠⋅ℯ            \n",
       "──────────────────────────────────────────────────────\n",
       "                               3/2                    \n",
       "                    8⋅t⋅(D⋅π⋅t)                       "
      ]
     },
     "metadata": {},
     "output_type": "display_data"
    }
   ],
   "source": [
    "print 'the partial derivative of   wrt t'\n",
    "display(dt.simplify())\n",
    "print'\\n'\n",
    "print 'the partial derivative of j wrt x'\n",
    "display(dx.simplify())"
   ]
  },
  {
   "cell_type": "code",
   "execution_count": 7,
   "metadata": {
    "collapsed": false
   },
   "outputs": [
    {
     "data": {
      "image/png": "[encoded data removed]",
      "text/latex": [
       "$$0$$"
      ],
      "text/plain": [
       "0"
      ]
     },
     "metadata": {},
     "output_type": "display_data"
    }
   ],
   "source": [
    "display(simplify(dt+dx))"
   ]
  }
 ],
 "metadata": {
  "anaconda-cloud": {},
  "kernelspec": {
   "display_name": "Python [Root]",
   "language": "python",
   "name": "Python [Root]"
  },
  "language_info": {
   "codemirror_mode": {
    "name": "ipython",
    "version": 2
   },
   "file_extension": ".py",
   "mimetype": "text/x-python",
   "name": "python",
   "nbconvert_exporter": "python",
   "pygments_lexer": "ipython2",
   "version": "2.7.12"
  }
 },
 "nbformat": 4,
 "nbformat_minor": 0
}
