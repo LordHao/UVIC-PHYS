{
 "cells": [
  {
   "cell_type": "code",
   "execution_count": 1,
   "metadata": {},
   "outputs": [
    {
     "name": "stdout",
     "output_type": "stream",
     "text": [
      "Populating the interactive namespace from numpy and matplotlib\n"
     ]
    }
   ],
   "source": [
    "%pylab inline"
   ]
  },
  {
   "cell_type": "code",
   "execution_count": 2,
   "metadata": {},
   "outputs": [],
   "source": [
    "import sympy as sp\n",
    "from sympy import *\n",
    "init_printing()\n",
    "from IPython.display import Latex"
   ]
  },
  {
   "cell_type": "code",
   "execution_count": 3,
   "metadata": {},
   "outputs": [],
   "source": [
    "p,q,N,n= symbols('p q N n_1')"
   ]
  },
  {
   "cell_type": "code",
   "execution_count": 4,
   "metadata": {},
   "outputs": [],
   "source": [
    "b1=Rational(1.0/2)*N"
   ]
  },
  {
   "cell_type": "code",
   "execution_count": 5,
   "metadata": {},
   "outputs": [
    {
     "data": {
      "text/latex": [
       "$\\overline{{n_1}^{2}}=$"
      ],
      "text/plain": [
       "<IPython.core.display.Latex object>"
      ]
     },
     "metadata": {},
     "output_type": "display_data"
    },
    {
     "data": {
      "image/png": "[encoded data removed]",
      "text/latex": [
       "$$\\frac{N \\left(N + 1\\right)}{4}$$"
      ],
      "text/plain": [
       "N⋅(N + 1)\n",
       "─────────\n",
       "    4    "
      ]
     },
     "metadata": {},
     "output_type": "display_data"
    }
   ],
   "source": [
    "a=(p*diff(p*diff((p+q)**N,p),p)).subs(p,Rational(1.0/2))\n",
    "b2=simplify(simplify(a.subs(q,Rational(1.0/2))))\n",
    "display(Latex('$\\overline{{n_1}^{2}}=$'))\n",
    "display(b2)"
   ]
  },
  {
   "cell_type": "code",
   "execution_count": 6,
   "metadata": {},
   "outputs": [
    {
     "data": {
      "text/latex": [
       "$\\overline{{n_1}^{3}}=$"
      ],
      "text/plain": [
       "<IPython.core.display.Latex object>"
      ]
     },
     "metadata": {},
     "output_type": "display_data"
    },
    {
     "data": {
      "image/png": "[encoded data removed]",
      "text/latex": [
       "$$\\frac{N^{2} \\left(N + 3\\right)}{8}$$"
      ],
      "text/plain": [
       " 2        \n",
       "N ⋅(N + 3)\n",
       "──────────\n",
       "    8     "
      ]
     },
     "metadata": {},
     "output_type": "display_data"
    }
   ],
   "source": [
    "a=(p*diff(p*diff(p*diff((p+q)**N,p),p),p)).subs(p,Rational(1.0/2))\n",
    "b3=simplify(simplify(a.subs(q,Rational(1.0/2))))\n",
    "display(Latex('$\\overline{{n_1}^{3}}=$'))\n",
    "display(b3)"
   ]
  },
  {
   "cell_type": "code",
   "execution_count": 7,
   "metadata": {},
   "outputs": [
    {
     "data": {
      "text/latex": [
       "$\\overline{{n_1}^{4}}=$"
      ],
      "text/plain": [
       "<IPython.core.display.Latex object>"
      ]
     },
     "metadata": {},
     "output_type": "display_data"
    },
    {
     "data": {
      "image/png": "[encoded data removed]",
      "text/latex": [
       "$$\\frac{N \\left(N^{3} + 6 N^{2} + 3 N - 2\\right)}{16}$$"
      ],
      "text/plain": [
       "  ⎛ 3      2          ⎞\n",
       "N⋅⎝N  + 6⋅N  + 3⋅N - 2⎠\n",
       "───────────────────────\n",
       "           16          "
      ]
     },
     "metadata": {},
     "output_type": "display_data"
    }
   ],
   "source": [
    "a=(p*diff(p*diff(p*diff(p*diff((p+q)**N,p),p),p),p)).subs(p,Rational(1.0/2))\n",
    "b4=simplify(simplify(a.subs(q,Rational(1.0/2))))\n",
    "display(Latex('$\\overline{{n_1}^{4}}=$'))\n",
    "display(b4)"
   ]
  },
  {
   "cell_type": "code",
   "execution_count": 8,
   "metadata": {},
   "outputs": [
    {
     "data": {
      "text/latex": [
       "$\\overline{{m}^{2}}=$"
      ],
      "text/plain": [
       "<IPython.core.display.Latex object>"
      ]
     },
     "metadata": {},
     "output_type": "display_data"
    },
    {
     "data": {
      "image/png": "[encoded data removed]",
      "text/latex": [
       "$$N$$"
      ],
      "text/plain": [
       "N"
      ]
     },
     "metadata": {},
     "output_type": "display_data"
    }
   ],
   "source": [
    "m2=4*b2-4*b1*N+N**2\n",
    "display(Latex('$\\overline{{m}^{2}}=$'))\n",
    "display(m2.simplify())"
   ]
  },
  {
   "cell_type": "code",
   "execution_count": 9,
   "metadata": {},
   "outputs": [
    {
     "data": {
      "text/latex": [
       "$\\overline{{m}^{3}}=$"
      ],
      "text/plain": [
       "<IPython.core.display.Latex object>"
      ]
     },
     "metadata": {},
     "output_type": "display_data"
    },
    {
     "data": {
      "image/png": "[encoded data removed]",
      "text/latex": [
       "$$0$$"
      ],
      "text/plain": [
       "0"
      ]
     },
     "metadata": {},
     "output_type": "display_data"
    }
   ],
   "source": [
    "m3=8*b3-12*b2*N+6*b1*N**2-N**3\n",
    "display(Latex('$\\overline{{m}^{3}}=$'))\n",
    "display(m3.simplify())"
   ]
  },
  {
   "cell_type": "code",
   "execution_count": 10,
   "metadata": {},
   "outputs": [
    {
     "data": {
      "text/latex": [
       "$\\overline{{m}^{4}}=$"
      ],
      "text/plain": [
       "<IPython.core.display.Latex object>"
      ]
     },
     "metadata": {},
     "output_type": "display_data"
    },
    {
     "data": {
      "image/png": "[encoded data removed]",
      "text/latex": [
       "$$N \\left(3 N - 2\\right)$$"
      ],
      "text/plain": [
       "N⋅(3⋅N - 2)"
      ]
     },
     "metadata": {},
     "output_type": "display_data"
    }
   ],
   "source": [
    "m4=16*b4-32*b3*N+24*b2*N**2-8*b1*N**3+N**4\n",
    "display(Latex('$\\overline{{m}^{4}}=$'))\n",
    "display(m4.simplify())"
   ]
  }
 ],
 "metadata": {
  "kernelspec": {
   "display_name": "Python 3",
   "language": "python",
   "name": "python3"
  },
  "language_info": {
   "codemirror_mode": {
    "name": "ipython",
    "version": 3
   },
   "file_extension": ".py",
   "mimetype": "text/x-python",
   "name": "python",
   "nbconvert_exporter": "python",
   "pygments_lexer": "ipython3",
   "version": "3.7.1"
  }
 },
 "nbformat": 4,
 "nbformat_minor": 1
}
