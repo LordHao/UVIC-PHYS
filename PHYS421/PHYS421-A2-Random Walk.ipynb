{
 "cells": [
  {
   "cell_type": "code",
   "execution_count": 64,
   "metadata": {},
   "outputs": [
    {
     "name": "stdout",
     "output_type": "stream",
     "text": [
      "Populating the interactive namespace from numpy and matplotlib\n"
     ]
    }
   ],
   "source": [
    "%pylab inline\n",
    "from IPython.display import Latex\n"
   ]
  },
  {
   "cell_type": "code",
   "execution_count": 85,
   "metadata": {},
   "outputs": [],
   "source": [
    "M=500 #500 random walkers\n",
    "N=30  #30 steps\n",
    "x=[]\n",
    "for i in range(M):\n",
    "    x.append(sum(1-sqrt(1-rand(N)))) #generate x_i = sum of s, where s=1-sqrt(1-rand(x))\n",
    "x=array(x)\n",
    "sb=N*(1.0/3)\n",
    "ss=N*(sqrt(2)/6.0)**2"
   ]
  },
  {
   "cell_type": "code",
   "execution_count": 96,
   "metadata": {},
   "outputs": [
    {
     "data": {
      "text/latex": [
       "$N \\bar{s}$ is 10.0"
      ],
      "text/plain": [
       "<IPython.core.display.Latex object>"
      ]
     },
     "execution_count": 96,
     "metadata": {},
     "output_type": "execute_result"
    }
   ],
   "source": [
    "Latex(r'$N \\bar{s}$ is %s'%sb)"
   ]
  },
  {
   "cell_type": "code",
   "execution_count": 102,
   "metadata": {},
   "outputs": [
    {
     "data": {
      "text/latex": [
       "$N \\overline{(\\Delta s)^{2}}$ is 1.666666666666667"
      ],
      "text/plain": [
       "<IPython.core.display.Latex object>"
      ]
     },
     "execution_count": 102,
     "metadata": {},
     "output_type": "execute_result"
    }
   ],
   "source": [
    "Latex(r'$N \\overline{(\\Delta s)^{2}}$ is %s'%ss)"
   ]
  },
  {
   "cell_type": "code",
   "execution_count": 103,
   "metadata": {},
   "outputs": [
    {
     "name": "stdout",
     "output_type": "stream",
     "text": [
      "the mean value of x is: 9.997694267850267\n",
      "the variance of x is: 1.6768057520184747\n"
     ]
    }
   ],
   "source": [
    "print (r'the mean value of x is: %s' %mean(x))\n",
    "print (r'the variance of x is: %s' %std(x)**2)"
   ]
  },
  {
   "cell_type": "code",
   "execution_count": 117,
   "metadata": {},
   "outputs": [
    {
     "name": "stdout",
     "output_type": "stream",
     "text": [
      "the mean value of x is: 10.00006015708457\n",
      "the variance of x is: 1.666428910206892\n"
     ]
    }
   ],
   "source": [
    "M=500000 #500000 random walkers\n",
    "N=30  #30 steps\n",
    "x=[]\n",
    "for i in range(M):\n",
    "    x.append(sum(1-sqrt(1-rand(N)))) #generate x_i = sum of s, where s=1-sqrt(1-rand(x))\n",
    "x=array(x)\n",
    "sb=N*(1.0/3)\n",
    "ss=N*(sqrt(2)/6.0)**2\n",
    "mx=mean(x)\n",
    "vx=std(x)**2\n",
    "print (r'the mean value of x is: %s' %mean(x))\n",
    "print (r'the variance of x is: %s' %std(x)**2)"
   ]
  }
 ],
 "metadata": {
  "kernelspec": {
   "display_name": "Python 3",
   "language": "python",
   "name": "python3"
  },
  "language_info": {
   "codemirror_mode": {
    "name": "ipython",
    "version": 3
   },
   "file_extension": ".py",
   "mimetype": "text/x-python",
   "name": "python",
   "nbconvert_exporter": "python",
   "pygments_lexer": "ipython3",
   "version": "3.7.1"
  }
 },
 "nbformat": 4,
 "nbformat_minor": 2
}
