{
 "cells": [
  {
   "cell_type": "code",
   "execution_count": 6,
   "metadata": {},
   "outputs": [
    {
     "name": "stdout",
     "output_type": "stream",
     "text": [
      "Populating the interactive namespace from numpy and matplotlib\n"
     ]
    }
   ],
   "source": [
    "%pylab inline\n",
    "import sympy as sp\n",
    "from sympy import *\n",
    "init_printing()"
   ]
  },
  {
   "cell_type": "code",
   "execution_count": 7,
   "metadata": {},
   "outputs": [],
   "source": [
    "A,a,b,c= symbols('A a b c', real=True) \n",
    "\n",
    "V=a*b*(A-a*b)/(2*(a+b))"
   ]
  },
  {
   "cell_type": "code",
   "execution_count": 8,
   "metadata": {},
   "outputs": [],
   "source": [
    "Va=diff(V,a).simplify()\n",
    "Vb=diff(V,b).simplify()"
   ]
  },
  {
   "cell_type": "code",
   "execution_count": 9,
   "metadata": {},
   "outputs": [
    {
     "data": {
      "image/png": "[encoded data removed]",
      "text/latex": [
       "$$\\frac{b \\left(- a \\left(A - a b\\right) + \\left(A - 2 a b\\right) \\left(a + b\\right)\\right)}{2 \\left(a + b\\right)^{2}}$$"
      ],
      "text/plain": [
       "b⋅(-a⋅(A - a⋅b) + (A - 2⋅a⋅b)⋅(a + b))\n",
       "──────────────────────────────────────\n",
       "                       2              \n",
       "              2⋅(a + b)               "
      ]
     },
     "metadata": {},
     "output_type": "display_data"
    },
    {
     "data": {
      "image/png": "[encoded data removed]",
      "text/latex": [
       "$$\\frac{a \\left(- b \\left(A - a b\\right) + \\left(A - 2 a b\\right) \\left(a + b\\right)\\right)}{2 \\left(a + b\\right)^{2}}$$"
      ],
      "text/plain": [
       "a⋅(-b⋅(A - a⋅b) + (A - 2⋅a⋅b)⋅(a + b))\n",
       "──────────────────────────────────────\n",
       "                       2              \n",
       "              2⋅(a + b)               "
      ]
     },
     "metadata": {},
     "output_type": "display_data"
    }
   ],
   "source": [
    "display(Va)\n",
    "display(Vb)"
   ]
  }
 ],
 "metadata": {
  "kernelspec": {
   "display_name": "Python 3",
   "language": "python",
   "name": "python3"
  },
  "language_info": {
   "codemirror_mode": {
    "name": "ipython",
    "version": 3
   },
   "file_extension": ".py",
   "mimetype": "text/x-python",
   "name": "python",
   "nbconvert_exporter": "python",
   "pygments_lexer": "ipython3",
   "version": "3.7.1"
  }
 },
 "nbformat": 4,
 "nbformat_minor": 2
}
