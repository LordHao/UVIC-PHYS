{
 "cells": [
  {
   "cell_type": "code",
   "execution_count": 1,
   "metadata": {},
   "outputs": [
    {
     "name": "stdout",
     "output_type": "stream",
     "text": [
      "Populating the interactive namespace from numpy and matplotlib\n"
     ]
    }
   ],
   "source": [
    "%pylab inline\n",
    "from matplotlib.image import imread"
   ]
  },
  {
   "cell_type": "code",
   "execution_count": 2,
   "metadata": {},
   "outputs": [
    {
     "name": "stdout",
     "output_type": "stream",
     "text": [
      "(10, 10, 4)\n",
      "(32, 32, 4)\n",
      "(124, 124, 4)\n"
     ]
    },
    {
     "data": {
      "image/png": "[encoded data removed]",
      "text/plain": [
       "<Figure size 432x288 with 1 Axes>"
      ]
     },
     "metadata": {
      "needs_background": "light"
     },
     "output_type": "display_data"
    },
    {
     "data": {
      "image/png": "[encoded data removed]",
      "text/plain": [
       "<Figure size 432x288 with 1 Axes>"
      ]
     },
     "metadata": {
      "needs_background": "light"
     },
     "output_type": "display_data"
    },
    {
     "data": {
      "image/png": "[encoded data removed]",
      "text/plain": [
       "<Figure size 432x288 with 1 Axes>"
      ]
     },
     "metadata": {
      "needs_background": "light"
     },
     "output_type": "display_data"
    }
   ],
   "source": [
    "im10 = imread('10.png') #import the image\n",
    "im32 = imread('32.png')\n",
    "im124= imread('124.png')\n",
    "print(shape(im10))\n",
    "print(shape(im32))\n",
    "print(shape(im124))\n",
    "imshow(im10)\n",
    "show()\n",
    "imshow(im32)\n",
    "show()\n",
    "imshow(im124)\n",
    "show()"
   ]
  },
  {
   "cell_type": "markdown",
   "metadata": {},
   "source": [
    "$x'=(x+y)\\%L $\n",
    "\n",
    "$y'=(x+2y)\\%L$"
   ]
  },
  {
   "cell_type": "code",
   "execution_count": 3,
   "metadata": {},
   "outputs": [],
   "source": [
    "def func(im): \n",
    "    L=len(im)\n",
    "    img=zeros(shape(im)) # create emputy array\n",
    "    for i in range(L):\n",
    "        for j in range(L):\n",
    "            img[i][j] = im[(i+j)%L]\\\n",
    "            [(i+2*j)%L]   #defines the function of mapping\n",
    "    return img"
   ]
  },
  {
   "cell_type": "code",
   "execution_count": 4,
   "metadata": {},
   "outputs": [],
   "source": [
    "def ima(im, n): # n times of mapping\n",
    "    L=len(im)\n",
    "    arr =zeros([n,L,L,4])\n",
    "    for i in range(n):\n",
    "        im = func(im)\n",
    "        arr[i] = im\n",
    "    return arr"
   ]
  },
  {
   "cell_type": "code",
   "execution_count": 5,
   "metadata": {},
   "outputs": [],
   "source": [
    "imarr10=ima(im10,50)\n",
    "imarr32=ima(im32,50)\n",
    "imarr124=ima(im124,50)"
   ]
  },
  {
   "cell_type": "code",
   "execution_count": 6,
   "metadata": {},
   "outputs": [],
   "source": [
    "def com(im,arr):\n",
    "    for i, j in enumerate(arr):\n",
    "        if np.array_equal(j, im): # find out which one equals the original image\n",
    "            return i+1\n",
    "        else:\n",
    "            pass"
   ]
  },
  {
   "cell_type": "code",
   "execution_count": 7,
   "metadata": {},
   "outputs": [
    {
     "name": "stdout",
     "output_type": "stream",
     "text": [
      "the \"M\" of 10 times 10 is: 30\n",
      "the \"M\" of 32 times 32 is: 24\n",
      "the \"M\" of 124 times 124 is: 15\n"
     ]
    }
   ],
   "source": [
    "print ('the \"M\" of 10 times 10 is: %s'%(com(im10,imarr10)))\n",
    "print ('the \"M\" of 32 times 32 is: %s'%(com(im32,imarr32)))\n",
    "print ('the \"M\" of 124 times 124 is: %s'%(com(im124,imarr124)))"
   ]
  }
 ],
 "metadata": {
  "kernelspec": {
   "display_name": "Python 3",
   "language": "python",
   "name": "python3"
  },
  "language_info": {
   "codemirror_mode": {
    "name": "ipython",
    "version": 3
   },
   "file_extension": ".py",
   "mimetype": "text/x-python",
   "name": "python",
   "nbconvert_exporter": "python",
   "pygments_lexer": "ipython3",
   "version": "3.7.1"
  }
 },
 "nbformat": 4,
 "nbformat_minor": 2
}
