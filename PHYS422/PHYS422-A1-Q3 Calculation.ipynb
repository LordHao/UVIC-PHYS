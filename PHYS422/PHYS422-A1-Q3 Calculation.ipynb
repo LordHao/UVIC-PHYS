{
 "cells": [
  {
   "cell_type": "code",
   "execution_count": 1,
   "metadata": {},
   "outputs": [
    {
     "name": "stdout",
     "output_type": "stream",
     "text": [
      "Populating the interactive namespace from numpy and matplotlib\n"
     ]
    }
   ],
   "source": [
    "%pylab inline\n",
    "import sympy as sp\n",
    "from sympy import *\n",
    "init_printing()\n",
    "from sympy.integrals import Integral"
   ]
  },
  {
   "cell_type": "code",
   "execution_count": 2,
   "metadata": {},
   "outputs": [],
   "source": [
    "a,d,r= symbols('a d r')\n",
    "Q=1/(8*a**3)*integrate((2*r-r**2/a)**2*exp(-r/a), (r, 0, d))"
   ]
  },
  {
   "cell_type": "code",
   "execution_count": 3,
   "metadata": {},
   "outputs": [
    {
     "data": {
      "image/png": "[encoded data removed]",
      "text/latex": [
       "$$\\begin{cases} \\frac{d^{3}}{120 a^{5}} \\left(20 a^{2} - 15 a d + 3 d^{2}\\right) & \\text{for}\\: a = 0 \\\\\\frac{e^{- \\frac{d}{a}}}{8 a^{4}} \\left(8 a^{4} e^{\\frac{d}{a}} - 8 a^{4} - 8 a^{3} d - 4 a^{2} d^{2} - d^{4}\\right) & \\text{otherwise} \\end{cases}$$"
      ],
      "text/plain": [
       "⎧          3 ⎛    2               2⎞                     \n",
       "⎪         d ⋅⎝20⋅a  - 15⋅a⋅d + 3⋅d ⎠                     \n",
       "⎪         ──────────────────────────            for a = 0\n",
       "⎪                        5                               \n",
       "⎪                   120⋅a                                \n",
       "⎪                                                        \n",
       "⎨⎛      d                               ⎞  -d            \n",
       "⎪⎜      ─                               ⎟  ───           \n",
       "⎪⎜   4  a      4      3        2  2    4⎟   a            \n",
       "⎪⎝8⋅a ⋅ℯ  - 8⋅a  - 8⋅a ⋅d - 4⋅a ⋅d  - d ⎠⋅ℯ              \n",
       "⎪─────────────────────────────────────────────  otherwise\n",
       "⎪                        4                               \n",
       "⎩                     8⋅a                                "
      ]
     },
     "metadata": {},
     "output_type": "display_data"
    }
   ],
   "source": [
    "display(Q.simplify()) #charge of 2s orbit"
   ]
  },
  {
   "cell_type": "code",
   "execution_count": 4,
   "metadata": {},
   "outputs": [
    {
     "data": {
      "image/png": "[encoded data removed]",
      "text/latex": [
       "$$\\begin{cases} \\frac{e^{\\frac{d}{a}}}{120 a^{8}} \\left(120 a^{5} + d^{3} \\left(- 20 a^{2} + 15 a d - 3 d^{2}\\right)\\right) \\left(a^{3} - a^{2} d + 0.5 a d^{2} - 0.166666666666667 d^{3}\\right) & \\text{for}\\: a = 0 \\\\1.0 - \\frac{0.166666666666667 d^{3}}{a^{3}} + \\frac{0.208333333333333 d^{4}}{a^{4}} - \\frac{0.208333333333333 d^{5}}{a^{5}} + \\frac{0.0625 d^{6}}{a^{6}} - \\frac{0.0208333333333333 d^{7}}{a^{7}} & \\text{otherwise} \\end{cases}$$"
      ],
      "text/plain": [
       "⎧                                                                             \n",
       "⎪                                                                             \n",
       "⎪          ⎛     5    3 ⎛      2               2⎞⎞ ⎛ 3    2            2      \n",
       "⎪          ⎝120⋅a  + d ⋅⎝- 20⋅a  + 15⋅a⋅d - 3⋅d ⎠⎠⋅⎝a  - a ⋅d + 0.5⋅a⋅d  - 0.1\n",
       "⎪          ───────────────────────────────────────────────────────────────────\n",
       "⎪                                                        8                    \n",
       "⎨                                                   120⋅a                     \n",
       "⎪                                                                             \n",
       "⎪                         3                      4                      5     \n",
       "⎪      0.166666666666667⋅d    0.208333333333333⋅d    0.208333333333333⋅d    0.\n",
       "⎪1.0 - ──────────────────── + ──────────────────── - ──────────────────── + ──\n",
       "⎪                3                      4                      5              \n",
       "⎩               a                      a                      a               \n",
       "\n",
       "                    d                     \n",
       "                    ─                     \n",
       "                3⎞  a                     \n",
       "66666666666667⋅d ⎠⋅ℯ                      \n",
       "─────────────────────            for a = 0\n",
       "                                          \n",
       "                                          \n",
       "                                          \n",
       "      6                       7           \n",
       "0625⋅d    0.0208333333333333⋅d            \n",
       "─────── - ─────────────────────  otherwise\n",
       "   6                 7                    \n",
       "  a                 a                     "
      ]
     },
     "metadata": {},
     "output_type": "display_data"
    }
   ],
   "source": [
    "E=((1-Q)*exp(d/a)*(1-d/a+0.5*(d/a)**2-1.0/6*(d/a)**3)).simplify() #coefficient of E of 2s orbit\n",
    "display(E.simplify())"
   ]
  }
 ],
 "metadata": {
  "kernelspec": {
   "display_name": "Python 3",
   "language": "python",
   "name": "python3"
  },
  "language_info": {
   "codemirror_mode": {
    "name": "ipython",
    "version": 3
   },
   "file_extension": ".py",
   "mimetype": "text/x-python",
   "name": "python",
   "nbconvert_exporter": "python",
   "pygments_lexer": "ipython3",
   "version": "3.7.1"
  }
 },
 "nbformat": 4,
 "nbformat_minor": 1
}
