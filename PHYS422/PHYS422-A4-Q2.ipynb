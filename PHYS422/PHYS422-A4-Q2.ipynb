{
 "cells": [
  {
   "cell_type": "code",
   "execution_count": 1,
   "metadata": {},
   "outputs": [
    {
     "name": "stdout",
     "output_type": "stream",
     "text": [
      "Populating the interactive namespace from numpy and matplotlib\n"
     ]
    }
   ],
   "source": [
    "%pylab inline\n",
    "import sympy as sp\n",
    "from sympy import *\n",
    "init_printing()\n",
    "from sympy.solvers import solve"
   ]
  },
  {
   "cell_type": "code",
   "execution_count": 37,
   "metadata": {},
   "outputs": [],
   "source": [
    "w,w1,y1,N,q,m,ep,f1,u= symbols('omega omega_1 gamma_1 N q m epsilon_0 f_1 mu', real=True) "
   ]
  },
  {
   "cell_type": "code",
   "execution_count": 38,
   "metadata": {},
   "outputs": [
    {
     "name": "stdout",
     "output_type": "stream",
     "text": [
      "the index n is:\n"
     ]
    },
    {
     "data": {
      "image/png": "[encoded data removed]",
      "text/latex": [
       "$$\\frac{\\mu \\left(- \\omega^{2} + \\omega_{1}^{2}\\right)}{\\gamma_{1}^{2} \\omega^{2} + \\left(- \\omega^{2} + \\omega_{1}^{2}\\right)^{2}} + 1$$"
      ],
      "text/plain": [
       "      ⎛   2     2⎞        \n",
       "    μ⋅⎝- ω  + ω₁ ⎠        \n",
       "────────────────────── + 1\n",
       "                     2    \n",
       "  2  2   ⎛   2     2⎞     \n",
       "γ₁ ⋅ω  + ⎝- ω  + ω₁ ⎠     "
      ]
     },
     "metadata": {},
     "output_type": "display_data"
    }
   ],
   "source": [
    "n=1+u*(w1**2-w**2)/((w1**2-w**2)**2+y1**2*w**2)\n",
    "print(\"the index n is:\")\n",
    "display(n)"
   ]
  },
  {
   "cell_type": "code",
   "execution_count": 46,
   "metadata": {},
   "outputs": [
    {
     "name": "stdout",
     "output_type": "stream",
     "text": [
      "the first order derivative is:\n"
     ]
    },
    {
     "data": {
      "image/png": "[encoded data removed]",
      "text/latex": [
       "$$- \\frac{2 \\mu \\omega \\left(\\gamma_{1}^{2} \\omega^{2} + \\left(\\omega^{2} - \\omega_{1}^{2}\\right)^{2} - \\left(\\omega^{2} - \\omega_{1}^{2}\\right) \\left(\\gamma_{1}^{2} + 2 \\omega^{2} - 2 \\omega_{1}^{2}\\right)\\right)}{\\left(\\gamma_{1}^{2} \\omega^{2} + \\left(\\omega^{2} - \\omega_{1}^{2}\\right)^{2}\\right)^{2}}$$"
      ],
      "text/plain": [
       "       ⎛                   2                                  ⎞ \n",
       "       ⎜  2  2   ⎛ 2     2⎞    ⎛ 2     2⎞ ⎛  2      2       2⎞⎟ \n",
       "-2⋅μ⋅ω⋅⎝γ₁ ⋅ω  + ⎝ω  - ω₁ ⎠  - ⎝ω  - ω₁ ⎠⋅⎝γ₁  + 2⋅ω  - 2⋅ω₁ ⎠⎠ \n",
       "────────────────────────────────────────────────────────────────\n",
       "                                          2                     \n",
       "                    ⎛                   2⎞                      \n",
       "                    ⎜  2  2   ⎛ 2     2⎞ ⎟                      \n",
       "                    ⎝γ₁ ⋅ω  + ⎝ω  - ω₁ ⎠ ⎠                      "
      ]
     },
     "metadata": {},
     "output_type": "display_data"
    },
    {
     "name": "stdout",
     "output_type": "stream",
     "text": [
      "the extrema frequencies:\n"
     ]
    },
    {
     "data": {
      "image/png": "[encoded data removed]",
      "text/latex": [
       "$$\\left [ 0, \\quad - \\sqrt{- \\gamma_{1} \\omega_{1} + \\omega_{1}^{2}}, \\quad \\sqrt{- \\gamma_{1} \\omega_{1} + \\omega_{1}^{2}}, \\quad - \\sqrt{\\gamma_{1} \\omega_{1} + \\omega_{1}^{2}}, \\quad \\sqrt{\\gamma_{1} \\omega_{1} + \\omega_{1}^{2}}\\right ]$$"
      ],
      "text/plain": [
       "⎡       ______________     ______________      _____________     _____________\n",
       "⎢      ╱            2     ╱            2      ╱           2     ╱           2 \n",
       "⎣0, -╲╱  -γ₁⋅ω₁ + ω₁  , ╲╱  -γ₁⋅ω₁ + ω₁  , -╲╱  γ₁⋅ω₁ + ω₁  , ╲╱  γ₁⋅ω₁ + ω₁  \n",
       "\n",
       "⎤\n",
       "⎥\n",
       "⎦"
      ]
     },
     "metadata": {},
     "output_type": "display_data"
    }
   ],
   "source": [
    "dn=diff(n,w).doit().simplify()\n",
    "print('the first order derivative is:')\n",
    "display(simplify(dn))\n",
    "an=solve(dn,w)\n",
    "print(\"the extrema frequencies:\")\n",
    "display(an)"
   ]
  },
  {
   "cell_type": "markdown",
   "metadata": {},
   "source": [
    "the frequency can not be zero or negative"
   ]
  },
  {
   "cell_type": "code",
   "execution_count": 47,
   "metadata": {},
   "outputs": [
    {
     "data": {
      "image/png": "[encoded data removed]",
      "text/latex": [
       "$$\\frac{8 \\mu \\left(\\gamma_{1} - \\omega_{1}\\right)}{\\gamma_{1}^{3} \\left(\\gamma_{1}^{2} - 4 \\gamma_{1} \\omega_{1} + 4 \\omega_{1}^{2}\\right)}$$"
      ],
      "text/plain": [
       "       8⋅μ⋅(γ₁ - ω₁)       \n",
       "───────────────────────────\n",
       "  3 ⎛  2                 2⎞\n",
       "γ₁ ⋅⎝γ₁  - 4⋅γ₁⋅ω₁ + 4⋅ω₁ ⎠"
      ]
     },
     "metadata": {},
     "output_type": "display_data"
    },
    {
     "data": {
      "image/png": "[encoded data removed]",
      "text/latex": [
       "$$\\frac{8 \\mu \\left(\\gamma_{1} + \\omega_{1}\\right)}{\\gamma_{1}^{3} \\left(\\gamma_{1}^{2} + 4 \\gamma_{1} \\omega_{1} + 4 \\omega_{1}^{2}\\right)}$$"
      ],
      "text/plain": [
       "       8⋅μ⋅(γ₁ + ω₁)       \n",
       "───────────────────────────\n",
       "  3 ⎛  2                 2⎞\n",
       "γ₁ ⋅⎝γ₁  + 4⋅γ₁⋅ω₁ + 4⋅ω₁ ⎠"
      ]
     },
     "metadata": {},
     "output_type": "display_data"
    }
   ],
   "source": [
    "dn2=[]\n",
    "for i in range(len(an)):\n",
    "    if i==0 or i==1 or i==3:\n",
    "        pass\n",
    "    else:\n",
    "        dnn=diff(n,w,2).subs(w,an[i]).simplify()\n",
    "        display(dnn)\n",
    "        dn2.append(dnn)"
   ]
  },
  {
   "cell_type": "code",
   "execution_count": 62,
   "metadata": {},
   "outputs": [
    {
     "name": "stdout",
     "output_type": "stream",
     "text": [
      "the minimum is:\n"
     ]
    },
    {
     "data": {
      "image/png": "[encoded data removed]",
      "text/latex": [
       "$$\\frac{\\gamma_{1} \\omega_{1} + \\gamma_{1} \\left(\\gamma_{1} + \\omega_{1}\\right) - \\mu}{\\gamma_{1} \\left(\\gamma_{1} + 2 \\omega_{1}\\right)}$$"
      ],
      "text/plain": [
       "γ₁⋅ω₁ + γ₁⋅(γ₁ + ω₁) - μ\n",
       "────────────────────────\n",
       "     γ₁⋅(γ₁ + 2⋅ω₁)     "
      ]
     },
     "metadata": {},
     "output_type": "display_data"
    },
    {
     "name": "stdout",
     "output_type": "stream",
     "text": [
      "the maxium is:\n"
     ]
    },
    {
     "data": {
      "image/png": "[encoded data removed]",
      "text/latex": [
       "$$\\frac{\\gamma_{1} \\omega_{1} + \\gamma_{1} \\left(- \\gamma_{1} + \\omega_{1}\\right) + \\mu}{\\gamma_{1} \\left(- \\gamma_{1} + 2 \\omega_{1}\\right)}$$"
      ],
      "text/plain": [
       "γ₁⋅ω₁ + γ₁⋅(-γ₁ + ω₁) + μ\n",
       "─────────────────────────\n",
       "     γ₁⋅(-γ₁ + 2⋅ω₁)     "
      ]
     },
     "metadata": {},
     "output_type": "display_data"
    }
   ],
   "source": [
    "print('the minimum is:')\n",
    "display(n.subs(w,an[4]).simplify())\n",
    "\n",
    "print('the maxium is:')\n",
    "display(n.subs(w,an[2]).simplify())"
   ]
  }
 ],
 "metadata": {
  "kernelspec": {
   "display_name": "Python 3",
   "language": "python",
   "name": "python3"
  },
  "language_info": {
   "codemirror_mode": {
    "name": "ipython",
    "version": 3
   },
   "file_extension": ".py",
   "mimetype": "text/x-python",
   "name": "python",
   "nbconvert_exporter": "python",
   "pygments_lexer": "ipython3",
   "version": "3.7.1"
  }
 },
 "nbformat": 4,
 "nbformat_minor": 2
}
