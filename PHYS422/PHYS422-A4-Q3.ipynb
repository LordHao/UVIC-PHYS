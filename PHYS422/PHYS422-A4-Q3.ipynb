{
 "cells": [
  {
   "cell_type": "markdown",
   "metadata": {},
   "source": [
    "(b)"
   ]
  },
  {
   "cell_type": "code",
   "execution_count": 1,
   "metadata": {},
   "outputs": [
    {
     "name": "stdout",
     "output_type": "stream",
     "text": [
      "Populating the interactive namespace from numpy and matplotlib\n"
     ]
    }
   ],
   "source": [
    "%pylab inline\n",
    "import sympy as sp\n",
    "from sympy import *\n",
    "init_printing()"
   ]
  },
  {
   "cell_type": "code",
   "execution_count": 2,
   "metadata": {},
   "outputs": [],
   "source": [
    "from sympy.functions import conjugate"
   ]
  },
  {
   "cell_type": "code",
   "execution_count": 3,
   "metadata": {},
   "outputs": [],
   "source": [
    "E0,k,w,c,m,n,a,b,wmn,x,y,u0,e0,kx,ky = symbols('E_0 k \\omega c m n a \\\n",
    "b \\omega_{mn} x y \\mu_0 \\epsilon_0 k_x k_y', real=True)"
   ]
  },
  {
   "cell_type": "code",
   "execution_count": 4,
   "metadata": {},
   "outputs": [],
   "source": [
    "Ex=I*k*c**2*E0*kx/wmn**2*cos(kx*x)*sin(ky*y)\n",
    "Ey=I*k*c**2*E0*ky/wmn**2*sin(kx*x)*cos(ky*y)\n",
    "Ez=E0*sin(kx*x)*sin(ky*y)"
   ]
  },
  {
   "cell_type": "code",
   "execution_count": 5,
   "metadata": {},
   "outputs": [],
   "source": [
    "Bx=-I*w*ky*E0/wmn**2*sin(kx*x)*cos(ky*y)\n",
    "By=I*w*kx*E0/wmn**2*cos(kx*x)*sin(ky*y)\n",
    "Bz=0"
   ]
  },
  {
   "cell_type": "code",
   "execution_count": 6,
   "metadata": {},
   "outputs": [],
   "source": [
    "Sx=-1/u0*re(By*conjugate(Ez))\n",
    "Sy=1/u0*re(Bx*conjugate(Ez))\n",
    "Sz=1/u0*re(conjugate(Ex)*By-conjugate(Ey)*Bx)"
   ]
  },
  {
   "cell_type": "code",
   "execution_count": 7,
   "metadata": {},
   "outputs": [
    {
     "data": {
      "image/png": "[encoded data removed]",
      "text/latex": [
       "$$0$$"
      ],
      "text/plain": [
       "0"
      ]
     },
     "metadata": {},
     "output_type": "display_data"
    },
    {
     "data": {
      "image/png": "[encoded data removed]",
      "text/latex": [
       "$$0$$"
      ],
      "text/plain": [
       "0"
      ]
     },
     "metadata": {},
     "output_type": "display_data"
    },
    {
     "name": "stdout",
     "output_type": "stream",
     "text": [
      "Sz is:\n"
     ]
    },
    {
     "data": {
      "image/png": "[encoded data removed]",
      "text/latex": [
       "$$\\frac{E_{0}^{2} \\omega c^{2} k \\left(k_{x}^{2} \\sin^{2}{\\left (k_{y} y \\right )} \\cos^{2}{\\left (k_{x} x \\right )} + k_{y}^{2} \\sin^{2}{\\left (k_{x} x \\right )} \\cos^{2}{\\left (k_{y} y \\right )}\\right)}{\\mu_0 \\omega_{mn}^{4}}$$"
      ],
      "text/plain": [
       "  2         2   ⎛  2    2           2            2    2          2       ⎞\n",
       "E₀ ⋅\\omega⋅c ⋅k⋅⎝kₓ ⋅sin (k_y⋅y)⋅cos (kₓ⋅x) + k_y ⋅sin (kₓ⋅x)⋅cos (k_y⋅y)⎠\n",
       "──────────────────────────────────────────────────────────────────────────\n",
       "                                            4                             \n",
       "                            \\mu₀⋅\\omega_{mn}                              "
      ]
     },
     "metadata": {},
     "output_type": "display_data"
    }
   ],
   "source": [
    "display(Sx)\n",
    "display(Sy)\n",
    "print(\"Sz is:\")\n",
    "display(Sz.simplify())"
   ]
  },
  {
   "cell_type": "code",
   "execution_count": 8,
   "metadata": {},
   "outputs": [
    {
     "name": "stdout",
     "output_type": "stream",
     "text": [
      "time averaged poynting vector is:\n"
     ]
    },
    {
     "data": {
      "image/png": "[encoded data removed]",
      "text/latex": [
       "$$\\frac{\\pi^{2} E_{0}^{2} \\omega c^{2} k \\left(a^{2} n^{2} \\sin^{2}{\\left (\\frac{\\pi m x}{a} \\right )} \\cos^{2}{\\left (\\frac{\\pi n y}{b} \\right )} + b^{2} m^{2} \\sin^{2}{\\left (\\frac{\\pi n y}{b} \\right )} \\cos^{2}{\\left (\\frac{\\pi m x}{a} \\right )}\\right)}{2 \\mu_0 \\omega_{mn}^{4} a^{2} b^{2}}$$"
      ],
      "text/plain": [
       " 2   2         2   ⎛ 2  2    2⎛π⋅m⋅x⎞    2⎛π⋅n⋅y⎞    2  2    2⎛π⋅n⋅y⎞    2⎛π⋅m\n",
       "π ⋅E₀ ⋅\\omega⋅c ⋅k⋅⎜a ⋅n ⋅sin ⎜─────⎟⋅cos ⎜─────⎟ + b ⋅m ⋅sin ⎜─────⎟⋅cos ⎜───\n",
       "                   ⎝          ⎝  a  ⎠     ⎝  b  ⎠             ⎝  b  ⎠     ⎝  a\n",
       "──────────────────────────────────────────────────────────────────────────────\n",
       "                                              4  2  2                         \n",
       "                            2⋅\\mu₀⋅\\omega_{mn} ⋅a ⋅b                          \n",
       "\n",
       "⋅x⎞⎞\n",
       "──⎟⎟\n",
       "  ⎠⎠\n",
       "────\n",
       "    \n",
       "    "
      ]
     },
     "metadata": {},
     "output_type": "display_data"
    }
   ],
   "source": [
    "print(\"time averaged poynting vector is:\")\n",
    "display((Sz/2).subs(kx,m*pi/a).subs(ky,n*pi/b).simplify())"
   ]
  },
  {
   "cell_type": "code",
   "execution_count": 9,
   "metadata": {},
   "outputs": [],
   "source": [
    "u = Rational(1, 4)*(e0*(abs(Ex)**2+abs(Ey)**2+abs(Ez**2))+\\\n",
    "                    (abs(Bx)**2+abs(By)**2+abs(Bz**2))/u0)"
   ]
  },
  {
   "cell_type": "code",
   "execution_count": 10,
   "metadata": {},
   "outputs": [
    {
     "name": "stdout",
     "output_type": "stream",
     "text": [
      "time averaged energy density is:\n"
     ]
    },
    {
     "data": {
      "image/png": "[encoded data removed]",
      "text/latex": [
       "$$\\frac{E_{0}^{2} \\left(\\epsilon_0 \\mu_0 \\left(\\omega_{mn}^{4} a^{2} b^{2} \\sin^{2}{\\left (\\frac{\\pi m x}{a} \\right )} \\sin^{2}{\\left (\\frac{\\pi n y}{b} \\right )} + \\pi^{2} a^{2} c^{4} k^{2} n^{2} \\sin^{2}{\\left (\\frac{\\pi m x}{a} \\right )} \\cos^{2}{\\left (\\frac{\\pi n y}{b} \\right )} + \\pi^{2} b^{2} c^{4} k^{2} m^{2} \\sin^{2}{\\left (\\frac{\\pi n y}{b} \\right )} \\cos^{2}{\\left (\\frac{\\pi m x}{a} \\right )}\\right) + \\pi^{2} \\omega^{2} \\left(a^{2} n^{2} \\sin^{2}{\\left (\\frac{\\pi m x}{a} \\right )} \\cos^{2}{\\left (\\frac{\\pi n y}{b} \\right )} + b^{2} m^{2} \\sin^{2}{\\left (\\frac{\\pi n y}{b} \\right )} \\cos^{2}{\\left (\\frac{\\pi m x}{a} \\right )}\\right)\\right)}{4 \\mu_0 \\omega_{mn}^{4} a^{2} b^{2}}$$"
      ],
      "text/plain": [
       "  2 ⎛               ⎛           4  2  2    2⎛π⋅m⋅x⎞    2⎛π⋅n⋅y⎞    2  2  4  2 \n",
       "E₀ ⋅⎜\\epsilon₀⋅\\mu₀⋅⎜\\omega_{mn} ⋅a ⋅b ⋅sin ⎜─────⎟⋅sin ⎜─────⎟ + π ⋅a ⋅c ⋅k ⋅\n",
       "    ⎝               ⎝                       ⎝  a  ⎠     ⎝  b  ⎠               \n",
       "──────────────────────────────────────────────────────────────────────────────\n",
       "                                                                              \n",
       "                                                                              \n",
       "\n",
       " 2    2⎛π⋅m⋅x⎞    2⎛π⋅n⋅y⎞    2  2  4  2  2    2⎛π⋅n⋅y⎞    2⎛π⋅m⋅x⎞⎞    2     \n",
       "n ⋅sin ⎜─────⎟⋅cos ⎜─────⎟ + π ⋅b ⋅c ⋅k ⋅m ⋅sin ⎜─────⎟⋅cos ⎜─────⎟⎟ + π ⋅\\ome\n",
       "       ⎝  a  ⎠     ⎝  b  ⎠                      ⎝  b  ⎠     ⎝  a  ⎠⎠          \n",
       "──────────────────────────────────────────────────────────────────────────────\n",
       "                                       4  2  2                                \n",
       "                     4⋅\\mu₀⋅\\omega_{mn} ⋅a ⋅b                                 \n",
       "\n",
       "  2 ⎛ 2  2    2⎛π⋅m⋅x⎞    2⎛π⋅n⋅y⎞    2  2    2⎛π⋅n⋅y⎞    2⎛π⋅m⋅x⎞⎞⎞\n",
       "ga ⋅⎜a ⋅n ⋅sin ⎜─────⎟⋅cos ⎜─────⎟ + b ⋅m ⋅sin ⎜─────⎟⋅cos ⎜─────⎟⎟⎟\n",
       "    ⎝          ⎝  a  ⎠     ⎝  b  ⎠             ⎝  b  ⎠     ⎝  a  ⎠⎠⎠\n",
       "────────────────────────────────────────────────────────────────────\n",
       "                                                                    \n",
       "                                                                    "
      ]
     },
     "metadata": {},
     "output_type": "display_data"
    }
   ],
   "source": [
    "print(\"time averaged energy density is:\")\n",
    "display(u.subs(kx,m*pi/a).subs(ky,n*pi/b).simplify())"
   ]
  },
  {
   "cell_type": "markdown",
   "metadata": {},
   "source": [
    "(c)"
   ]
  },
  {
   "cell_type": "code",
   "execution_count": 11,
   "metadata": {},
   "outputs": [
    {
     "name": "stdout",
     "output_type": "stream",
     "text": [
      "the poynting vector integral is:\n"
     ]
    },
    {
     "data": {
      "image/png": "[encoded data removed]",
      "text/latex": [
       "$$\\frac{E_{0}^{2} \\omega a b k}{8 \\mu_0 \\omega_{mn}^{2}}$$"
      ],
      "text/plain": [
       "    2              \n",
       "  E₀ ⋅\\omega⋅a⋅b⋅k \n",
       "───────────────────\n",
       "                  2\n",
       "8⋅\\mu₀⋅\\omega_{mn} "
      ]
     },
     "metadata": {},
     "output_type": "display_data"
    }
   ],
   "source": [
    "Sa=(Sz/2).subs(cos(kx*x)**2,a/2).subs(sin(kx*x)**2,a/2).subs(cos(ky*y)**2,b/2).subs(sin(ky*y)**2,b/2)\n",
    "print('the poynting vector integral is:')\n",
    "Sa=Sa.simplify().subs(kx**2+ky**2,wmn**2/c**2)\n",
    "display(Sa)"
   ]
  },
  {
   "cell_type": "code",
   "execution_count": 12,
   "metadata": {},
   "outputs": [
    {
     "name": "stdout",
     "output_type": "stream",
     "text": [
      "the energy density integral is:\n"
     ]
    },
    {
     "data": {
      "image/png": "[encoded data removed]",
      "text/latex": [
       "$$\\frac{E_{0}^{2} \\omega^{2} a b}{8 \\mu_0 \\omega_{mn}^{2} c^{2}}$$"
      ],
      "text/plain": [
       "     2       2        \n",
       "   E₀ ⋅\\omega ⋅a⋅b    \n",
       "──────────────────────\n",
       "                  2  2\n",
       "8⋅\\mu₀⋅\\omega_{mn} ⋅c "
      ]
     },
     "metadata": {},
     "output_type": "display_data"
    }
   ],
   "source": [
    "Su=u.subs(cos(kx*x)**2,a/2).subs(sin(kx*x)**2,a/2).subs(cos(ky*y)**2,b/2).subs(sin(ky*y)**2,b/2)\n",
    "print('the energy density integral is:')\n",
    "\n",
    "Su=Su.simplify().subs(kx**2+ky**2,wmn**2/c**2).simplify()\n",
    "Su=Su.subs(e0*u0,1/(c**2))\n",
    "Su=Su.subs(c**4*k**2*kx**2+c**4*k**2*ky**2,c**2*k**2*wmn**2)\n",
    "Su=Su.subs(c**2*k**2, w**2-wmn**2).simplify()\n",
    "display(Su.simplify())"
   ]
  },
  {
   "cell_type": "code",
   "execution_count": 20,
   "metadata": {},
   "outputs": [
    {
     "name": "stdout",
     "output_type": "stream",
     "text": [
      "the group velocity is:\n"
     ]
    },
    {
     "data": {
      "image/png": "[encoded data removed]",
      "text/latex": [
       "$$c \\sqrt{1 - \\frac{\\omega_{mn}^{2}}{\\omega^{2}}}$$"
      ],
      "text/plain": [
       "        __________________\n",
       "       ╱                2 \n",
       "      ╱      \\omega_{mn}  \n",
       "c⋅   ╱   1 - ──────────── \n",
       "    ╱                2    \n",
       "  ╲╱           \\omega     "
      ]
     },
     "metadata": {},
     "output_type": "display_data"
    }
   ],
   "source": [
    "print (\"the group velocity is:\")\n",
    "vg=(Sa/Su).simplify()\n",
    "display(vg.subs(c*k/w,sqrt(1-(wmn/w)**2)))"
   ]
  }
 ],
 "metadata": {
  "kernelspec": {
   "display_name": "Python 3",
   "language": "python",
   "name": "python3"
  },
  "language_info": {
   "codemirror_mode": {
    "name": "ipython",
    "version": 3
   },
   "file_extension": ".py",
   "mimetype": "text/x-python",
   "name": "python",
   "nbconvert_exporter": "python",
   "pygments_lexer": "ipython3",
   "version": "3.7.1"
  }
 },
 "nbformat": 4,
 "nbformat_minor": 2
}
