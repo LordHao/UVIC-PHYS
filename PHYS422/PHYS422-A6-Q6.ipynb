{
 "cells": [
  {
   "cell_type": "code",
   "execution_count": 1,
   "metadata": {},
   "outputs": [
    {
     "name": "stdout",
     "output_type": "stream",
     "text": [
      "Populating the interactive namespace from numpy and matplotlib\n"
     ]
    }
   ],
   "source": [
    "%pylab inline"
   ]
  },
  {
   "cell_type": "code",
   "execution_count": 2,
   "metadata": {},
   "outputs": [],
   "source": [
    "w=1 #omega\n",
    "c=1\n",
    "v0=0.1*c\n",
    "x0=v0\n",
    "r=array([1,0,1])"
   ]
  },
  {
   "cell_type": "code",
   "execution_count": 3,
   "metadata": {},
   "outputs": [],
   "source": [
    "def traj(t):\n",
    "    x=x0*sin(w*t)\n",
    "    y=0\n",
    "    z=v0*t\n",
    "    return [x,y,z]\n",
    "\n",
    "def v(t):\n",
    "    vx=x0*w*cos(w*t)\n",
    "    vy=0\n",
    "    vz=v0\n",
    "    return [vx,vy,vz]\n",
    "\n",
    "def ac(t):\n",
    "    ax=-xo*w*cos(w*t)\n",
    "    ay=0\n",
    "    az=0\n",
    "    return [ax,ay,az]"
   ]
  },
  {
   "cell_type": "code",
   "execution_count": 4,
   "metadata": {},
   "outputs": [],
   "source": [
    "def newt(tw,t):\n",
    "    for i in range(N):\n",
    "        \n",
    "        w=traj(tw)\n",
    "        \n",
    "        f=tw-t+1/c*sqrt(dot((r-w), (r-w)))\n",
    "        \n",
    "        fp=1-1/c*dot((r-w),v(tw))/sqrt(dot((r-w), (r-w)))\n",
    "        \n",
    "        tw=tw-f/fp\n",
    "    \n",
    "    return tw"
   ]
  },
  {
   "cell_type": "code",
   "execution_count": 5,
   "metadata": {},
   "outputs": [],
   "source": [
    "def EB(t):\n",
    "    tr=newt(t,t)\n",
    "    w=traj(tr)\n",
    "    sr=r-w\n",
    "    srl=sqrt(dot(sr, sr))\n",
    "    sru=sr/srl\n",
    "    u=c*sru-v(tr)\n",
    "    E=srl/(dot(sr,u))**3*(dot((c**2-v(tr)**2),u)+coss(sr,cross(sr,a(tr))))\n",
    "    B=1/c*cross(sru,E)\n",
    "    return E,B   "
   ]
  },
  {
   "cell_type": "code",
   "execution_count": null,
   "metadata": {},
   "outputs": [],
   "source": []
  }
 ],
 "metadata": {
  "kernelspec": {
   "display_name": "Python 3",
   "language": "python",
   "name": "python3"
  },
  "language_info": {
   "codemirror_mode": {
    "name": "ipython",
    "version": 3
   },
   "file_extension": ".py",
   "mimetype": "text/x-python",
   "name": "python",
   "nbconvert_exporter": "python",
   "pygments_lexer": "ipython3",
   "version": "3.7.1"
  }
 },
 "nbformat": 4,
 "nbformat_minor": 2
}
