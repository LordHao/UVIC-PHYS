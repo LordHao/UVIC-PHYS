{
 "cells": [
  {
   "cell_type": "code",
   "execution_count": 1,
   "metadata": {},
   "outputs": [
    {
     "name": "stdout",
     "output_type": "stream",
     "text": [
      "Populating the interactive namespace from numpy and matplotlib\n"
     ]
    }
   ],
   "source": [
    "%pylab inline\n",
    "import math"
   ]
  },
  {
   "cell_type": "code",
   "execution_count": 2,
   "metadata": {},
   "outputs": [
    {
     "name": "stdout",
     "output_type": "stream",
     "text": [
      "the depth of upstream d_0 is: 16.6 m\n"
     ]
    }
   ],
   "source": [
    "c=4.51**3/2\n",
    "bm=-3/2*4.51-10\n",
    "coeff=[1,bm,0,c]\n",
    "print (r'the depth of upstream d_0 is: %s m'%round(roots(coeff)[0],2))"
   ]
  },
  {
   "cell_type": "code",
   "execution_count": 3,
   "metadata": {},
   "outputs": [],
   "source": [
    "d=0.1\n",
    "def B(x):\n",
    "    return (x/100-3/2*4.51) #quadratic coefficient\n",
    "x=arange(-1000,d,d)  #generate x\n",
    "x=array(x)\n",
    "X=[]\n",
    "Y=[]\n",
    "for i in range(len(x)):\n",
    "    b=B(x[i])\n",
    "    coeff = [1, b, 0, c] #define the cubic equation\n",
    "\n",
    "    index=where((iscomplex(roots(coeff))==False)&(roots(coeff)>0)) # find the real positive root\n",
    "    if(len(index[0])>0):\n",
    "        X.append(x[i])\n",
    "        Y.append(roots(coeff)[index][0])\n",
    "X=array(X)\n",
    "Y=array(Y)"
   ]
  },
  {
   "cell_type": "code",
   "execution_count": 4,
   "metadata": {},
   "outputs": [],
   "source": [
    "def H(x):\n",
    "    return x/100+10 #the hight of the obstacle\n",
    "Y0=Y+H(X)"
   ]
  },
  {
   "cell_type": "code",
   "execution_count": 5,
   "metadata": {},
   "outputs": [
    {
     "data": {
      "image/png": "[encoded data removed]",
      "text/plain": [
       "<Figure size 432x288 with 1 Axes>"
      ]
     },
     "metadata": {
      "needs_background": "light"
     },
     "output_type": "display_data"
    },
    {
     "data": {
      "image/png": "[encoded data removed]",
      "text/plain": [
       "<Figure size 432x288 with 1 Axes>"
      ]
     },
     "metadata": {
      "needs_background": "light"
     },
     "output_type": "display_data"
    }
   ],
   "source": [
    "figure(1)\n",
    "plot(X,Y,'r-')\n",
    "title('the depth of the water')\n",
    "xlabel('x [m]')\n",
    "ylabel('d [m]')\n",
    "xlim(-1000,0)\n",
    "\n",
    "figure(2)\n",
    "plot(X,Y0,'r-')\n",
    "plot(X,H(X),'b-')\n",
    "title('the water line')\n",
    "xlabel('x [m]')\n",
    "ylabel('d [m]')\n",
    "ylim(0,17)\n",
    "xlim(-1000,0)\n",
    "show()"
   ]
  },
  {
   "cell_type": "markdown",
   "metadata": {},
   "source": [
    "check if\n",
    "\n",
    "$\\lim\\limits_{\\delta x \\to 0}(1-(\\frac{d_m}{d(x)})^3)\\frac{d(x+\\delta x)-d(x)}{\\delta x}=-\\frac{1}{100}$\n"
   ]
  },
  {
   "cell_type": "code",
   "execution_count": 6,
   "metadata": {
    "scrolled": false
   },
   "outputs": [
    {
     "data": {
      "text/plain": [
       "array([-0.01 , -0.01 , -0.01 , ..., -0.011, -0.011, -0.012])"
      ]
     },
     "metadata": {},
     "output_type": "display_data"
    },
    {
     "name": "stdout",
     "output_type": "stream",
     "text": [
      "9995\n"
     ]
    }
   ],
   "source": [
    "def f(x,y):\n",
    "    return(1-(4.51/x)**3)*(y-x)/d\n",
    "s=[]\n",
    "for i in range(len(Y)):\n",
    "    if i<=len(Y)-2:\n",
    "        d=X[i+1]-X[i]\n",
    "        s.append(f(Y[i],Y[i+1]))\n",
    "    else:\n",
    "        pass\n",
    "s=array(s)\n",
    "display(around(s,3)) \n",
    "print (len(where(around(s,3)==-0.01)[0])) #figure out how many d satisfies the momentum balance"
   ]
  }
 ],
 "metadata": {
  "kernelspec": {
   "display_name": "Python 3",
   "language": "python",
   "name": "python3"
  },
  "language_info": {
   "codemirror_mode": {
    "name": "ipython",
    "version": 3
   },
   "file_extension": ".py",
   "mimetype": "text/x-python",
   "name": "python",
   "nbconvert_exporter": "python",
   "pygments_lexer": "ipython3",
   "version": "3.7.1"
  }
 },
 "nbformat": 4,
 "nbformat_minor": 2
}
