{
 "cells": [
  {
   "cell_type": "code",
   "execution_count": 1,
   "metadata": {},
   "outputs": [
    {
     "name": "stdout",
     "output_type": "stream",
     "text": [
      "Populating the interactive namespace from numpy and matplotlib\n"
     ]
    }
   ],
   "source": [
    "%pylab inline\n",
    "import sys"
   ]
  },
  {
   "cell_type": "markdown",
   "metadata": {},
   "source": [
    "# The total chromaticity is given by :\n",
    "\n",
    "# $ \\xi_{tot} = \\frac{1}{4\\pi} \\oint [ m (s)D(s)+k(s)] \\beta(s) ds $\n",
    "\n",
    "## Where m is the strength of the sextupole; D is the dispersion function; k is the quadrupole strength; $\\beta$ is the beta function \n",
    "\n",
    "## There exists a linear relationship between the chromaticity and the sextupole strength, and the slope is proportional to the product of D and $\\beta$"
   ]
  },
  {
   "cell_type": "markdown",
   "metadata": {},
   "source": [
    "$  $"
   ]
  },
  {
   "cell_type": "markdown",
   "metadata": {},
   "source": [
    "## $\\begin{cases} \\begin{align*} \\xi_x &= \\sum_im_i \\Delta x_i + x_0 \\\\\n",
    "                              \\xi_y &= \\sum_i n_i \\Delta x_i + y_0 \\end{align*}\\end{cases}$ \n",
    "\n",
    "\n",
    "##  Where $\\xi_x$, $\\xi_y$ is the first order chromaticity of the original lattice \n",
    "\n",
    "## $\\Delta x_i$ is the variation of the strength of the sextupole\n",
    "\n",
    "## $m_i$, $ n_i$ only depends on local optical functions\n",
    "\n",
    "## $x_0$, $y_0$ is the first order chromaticity of the HER with Rot installed before fixing the chrom"
   ]
  },
  {
   "cell_type": "markdown",
   "metadata": {},
   "source": [
    "$   $ "
   ]
  },
  {
   "cell_type": "markdown",
   "metadata": {},
   "source": [
    "$ $"
   ]
  },
  {
   "cell_type": "code",
   "execution_count": 2,
   "metadata": {},
   "outputs": [],
   "source": [
    "ss = array([-3.57664, 0.8176, -3.60689, -1.7296, 0.82926, -1.69482, 0.50485067061]) # original sexutople strength"
   ]
  },
  {
   "cell_type": "code",
   "execution_count": 3,
   "metadata": {},
   "outputs": [],
   "source": [
    "m = array([0.699, 6.3548, 0.6984, 0.7042, 6.3707, 0.699, 6.3643]) #coefficient of the first equation\n",
    "\n",
    "n = array([-1.7957, -1.9373, -1.7892, -1.7899, -1.9367, -1.7831, -1.928]) # coefficient of the second equation\n",
    "\n",
    "CX = 1.593508     #orginal chrom.x\n",
    "CY = 1.622865     #orginal chrom.y\n",
    "\n",
    "x0 = -1.190362    #current chrom.x\n",
    "y0 = -6.084533    #current chrom.y"
   ]
  },
  {
   "cell_type": "code",
   "execution_count": 4,
   "metadata": {},
   "outputs": [],
   "source": [
    "def cx(x):         #compute chrom.x\n",
    "    return dot(m,x) + x0     \n",
    "\n",
    "def cy(x):         #compute chrom.y\n",
    "    return dot(n,x) + y0    "
   ]
  },
  {
   "cell_type": "markdown",
   "metadata": {},
   "source": [
    "$  $"
   ]
  },
  {
   "cell_type": "markdown",
   "metadata": {},
   "source": [
    "# let $\\xi'_x = \\xi_x - x_0 $, and  $\\xi'_y = \\xi_y - y_0 $\n",
    "\n",
    "## $\\begin{cases} \\begin{align*} \\xi'_x &= m_1 \\Delta x_1+m_2 \\Delta x_2 + ...+ m_N \\Delta x_N  \\\\\n",
    "                              \\xi'_y &= n_1 \\Delta x_1+n_2 \\Delta x_2 + ...+ n_N \\Delta x_N  \\end{align*}\\end{cases}$ \n",
    "\n",
    "# N variables to be determined and exists 2 equations, so there are N-2 free variables\n",
    "                              \n",
    "## Manipulate the second equation, find $\\Delta x_1$ as a function of other variables\n",
    "\n",
    "## $\\Delta x_1 = \\frac{\\xi'_y - n_2 \\Delta x_2 - ...- n_N \\Delta x_N}{n_1}$, subsitute it into the first equation \n",
    "\n",
    "## $\\xi'_x - \\frac{m_1 \\xi'_y}{n_1} = (m_2-\\frac{m_1 n_2}{n_1}) \\Delta x_2 +(m_3-\\frac{m_1 n_3}{n_1}) \\Delta x_3 + ...+ (m_N-\\frac{m_1 n_N}{n_1}) \\Delta x_N$"
   ]
  },
  {
   "cell_type": "code",
   "execution_count": 5,
   "metadata": {},
   "outputs": [
    {
     "name": "stdout",
     "output_type": "stream",
     "text": [
      "the coefficients are : [5.60068033e+00 1.93021106e-03 7.45772679e-03 5.61681388e+00\n",
      " 4.90471682e-03 5.61380047e+00]\n"
     ]
    }
   ],
   "source": [
    "coeff = array([m[i]-m[0]*n[i]/n[0] for i in arange(1,len(m))])   # coefficients of equation above\n",
    "\n",
    "print('the coefficients are :' ,coeff)"
   ]
  },
  {
   "cell_type": "code",
   "execution_count": 6,
   "metadata": {},
   "outputs": [],
   "source": [
    "def func(X0,Y0,x): # function to comptue x1 and x2; x is the array contains 4 free variables (x3,x4,x5,x6)\n",
    "    Xp = CX - X0   #Chrom'.x\n",
    "    Yp = CY - Y0   #Chrom'.y\n",
    "    lhs = Xp - m[0]*Yp/n[0]                 # compute LHS in the equation above\n",
    "    x2 = (lhs-dot(coeff[1:],x))/coeff[0]    # variable x2\n",
    "    x1 = (Yp - n[1]*x2- dot(n[2:],x))/n[0]  # variable x1\n",
    "    return x1, x2"
   ]
  },
  {
   "cell_type": "markdown",
   "metadata": {},
   "source": [
    "# To solve for the equation at minimum strength:\n",
    "\n",
    "## Step 1: First generate a data array for N-2 free variables within a resonable range\n",
    "\n",
    "## Step 2: Pick a number from each data array to generate a data group for those N-2 variables $\\{x_3, x_4, ..., x_N\\}$\n",
    "\n",
    "## Step3: Compute $x_1, x_2$ and only record solutions which are in the desired range\n",
    "\n",
    "## Step4: Find the maximum strength in each solution array {$x_1,x_2,... ,x_N$}\n",
    "\n",
    "## Step5: make a comparison between the maximum value of each solution array  to find the minimum, which is the expected solution\n",
    "\n",
    "## Step6: Do iterations, gradually narrow dataset range util a global minimum is found\n",
    "## e.g. let's say, in first iteration, find $x_3$ = 3.1. The initial data range of $x_3$ is $[-5.5,5.5]$, now  add $\\pm 0.5$ to 3.1.  Narrow this range to $[2.6,3.6]$, and  use it for the next iteration."
   ]
  },
  {
   "cell_type": "markdown",
   "metadata": {},
   "source": [
    "## Optimizer   "
   ]
  },
  {
   "cell_type": "code",
   "execution_count": 7,
   "metadata": {
    "scrolled": false
   },
   "outputs": [],
   "source": [
    "def multsolver(X0,Y0,a,b,c,d,f):\n",
    "\n",
    "    xxi = []\n",
    "    \n",
    "    for i in range(num):\n",
    "        for j in range(num): \n",
    "            for k in range(num):\n",
    "                for l in range(num):\n",
    "                    for m in range(num):\n",
    "                        xx = array([a[i],b[j],c[k],d[l],f[m]]) # record free variables\n",
    "                        x1 = func(X0,Y0,xx)[0]      # compute x1\n",
    "                        x2 = func(X0,Y0,xx)[1]      # compute x2\n",
    "                                    \n",
    "                        if abs(x1) <=3 and 0<x2 <= 1 and 0<xx[2]<=1:\n",
    "                            xs = concatenate((x1,x2),axis=None) # write x1, x2 into one array\n",
    "                            xxi.append(concatenate((xs,xx),axis=None))#generate the solution array \n",
    "                        \n",
    "    xxi = array(xxi)\n",
    "    \n",
    "    xxim = []\n",
    "    for i in range(len(xxi)):\n",
    "        xxim.append(max(abs(xxi[i]+ss))) # find the maxium value of N variables in each solution\n",
    "    xxim = array(xxim)\n",
    "    \n",
    "    if len(xxim)==0:\n",
    "        sys.exit('The optimizer can not find a solution in this given range, please increase the maximum strength')\n",
    "        # if no solution, increase the max \n",
    "    nm = where(xxim == min(xxim))[0][0]      # find where the minimum solution is\n",
    "    return xxi[nm]         # return solution"
   ]
  },
  {
   "cell_type": "code",
   "execution_count": 8,
   "metadata": {},
   "outputs": [],
   "source": [
    "def opt(x0,y0,mm,ni,num):   # sextupole strength optimizer\n",
    "    \n",
    "    ama =  mm   ## max of the data \n",
    "    ami = -mm   ## min of the data \n",
    "    bma =  mm\n",
    "    bmi =  mm\n",
    "    cma =  mm\n",
    "    cmi = -mm\n",
    "    dma =  mm\n",
    "    dmi = -mm\n",
    "    fma =  mm\n",
    "    fmi = -mm\n",
    "\n",
    "    \n",
    "    sa = []  # initialize solution array\n",
    "    msa = [] # initialize maximum strength array\n",
    "    \n",
    "    for i in range(ni):\n",
    "        a = linspace(ami,ama,num)     # generating data within the required range \n",
    "        b = linspace(bmi,bma,num)\n",
    "        c = linspace(cmi,cma,num)\n",
    "        d = linspace(dmi,dma,num)\n",
    "        f = linspace(fmi,fma,num)\n",
    "        \n",
    "        s = multsolver(x0,y0,a,b,c,d,f) # compute x1,x2\n",
    "    \n",
    "        ms = max(abs(s+ss))            # find the max in solution array\n",
    "    \n",
    "        ra = 1- i/10                    # narrowing the variation range of data array\n",
    "    \n",
    "        if ra<0.1:                     # set minimum variation range\n",
    "            ra=0.1\n",
    "\n",
    "        if i!= 0 and ms >= msa[-1]:    # if iteration step finds a bigger strength, \n",
    "                                       #go back to previous solution and increase num\n",
    "            num += 1\n",
    "        \n",
    "            ama = sa[-1][2]+ra\n",
    "            ami = sa[-1][2]-ra\n",
    "        \n",
    "            bma = sa[-1][3]+ra\n",
    "            bmi = sa[-1][3]-ra\n",
    "        \n",
    "            cma = sa[-1][4]+ra\n",
    "            cmi = sa[-1][4]-ra\n",
    "        \n",
    "            dma = sa[-1][5]+ra\n",
    "            dmi = sa[-1][5]-ra\n",
    "            \n",
    "            fma = sa[-1][6]+ra\n",
    "            fmi = sa[-1][6]-ra\n",
    "            \n",
    "        else:\n",
    "            ama = s[2]+ra\n",
    "            ami = s[2]-ra\n",
    "        \n",
    "            bma = s[3]+ra\n",
    "            bmi = s[3]-ra\n",
    "        \n",
    "            cma = s[4]+ra\n",
    "            cmi = s[4]-ra\n",
    "        \n",
    "            dma = s[5]+ra\n",
    "            dmi = s[5]-ra\n",
    "            \n",
    "            fma = s[6]+ra\n",
    "            fmi = s[6]-ra\n",
    "            \n",
    "        \n",
    "        if num >= 15:    #insurance of efficiency\n",
    "            num = 15\n",
    "            \n",
    "        sa.append(s)\n",
    "        msa.append(ms)\n",
    "\n",
    "        print('iteration step: %s'%(i+1))\n",
    "        print('the max strength is:',ms)\n",
    "        print(s+ss)\n",
    "        print(num)\n",
    "        print('')\n",
    "        print('')\n",
    "    \n",
    "    sa = array(sa)\n",
    "    msa = array(msa)\n",
    "\n",
    "    nm = where(msa ==min(msa))[0][0]      # find the where the minimum solution is\n",
    "\n",
    "    xs = sa[nm]\n",
    "    print('the iretation step reached mininum:',nm+1)\n",
    "    print('the max strength in the solution is:',min(msa))\n",
    "    return xs"
   ]
  },
  {
   "cell_type": "code",
   "execution_count": 9,
   "metadata": {},
   "outputs": [],
   "source": [
    "mm = 3   # max variation of sextupole strength\n",
    "ni = 15    # number of iterations to do\n",
    "num  = 8   # number of data to be generated"
   ]
  },
  {
   "cell_type": "code",
   "execution_count": 10,
   "metadata": {
    "scrolled": false
   },
   "outputs": [
    {
     "name": "stdout",
     "output_type": "stream",
     "text": [
      "iteration step: 1\n",
      "the max strength is: 6.60689\n",
      "[-6.00004578  0.99063039 -6.60689     1.2704      1.25783143 -4.69482\n",
      "  0.9334221 ]\n",
      "8\n",
      "\n",
      "\n",
      "iteration step: 2\n",
      "the max strength is: 5.60689\n",
      "[-5.29591627  1.56508691 -5.60689     0.2704      1.11497429 -5.40910571\n",
      "  0.50485067]\n",
      "8\n",
      "\n",
      "\n",
      "iteration step: 3\n",
      "the max strength is: 5.221175714285714\n",
      "[-5.16638593  1.56588379 -5.22117571 -0.6296      0.98640286 -5.02339143\n",
      "  0.6334221 ]\n",
      "8\n",
      "\n",
      "\n",
      "iteration step: 4\n",
      "the max strength is: 4.909105714285715\n",
      "[-4.82625765  1.79589917 -4.87831857 -1.4296      0.87211714 -4.90910571\n",
      "  0.51913638]\n",
      "8\n",
      "\n",
      "\n",
      "iteration step: 5\n",
      "the max strength is: 4.720199628136784\n",
      "[-4.72019963  0.99453728 -4.57831857 -2.1296      0.97211714 -4.60910571\n",
      "  1.21913638]\n",
      "8\n",
      "\n",
      "\n",
      "iteration step: 6\n",
      "the max strength is: 4.492604285714286\n",
      "[-4.46838613  1.68244825 -4.49260429 -2.7296      0.88640286 -4.35196286\n",
      "  0.61913638]\n",
      "8\n",
      "\n",
      "\n",
      "iteration step: 7\n",
      "the max strength is: 4.280534285714286\n",
      "[-4.25531425  1.68293921 -4.27831857 -3.2296      0.95783143 -4.28053429\n",
      "  0.54770781]\n",
      "8\n",
      "\n",
      "\n",
      "iteration step: 8\n",
      "the max strength is: 4.193529579479185\n",
      "[-4.19352958  0.88117333 -4.10689    -3.6296      1.35783143 -4.10910571\n",
      "  0.94770781]\n",
      "8\n",
      "\n",
      "\n",
      "iteration step: 9\n",
      "the max strength is: 4.064032857142857\n",
      "[-4.06388408  0.88160685 -4.06403286 -3.9296      1.05783143 -3.98053429\n",
      "  1.24770781]\n",
      "8\n",
      "\n",
      "\n",
      "iteration step: 10\n",
      "the max strength is: 4.034548406293641\n",
      "[-4.03454841  0.82451661 -3.97831857 -4.01531429  0.91497429 -4.00910571\n",
      "  1.44770781]\n",
      "8\n",
      "\n",
      "\n",
      "iteration step: 11\n",
      "the max strength is: 4.0211757142857145\n",
      "[-4.02104966  0.96773008 -4.02117571 -4.00102857  0.84354571 -3.99482\n",
      "  1.37627924]\n",
      "8\n",
      "\n",
      "\n",
      "iteration step: 12\n",
      "the max strength is: 4.015314285714286\n",
      "[-4.0076088   1.05366408 -4.00689    -4.01531429  0.85783143 -4.00910571\n",
      "  1.27627924]\n",
      "8\n",
      "\n",
      "\n",
      "iteration step: 13\n",
      "the max strength is: 4.0211757142857145\n",
      "[-4.02104966  0.96773008 -4.02117571 -4.00102857  0.84354571 -3.99482\n",
      "  1.37627924]\n",
      "9\n",
      "\n",
      "\n",
      "iteration step: 14\n",
      "the max strength is: 4.015314285714286\n",
      "[-4.00846548  1.17897036 -4.00689    -4.01531429  0.83283143 -4.00910571\n",
      "  1.17627924]\n",
      "9\n",
      "\n",
      "\n",
      "iteration step: 15\n",
      "the max strength is: 4.015314285714286\n",
      "[-4.00923612  1.27920462 -4.00689    -4.01531429  0.83283143 -4.00910571\n",
      "  1.07627924]\n",
      "10\n",
      "\n",
      "\n",
      "the iretation step reached mininum: 12\n",
      "the max strength in the solution is: 4.015314285714286\n"
     ]
    }
   ],
   "source": [
    "solution = opt(x0,y0,mm,ni,num)"
   ]
  },
  {
   "cell_type": "code",
   "execution_count": 11,
   "metadata": {},
   "outputs": [
    {
     "data": {
      "text/plain": [
       "array([-3.57664   ,  0.8176    , -3.60689   , -1.7296    ,  0.82926   ,\n",
       "       -1.69482   ,  0.50485067])"
      ]
     },
     "execution_count": 11,
     "metadata": {},
     "output_type": "execute_result"
    }
   ],
   "source": [
    "ss #original sextupoles"
   ]
  },
  {
   "cell_type": "code",
   "execution_count": 12,
   "metadata": {},
   "outputs": [
    {
     "data": {
      "text/plain": [
       "array([-0.4309688 ,  0.23606408, -0.4       , -2.28571429,  0.02857143,\n",
       "       -2.31428571,  0.77142857])"
      ]
     },
     "execution_count": 12,
     "metadata": {},
     "output_type": "execute_result"
    }
   ],
   "source": [
    "solution  #variation of the sextupoles strength"
   ]
  },
  {
   "cell_type": "code",
   "execution_count": 13,
   "metadata": {},
   "outputs": [
    {
     "data": {
      "text/plain": [
       "array([-4.0076088 ,  1.05366408, -4.00689   , -4.01531429,  0.85783143,\n",
       "       -4.00910571,  1.27627924])"
      ]
     },
     "execution_count": 13,
     "metadata": {},
     "output_type": "execute_result"
    }
   ],
   "source": [
    "solution+ss #solution array "
   ]
  },
  {
   "cell_type": "markdown",
   "metadata": {},
   "source": [
    "# Orginal chromaticity  $\\xi_x = 1.593508$   "
   ]
  },
  {
   "cell_type": "code",
   "execution_count": 14,
   "metadata": {},
   "outputs": [
    {
     "data": {
      "text/plain": [
       "1.5935080000000004"
      ]
     },
     "execution_count": 14,
     "metadata": {},
     "output_type": "execute_result"
    }
   ],
   "source": [
    "cx(solution) # testing the solution"
   ]
  },
  {
   "cell_type": "markdown",
   "metadata": {},
   "source": [
    "# Orginal chromaticity $ \\xi_y = 1.622865$"
   ]
  },
  {
   "cell_type": "code",
   "execution_count": 15,
   "metadata": {},
   "outputs": [
    {
     "data": {
      "text/plain": [
       "1.622865000000001"
      ]
     },
     "execution_count": 15,
     "metadata": {},
     "output_type": "execute_result"
    }
   ],
   "source": [
    "cy(solution)"
   ]
  },
  {
   "cell_type": "markdown",
   "metadata": {},
   "source": [
    "# If the chrom matches above, use this solution as a initial guess to runing an optimization in Tao."
   ]
  }
 ],
 "metadata": {
  "kernelspec": {
   "display_name": "Python 3",
   "language": "python",
   "name": "python3"
  },
  "language_info": {
   "codemirror_mode": {
    "name": "ipython",
    "version": 3
   },
   "file_extension": ".py",
   "mimetype": "text/x-python",
   "name": "python",
   "nbconvert_exporter": "python",
   "pygments_lexer": "ipython3",
   "version": "3.8.5"
  }
 },
 "nbformat": 4,
 "nbformat_minor": 4
}
