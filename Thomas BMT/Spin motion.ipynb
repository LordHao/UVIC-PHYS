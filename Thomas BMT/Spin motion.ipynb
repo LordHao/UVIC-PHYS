{
 "cells": [
  {
   "cell_type": "code",
   "execution_count": 1,
   "metadata": {},
   "outputs": [
    {
     "name": "stdout",
     "output_type": "stream",
     "text": [
      "Populating the interactive namespace from numpy and matplotlib\n"
     ]
    }
   ],
   "source": [
    "%pylab inline\n",
    "import math"
   ]
  },
  {
   "cell_type": "markdown",
   "metadata": {},
   "source": [
    "# Thomas BMT equation\n",
    "\n",
    "## $\\frac{d\\vec{s}}{dt} = \\frac{q}{m \\gamma} \\vec{S} \\times \\big( (1+a\\gamma)\\vec{B}-a(\\gamma - 1)(\\hat{t}\\cdot \\vec{B})\\hat{t}-(a\\gamma + \\frac{\\gamma}{1+\\gamma})\\frac{\\beta \\hat{t}\\times \\vec{E}}{c}\\big)$\n",
    "\n",
    "### Where a is the anomalous g factor $a=\\frac{g-2}{2};\\hat{t}$ is the dirction aligned with the particle motion\n",
    "\n",
    "### First, we are only aiming at the ring dipoles in the Rot region: B2E,BLA6RE. So the second and the third term vanish, also assume the vertical spin is 0.\n",
    "\n",
    "## Now the equation reduced to:  $\\vec{\\omega}=\\frac{d\\vec{s}}{dt} = (\\frac{1}{\\gamma}+a)\\frac{q}{m} \\vec{S} \\times\\vec{B_{\\bot}} =-(\\frac{1}{\\gamma}+a)\\frac{e }{m} B_{\\bot} \\vec{S}\\times \\hat{y}=(\\frac{1}{\\gamma}+a)\\frac{e }{m} B_{\\bot}(S_z \\hat{x}-S_x \\hat{z})$\n",
    "\n",
    "##  $\\omega = \\frac{e}{m \\gamma}(1+a\\gamma)B_{\\bot}$\n",
    "\n",
    "\n",
    "## Note:   for electron q = -e, where e is the elementary charge, the dipole field is in the -y direction in the electron ring;so rotation is clockwise \n",
    "\n"
   ]
  },
  {
   "cell_type": "markdown",
   "metadata": {},
   "source": [
    "$ $\n",
    "$ $\n",
    "## The equations of spin motion is given by :\n",
    "\n",
    "## $\\begin{cases} \\begin{align*} \\dot{S_x} &= \\omega S_z \\\\  \\dot{S_z}&=-\\omega S_x\\end{align*}\\end{cases}$          \n",
    "\n",
    "\n",
    "##  $\\begin{cases} \\begin{align*} \\ddot{S_x} &= \\omega \\dot{S}_z = -\\omega^2 S_x  \\\\  \\ddot{S_z}&=-\\omega \\dot{S}_x = -\\omega^2 S_z \\end{align*}\\end{cases}$\n",
    "\n",
    "## This is the equation of harmonic oscillator, since we are only considering the fractional spin, the amplitude is 1, the solution is give by:\n",
    "\n",
    "## $\\begin{cases} \\begin{align*} S_x &= \\sin(\\omega t + \\phi)  \\\\  S_z&= \\cos(\\omega t+ \\phi) \\end{align*}\\end{cases}$\n",
    "\n",
    "## $\\phi$ can be found by giving  the intial spin"
   ]
  },
  {
   "cell_type": "markdown",
   "metadata": {},
   "source": [
    "$  $"
   ]
  },
  {
   "cell_type": "markdown",
   "metadata": {},
   "source": [
    "\n",
    "## When electron passes through the dipole field, the amount of spin rotation should be given by:   $\\alpha=\\omega\\cdot \\frac{L}{c}= (\\frac{1}{\\gamma}+a)\\frac{eL}{mc} B_{\\bot}=(\\frac{1}{\\gamma}+a)\\frac{Lc}{E_0} B_{\\bot}$\n",
    "\n",
    "## Note when $\\gamma =1$ (particle at the rest), it reduces to the Larmor precession\n",
    "\n",
    "### Where L is the length of the dipole; $\\alpha$ is the amount of rotation; E_0 is the rest mass energy of the electron, unit has to be eV\n",
    "\n",
    "### note: it's easier to do the calculation if add c to both the numerator and the Denominator. In the Denominator, we will have m$c^2$ which has the unit of ev, so e in the numerator can be cancelled. The rest are all in the SI unit."
   ]
  },
  {
   "cell_type": "code",
   "execution_count": 2,
   "metadata": {},
   "outputs": [],
   "source": [
    "E=7*10**9           # electron energy 7GeV\n",
    "m=511000            # rest mass energy of electron 511KeV\n",
    "a=0.001159652       # anomalous g factor for electron\n",
    "c=3*10**8           # speed of light\n",
    "L=5.902202          # length of both the B2E and BLA6RE, unit is metre\n",
    "B2= -0.22212055     # dipole strength of B2E in Tesla, negative sign means it's in the -y direction\n",
    "B6= -0.19983372     # dipole strength of BLA6RE in Tesla, negative sign means it's in the -y direction"
   ]
  },
  {
   "cell_type": "code",
   "execution_count": 3,
   "metadata": {},
   "outputs": [
    {
     "name": "stdout",
     "output_type": "stream",
     "text": [
      "13698.630136986301\n"
     ]
    }
   ],
   "source": [
    "gamma= E/m     #lorentz boost factor\n",
    "print(gamma)"
   ]
  },
  {
   "cell_type": "code",
   "execution_count": 4,
   "metadata": {},
   "outputs": [],
   "source": [
    "def Wb(B):                    # find w_B\n",
    "    return (1/gamma+a)*c**2/m*B\n",
    "\n",
    "def rot(r):                   #amount of rotation\n",
    "    return r*L/c\n",
    "\n",
    "def S(B,s0x,s0z):             #to find spin at the exit of the dipole; s0x is the spin.x at the entrance \n",
    "    \n",
    "    rota=rot(Wb(B))\n",
    "    \n",
    "    s0=math.atan2(s0x,s0z)\n",
    "    print(s0*180/pi)       \n",
    "    sx=sin(s0+rota)           # sx at the exit\n",
    "    sz=cos(s0+rota)           # sy at the exit\n",
    "    \n",
    "    return sx,sz"
   ]
  },
  {
   "cell_type": "code",
   "execution_count": 5,
   "metadata": {},
   "outputs": [],
   "source": [
    "def sgen(z): #spin generator of spin.x\n",
    "    if rand()==0.5:\n",
    "        pass\n",
    "    elif rand()<0.5:\n",
    "        return sqrt(1-z**2)\n",
    "    else:\n",
    "        return -sqrt(1-z**2)"
   ]
  },
  {
   "cell_type": "code",
   "execution_count": 6,
   "metadata": {},
   "outputs": [
    {
     "name": "stdout",
     "output_type": "stream",
     "text": [
      "initial spin.x is: -0.915889625984473\n",
      "initial spin.z is: 0.40143018448295864\n"
     ]
    }
   ],
   "source": [
    "s0z= rand()*2-1 #generate random spin.z within in a range of -1 to 1\n",
    "s0x= sgen(s0z) \n",
    "print('initial spin.x is:',s0x)\n",
    "print('initial spin.z is:',s0z)"
   ]
  },
  {
   "cell_type": "code",
   "execution_count": 7,
   "metadata": {},
   "outputs": [
    {
     "name": "stdout",
     "output_type": "stream",
     "text": [
      "-66.33238329316485\n",
      "the amount of rotation done by B2E is: -54.358351898358436 degree\n",
      "\n",
      "the spin at the exit of B2E is: spin.x= -0.8599348158660467 , spin.z= -0.5104038719106943\n"
     ]
    }
   ],
   "source": [
    "r2=rot(Wb(B2))*180/pi\n",
    "sb2e=S(B2,s0x,s0z)\n",
    "print('the amount of rotation done by B2E is: %s degree'%r2)\n",
    "print('')\n",
    "print('the spin at the exit of B2E is: spin.x= %s , spin.z= %s'%(sb2e[0],sb2e[1]))"
   ]
  },
  {
   "cell_type": "code",
   "execution_count": 8,
   "metadata": {},
   "outputs": [
    {
     "name": "stdout",
     "output_type": "stream",
     "text": [
      "-66.33238329316485\n",
      "the amount of rotation done by BLA6RE is: -48.904217430210885 degree\n",
      "\n",
      "the spin at the exit of BLA6RE is: spin.x= -0.9045548787236022, spin.z= -0.42635721100660345\n"
     ]
    }
   ],
   "source": [
    "r6=rot(Wb(B6))*180/pi\n",
    "sbla6re=S(B6,s0x,s0z)\n",
    "print('the amount of rotation done by BLA6RE is: %s degree'%r6)\n",
    "print('')\n",
    "print('the spin at the exit of BLA6RE is: spin.x= %s, spin.z= %s'%(sbla6re[0],sbla6re[1]))"
   ]
  },
  {
   "cell_type": "markdown",
   "metadata": {},
   "source": [
    "## Now, consider the solenoid field, which is longitudinal \n",
    "\n",
    "## $\\begin{align} \\frac{d\\vec{s}}{dt} &= \\frac{q}{m \\gamma} \\vec{S} \\times \\big( (1+a\\gamma)\\vec{B}-a(\\gamma - 1)(\\hat{t}\\cdot \\vec{B})\\hat{t} \\big) \\\\ &= \\frac{q}{m \\gamma} \\vec{S} \\times \\big( (1+a\\gamma)(\\vec{B}_{\\bot}+\\vec{B}_{//})-a(\\gamma - 1)\\vec{B}_{//} \\big) \\\\ &= \\frac{q}{m \\gamma} \\vec{S} \\times \\big( (1+a\\gamma)\\vec{B}_{\\bot}+(1+a)\\vec{B}_{//} \\big)\\\\ &= -\\frac{e}{m \\gamma}\\big((1+a\\gamma) B_{\\bot}\\vec{S} \\times \\hat{y}+(1+a)B_{//}\\vec{S} \\times  \\hat{z} \\big)\\\\ & =-\\frac{e}{m \\gamma}\\big((1+a\\gamma) B_{\\bot}(-S_z \\hat{x}+S_x \\hat{z})+(1+a)B_{//}(S_y \\hat{x} - S_x \\hat{y}) \\big)\\\\ & = \\frac{e}{m \\gamma}\\bigg[ \\big((1+a\\gamma)B_{\\bot}S_{z}-(1+a)B_{//}S_{y} \\big)\\hat{x}+(1+a)B_{//}S_{x} \\hat{y} - (1+a\\gamma)B_{\\bot}S_{x} \\hat{z} \\bigg] \\end{align}  $\n",
    "\n",
    "## we can conclude 3 differential equations of the spin motion:\n",
    "\n",
    "## Let $\\omega_B= \\frac{e}{m \\gamma}(1+a\\gamma)B_{\\bot}, \\omega_S = \\frac{e}{m \\gamma}(1+a)B_{//} $\n",
    "\n",
    "## $\\begin{cases} \\begin{align*} \\dot{S_x} &= \\omega_B S_z-\\omega_{S}S_y \\\\ \\dot{S_y} &= \\omega_S S_x \\\\ \\dot{S_z}&=-\\omega_B S_x\\end{align*}\\end{cases}$\n",
    "\n",
    "## $\\begin{cases} \\begin{align*} \\ddot{S_x} &= \\omega_B \\dot{S}_z-\\omega_{S}\\dot{S}_y = -({\\omega_B}^2+{\\omega_S}^2) S_x \\\\ \\ddot{S_y} &= \\omega_S \\dot{S}_x = -{\\omega_S}^2 S_y + \\omega_S \\omega_B S_z \\\\ \\ddot{S_z}&=-\\omega_B \\dot{S}_x= \\omega_S \\omega_B S_y-{\\omega_B}^2 S_z \\end{align*}\\end{cases}$\n",
    "\n",
    "## It's easy to solve the equation of motion for $S_x$\n",
    "\n",
    "## Let $\\omega_{SB}= \\sqrt{{\\omega_{S}}^2+{\\omega_{B}}^2}$\n",
    "\n",
    "## $S_x = A\\sin\\big(\\omega_{SB}t + \\phi \\big)$\n"
   ]
  },
  {
   "cell_type": "markdown",
   "metadata": {},
   "source": [
    "## y and z are coupled, use matrix to solve it\n",
    "\n",
    "## $\\big(\\begin{smallmatrix}\n",
    "  \\ddot{S_y}\\\\\n",
    "  \\ddot{S_z}\n",
    "\\end{smallmatrix}\\big)=\\bigg(\\begin{smallmatrix}\n",
    "  -{\\omega_{S}}^2 &\\omega_{S}\\omega_{B}\\\\\n",
    "  \\omega_{S}\\omega_{B}& -{\\omega_{B}}^2\n",
    "\\end{smallmatrix}\\bigg)\\big(\\begin{smallmatrix}\n",
    "  S_y\\\\\n",
    "  S_z\n",
    "\\end{smallmatrix}\\big) $\n",
    "\n",
    "## Corresponding eigenvalues: $-{\\omega_{S}}^2-{\\omega_{B}}^2$ or 0\n",
    "\n",
    "## The eigenvector of $-{\\omega_{S}}^2-{\\omega_{B}}^2$: $\\frac{1}{\\omega_{SB}}\\big(\\begin{smallmatrix}\n",
    "  \\omega_{S}\\\\\n",
    "  -\\omega_{B}\n",
    "\\end{smallmatrix}\\big)$, for 0, it is: $\\frac{1}{\\omega_{SB}}\\big(\\begin{smallmatrix}\n",
    "  \\omega_{B}\\\\\n",
    "  \\omega_{S}\n",
    "\\end{smallmatrix}\\big)$\n",
    "\n",
    "## The general solution is:\n",
    "## $S_y= \\frac{\\omega_S}{\\omega_{SB}} C\\cos(\\omega_{SB}t+\\phi )+\\frac{\\omega_B}{\\omega_{SB}}D$\n",
    "## $S_z=-\\frac{\\omega_B}{\\omega_{SB}} C\\cos(\\omega_{SB}t+\\phi )+\\frac{\\omega_S}{\\omega_{SB}}D$\n",
    "\n",
    "\n",
    "\n",
    "$ $\n",
    "$ $\n",
    "\n",
    "\n",
    "## It's hard to solve for the variables by giving random initial condition, so we are aiming at a specific initial condition which is (0,1,0)\n",
    "\n",
    "## At t = 0, the equations reduced to:\n",
    "## $\\begin{cases} \\begin{align*} 0 &= A\\sin\\phi \\\\ 1 &= \\frac{\\omega_S}{\\omega_{SB}} C\\cos\\phi +\\frac{\\omega_B}{\\omega_{SB}}D\\\\ 0&=-\\frac{\\omega_B}{\\omega_{SB}} C\\cos\\phi+\\frac{\\omega_S}{\\omega_{SB}}D \\end{align*}\\end{cases}$\n",
    "\n",
    "## First equation can give us $\\phi = 0$, the equation of $S_y, S_z$ futher reduced to:\n",
    "\n",
    "## $\\begin{cases} \\begin{align*} 1 &= \\frac{\\omega_S}{\\omega_{SB}} C +\\frac{\\omega_B}{\\omega_{SB}}D\\\\ 0&=-\\frac{\\omega_B}{\\omega_{SB}} C +\\frac{\\omega_S}{\\omega_{SB}}D \\end{align*}\\end{cases}$\n",
    "\n",
    "## By solving the equations above, we can get $C=\\frac{\\omega_S}{\\omega_{SB}}, D=\\frac{\\omega_B}{\\omega_{SB}}$\n",
    "\n",
    "## One more constrain ${S_x}^2+{S_y}^2+{S_z}^2=1$ to find A, and $A=C=\\frac{\\omega_S}{\\omega_{SB}}$ \n",
    "\n",
    "## Summarize the information above, the spin motion is described by:\n",
    "## $\\begin{cases} \\begin{align*} S_x &= \\frac{\\omega_S}{\\omega_{SB}} \\sin(\\omega_{SB}t) \\\\ S_y&= \\frac{{\\omega_S}^2}{{\\omega_{SB}}^2} \\cos(\\omega_{SB}t)+\\frac{{\\omega_B}^2}{{\\omega_{SB}}^2}\\\\ S_z& =\\frac{\\omega_S\\omega_B}{{\\omega_{SB}}^2} \\big(1-\\cos(\\omega_{SB}t)\\big) \\end{align*}\\end{cases}$\n"
   ]
  },
  {
   "cell_type": "code",
   "execution_count": 9,
   "metadata": {},
   "outputs": [],
   "source": [
    "S2 =  5.7679870     #solenoid strength of B2ESQ\n",
    "S6 = -3.5652465     #solenoid strength of BLA6RESQ "
   ]
  },
  {
   "cell_type": "code",
   "execution_count": 10,
   "metadata": {},
   "outputs": [],
   "source": [
    "def Ws(S):\n",
    "    return (1/gamma+a/gamma)*c**2/m*S"
   ]
  },
  {
   "cell_type": "code",
   "execution_count": 11,
   "metadata": {},
   "outputs": [],
   "source": [
    "def S_bs(B,S):       #to find spin at the exit of the dipole; s0x is the spin.x at the entrance \n",
    "    ws = Ws(S)\n",
    "    wb = Wb(B)\n",
    "    \n",
    "    ww = sqrt(ws**2+wb**2)  ## ww defined as w_SB\n",
    "    \n",
    "    \n",
    "    if ww*wb<0:\n",
    "        rota = -rot(ww)     ## minus sign means it's clockwise\n",
    "        \n",
    "    else:\n",
    "        rota =  rot(ww)     \n",
    "        \n",
    "        \n",
    "    sx = ws/ww*sin(rota)\n",
    "    \n",
    "    sy = ws**2/ww**2*cos(rota)+wb**2/ww**2\n",
    "    \n",
    "    sz = ws*wb/ww**2*(1-cos(rota))\n",
    "    \n",
    "    return sx,sy,sz"
   ]
  },
  {
   "cell_type": "code",
   "execution_count": 14,
   "metadata": {},
   "outputs": [],
   "source": [
    "Ssq = S_bs(B2,S2)"
   ]
  },
  {
   "cell_type": "code",
   "execution_count": 16,
   "metadata": {},
   "outputs": [
    {
     "name": "stdout",
     "output_type": "stream",
     "text": [
      "(-0.8264072206577303, 0.17702577832705788, -0.5345212619274042)\n"
     ]
    },
    {
     "data": {
      "text/plain": [
       "0.9999999999999998"
      ]
     },
     "execution_count": 16,
     "metadata": {},
     "output_type": "execute_result"
    }
   ],
   "source": [
    "print(Ssq)\n",
    "dot(Ssq,Ssq)"
   ]
  },
  {
   "cell_type": "markdown",
   "metadata": {},
   "source": [
    "## Now consider the random initial condition($\\tilde{S}_x,\\tilde{S}_y,\\tilde{S}_z$)\n",
    "## At t = 0:\n",
    "## $\\begin{cases} \\begin{align*} \\tilde{S}_x &= A\\sin\\phi \\\\ \\tilde{S}_y &= \\frac{\\omega_S}{\\omega_{SB}} C\\cos\\phi +\\frac{\\omega_B}{\\omega_{SB}}D\\\\ \\tilde{S}_z&=-\\frac{\\omega_B}{\\omega_{SB}} C\\cos\\phi+\\frac{\\omega_S}{\\omega_{SB}}D \\end{align*}\\end{cases}$\n",
    "## Use constrain  ${S_x}^2+{S_y}^2+{S_z}^2=1$ , can get A=C as before, but we can not solve for $\\phi$ from first equation\n",
    "\n",
    "## Use second and third equation to eliminate $\\phi$ term , can get $D=\\frac{\\omega_B\\tilde{S}_y+\\omega_S\\tilde{S}_z}{\\omega_{SB}}$\n",
    "\n",
    "## Plug D into 2nd or 3rd equation can get:   \n",
    "\n",
    "## $C \\cos\\phi=\\frac{\\omega_S\\tilde{S}_y-\\omega_B\\tilde{S}_z}{\\omega_{SB}}$\n",
    "\n",
    "## Since we know $\\tilde{S}_x = C\\sin\\phi$, then $\\phi= \\arctan\\big(\\frac{\\omega_{SB}\\tilde{S}_y}{\\omega_S\\tilde{S}_y-\\omega_B\\tilde{S}_z}\\big)$\n"
   ]
  },
  {
   "cell_type": "code",
   "execution_count": 85,
   "metadata": {},
   "outputs": [],
   "source": [
    "def S_G(B,S,si):       #to find spin at the exit of the dipole; s0x is the spin.x at the entrance\n",
    "    \n",
    "    six = si[0]        # intial spin.x\n",
    "    siy = si[1]        # intial spin.y\n",
    "    siz = si[2]        # intial spin.z\n",
    "    \n",
    "    ws = Ws(S)\n",
    "    wb = Wb(B)\n",
    "    \n",
    "    ww = sqrt(ws**2+wb**2)  # ww defined as w_SB\n",
    "    \n",
    "    \n",
    "    if ww*wb<0:\n",
    "        rota = -rot(ww)     # minus sign means it's clockwise\n",
    "        \n",
    "    else:\n",
    "        rota =  rot(ww)     \n",
    "    \n",
    "    D = (wb*siy+ws*siz)/ww\n",
    "    \n",
    "    phi = math.atan2(ww*six,(ws*siy-wb*siz))\n",
    "    print('the amount of rotation is:',rota*180/pi)\n",
    "    \n",
    "    print('the overall field direction wrt z-axis is:',math.atan2(wb,ws)*180/pi)\n",
    "        \n",
    "    if abs(phi)==pi/2:\n",
    "        C=six\n",
    "    else:\n",
    "        C=(ws*siy-wb*siz)/(ww*cos(phi))\n",
    "        \n",
    "    sx =  C*sin(rota+phi)\n",
    "    \n",
    "    sy =  ws/ww*C*cos(rota+phi)+wb/ww*D\n",
    "    \n",
    "    sz = -wb/ww*C*cos(rota+phi)+ws/ww*D\n",
    "    \n",
    "    return sx,sy,sz"
   ]
  },
  {
   "cell_type": "code",
   "execution_count": 101,
   "metadata": {},
   "outputs": [
    {
     "name": "stdout",
     "output_type": "stream",
     "text": [
      "the amount of rotation is: -99.79627649923917\n",
      "the overall field direction wrt z-axis is: -33.003699600397404\n",
      "(-0.8264072206577303, 0.17702577832705793, -0.5345212619274042)\n"
     ]
    },
    {
     "data": {
      "text/plain": [
       "1.0"
      ]
     },
     "execution_count": 101,
     "metadata": {},
     "output_type": "execute_result"
    }
   ],
   "source": [
    "sgi=[0,1,0]\n",
    "sg=S_G(B2,S2,sgi)\n",
    "print(sg)\n",
    "dot(sg,sg)"
   ]
  },
  {
   "cell_type": "code",
   "execution_count": 102,
   "metadata": {},
   "outputs": [
    {
     "name": "stdout",
     "output_type": "stream",
     "text": [
      "the amount of rotation is: -71.1880804015116\n",
      "the overall field direction wrt z-axis is: -136.6091087929501\n",
      "(0.20287063653807913, 0.5013522511272472, -0.8411239059260391)\n"
     ]
    },
    {
     "data": {
      "text/plain": [
       "1.0000000000000002"
      ]
     },
     "execution_count": 102,
     "metadata": {},
     "output_type": "execute_result"
    }
   ],
   "source": [
    "sgi=sg\n",
    "sg=S_G(B6,S6,sgi)\n",
    "print(sg)\n",
    "dot(sg,sg)"
   ]
  },
  {
   "cell_type": "code",
   "execution_count": 103,
   "metadata": {},
   "outputs": [
    {
     "name": "stdout",
     "output_type": "stream",
     "text": [
      "the amount of rotation is: -71.1880804015116\n",
      "the overall field direction wrt z-axis is: -136.6091087929501\n",
      "(0.9572436168911035, -0.10206986305572967, -0.2706776698898946)\n"
     ]
    },
    {
     "data": {
      "text/plain": [
       "0.9999999999999999"
      ]
     },
     "execution_count": 103,
     "metadata": {},
     "output_type": "execute_result"
    }
   ],
   "source": [
    "sgi=sg\n",
    "sg=S_G(B6,S6,sgi)\n",
    "print(sg)\n",
    "dot(sg,sg)"
   ]
  }
 ],
 "metadata": {
  "kernelspec": {
   "display_name": "Python 3",
   "language": "python",
   "name": "python3"
  },
  "language_info": {
   "codemirror_mode": {
    "name": "ipython",
    "version": 3
   },
   "file_extension": ".py",
   "mimetype": "text/x-python",
   "name": "python",
   "nbconvert_exporter": "python",
   "pygments_lexer": "ipython3",
   "version": "3.8.5"
  }
 },
 "nbformat": 4,
 "nbformat_minor": 4
}
