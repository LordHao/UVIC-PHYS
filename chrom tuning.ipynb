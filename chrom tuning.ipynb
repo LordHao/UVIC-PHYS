{
 "cells": [
  {
   "cell_type": "code",
   "execution_count": 1,
   "metadata": {},
   "outputs": [
    {
     "name": "stdout",
     "output_type": "stream",
     "text": [
      "Populating the interactive namespace from numpy and matplotlib\n"
     ]
    }
   ],
   "source": [
    "%pylab inline\n",
    "import sys"
   ]
  },
  {
   "cell_type": "markdown",
   "metadata": {},
   "source": [
    "# The total chromaticity is given by :\n",
    "\n",
    "# $ \\xi_{tot} = \\frac{1}{4\\pi} \\oint [ m (s)D(s)+k(s)] \\beta(s) ds $\n",
    "\n",
    "## Where m is the strength of the sextupole; D is the dispersion function; k is the quadrupole strength; $\\beta$ is the beta function \n",
    "\n",
    "## There exists a linear relationship between the chromaticity and the sextupole strength, and the slope is proportional to the product of D and $\\beta$"
   ]
  },
  {
   "cell_type": "markdown",
   "metadata": {},
   "source": [
    "$  $"
   ]
  },
  {
   "cell_type": "markdown",
   "metadata": {},
   "source": [
    "## $\\begin{cases} \\begin{align*} \\xi_x &= \\sum_im_i x_i + x_0 \\\\\n",
    "                              \\xi_y &= \\sum_i n_i x_i + y_0 \\end{align*}\\end{cases}$ \n",
    "\n",
    "\n",
    "##  Where $\\xi_x$, $\\xi_y$ is the first order chromaticity\n",
    "\n",
    "## $x_i$ is the strength of sextupole\n",
    "\n",
    "## $m_i$, $ n_i$ only depends on local optical functions"
   ]
  },
  {
   "cell_type": "markdown",
   "metadata": {},
   "source": [
    "$   $ "
   ]
  },
  {
   "cell_type": "markdown",
   "metadata": {},
   "source": [
    "$ $"
   ]
  },
  {
   "cell_type": "code",
   "execution_count": 2,
   "metadata": {},
   "outputs": [],
   "source": [
    "ss = array([-3.57664, 0.8176, -3.60689, -1.7296, 0.82926, -1.69482, 0.50485067061]) # original sexutople strength"
   ]
  },
  {
   "cell_type": "code",
   "execution_count": 3,
   "metadata": {},
   "outputs": [],
   "source": [
    "m = array([0.699, 6.3548, 0.6984, 0.7042, 6.3707, 0.699, 6.3643]) #coefficient of the first equation\n",
    "\n",
    "n = array([-1.7957, -1.9373, -1.7892, -1.7899, -1.9367, -1.7831, -1.928]) # coefficient of the second equation\n",
    "\n",
    "CX = 1.593508     #orginal chrom.x\n",
    "CY = 1.622865      #orginal chrom.y\n",
    "\n",
    "x0 = -1.190362\n",
    "y0 = -6.084533"
   ]
  },
  {
   "cell_type": "code",
   "execution_count": 4,
   "metadata": {},
   "outputs": [],
   "source": [
    "def cx(x):         #compute chrom.x\n",
    "    return dot(m,x) + x0     \n",
    "\n",
    "def cy(x):         #compute chrom.y\n",
    "    return dot(n,x) + y0    "
   ]
  },
  {
   "cell_type": "markdown",
   "metadata": {},
   "source": [
    "$  $"
   ]
  },
  {
   "cell_type": "markdown",
   "metadata": {},
   "source": [
    "# let $\\xi'_x = \\xi_x - x_0 $, and  $\\xi'_y = \\xi_y - y_0 $\n",
    "\n",
    "## $\\begin{cases} \\begin{align*} \\xi'_x &= m_1 x_1+m_2 x_2 + ...+ m_N x_N  \\\\\n",
    "                              \\xi'_y &= n_1 x_1+n_2 x_2 + ...+ n_N x_N  \\end{align*}\\end{cases}$ \n",
    "\n",
    "# N variables to be determined and exists 2 equations, so there are N-2 free variables\n",
    "                              \n",
    "## Manipulate the second equation, find $x_1$ as a function of other variables\n",
    "\n",
    "## $x_1 = \\frac{\\xi'_y - n_2 x_2 - ...- n_N x_N}{n_1}$, subsitute it into the first equation \n",
    "\n",
    "## $\\xi'_x - \\frac{m_1 \\xi'_y}{n_1} = (m_2-\\frac{m_1 n_2}{n_1}) x_2 +(m_3-\\frac{m_1 n_3}{n_1}) x_3 + ...+ (m_N-\\frac{m_1 n_N}{n_1}) x_N$"
   ]
  },
  {
   "cell_type": "code",
   "execution_count": 5,
   "metadata": {},
   "outputs": [
    {
     "name": "stdout",
     "output_type": "stream",
     "text": [
      "the coefficients are : [5.60068033e+00 1.93021106e-03 7.45772679e-03 5.61681388e+00\n",
      " 4.90471682e-03 5.61380047e+00]\n"
     ]
    }
   ],
   "source": [
    "coeff = array([m[i]-m[0]*n[i]/n[0] for i in arange(1,len(m))])   # coefficients of equation above\n",
    "\n",
    "print('the coefficients are :' ,coeff)"
   ]
  },
  {
   "cell_type": "code",
   "execution_count": 6,
   "metadata": {},
   "outputs": [],
   "source": [
    "def func(X0,Y0,x): # function to comptue x1 and x2; x is the array contains 4 free variables (x3,x4,x5,x6)\n",
    "    Xp = CX - X0   #Chrom'.x\n",
    "    Yp = CY - Y0   #Chrom'.y\n",
    "    lhs = Xp - m[0]*Yp/n[0]                 # compute LHS in the equation above\n",
    "    x2 = (lhs-dot(coeff[1:],x))/coeff[0]    # variable x2\n",
    "    x1 = (Yp - n[1]*x2- dot(n[2:],x))/n[0]  # variable x1\n",
    "    return x1, x2"
   ]
  },
  {
   "cell_type": "markdown",
   "metadata": {},
   "source": [
    "# To solve for the equation at minimum strength:\n",
    "\n",
    "## Step 1: First generate a data array for N-2 free variables within a resonable range\n",
    "\n",
    "## Step 2: Pick a number from each data array to generate a data group for those N-2 variables $\\{x_3, x_4, ..., x_N\\}$\n",
    "\n",
    "## Step3: Compute $x_1, x_2$ and only record solutions which are in the desired range\n",
    "\n",
    "## Step4: Find the maximum strength in each solution array {$x_1,x_2,... ,x_N$}\n",
    "\n",
    "## Step5: Make a comparison between these max to find the minimum group, which is the expected solution\n",
    "\n",
    "## Step6: Do iterations, gradually narrow dataset range util a minimum is found\n",
    "## e.g. let's say, in first iteration, find $x_3$ = 3.1. The initial data range of $x_3$ is $[-5.5,5.5]$, now  add $\\pm 0.5$ to 3.1.  Narrow this range to $[2.6,3.6]$, and  use it for the next iteration."
   ]
  },
  {
   "cell_type": "markdown",
   "metadata": {},
   "source": [
    "## Optimizer   "
   ]
  },
  {
   "cell_type": "code",
   "execution_count": 7,
   "metadata": {
    "scrolled": false
   },
   "outputs": [],
   "source": [
    "def multsolver(X0,Y0,a,b,c,d,f):\n",
    "\n",
    "    xxi = []\n",
    "    \n",
    "    for i in range(num):\n",
    "        for j in range(num): \n",
    "            for k in range(num):\n",
    "                for l in range(num):\n",
    "                    for m in range(num):\n",
    "                        xx = array([a[i],b[j],c[k],d[l],f[m]]) # record free variables\n",
    "                        x1 = func(X0,Y0,xx)[0]      # compute x1\n",
    "                        x2 = func(X0,Y0,xx)[1]      # compute x2\n",
    "                                    \n",
    "                        if abs(x1) <=3 and 0<x2 <= 1 and 0<xx[2]<=1:\n",
    "                            xs = concatenate((x1,x2),axis=None) # write x1, x2 into one array\n",
    "                            xxi.append(concatenate((xs,xx),axis=None))#generate the solution array \n",
    "                        \n",
    "    xxi = array(xxi)\n",
    "    \n",
    "    xxim = []\n",
    "    for i in range(len(xxi)):\n",
    "        xxim.append(max(abs(xxi[i]+ss))) # find the maxium value of N variables in each solution\n",
    "    xxim = array(xxim)\n",
    "    \n",
    "    if len(xxim)==0:\n",
    "        sys.exit('The optimizer can not find a solution in this given range, please increase the maximum strength')\n",
    "        # if no solution, increase the max \n",
    "    nm = where(xxim == min(xxim))[0][0]      # find where the minimum solution is\n",
    "    return xxi[nm]         # return solution"
   ]
  },
  {
   "cell_type": "code",
   "execution_count": 8,
   "metadata": {},
   "outputs": [],
   "source": [
    "def opt(x0,y0,mm,ni,num):   # sextupole strength optimizer\n",
    "    \n",
    "    ama =  mm   ## max of the data \n",
    "    ami = -mm   ## min of the data \n",
    "    bma =  mm\n",
    "    bmi =  mm\n",
    "    cma =  mm\n",
    "    cmi = -mm\n",
    "    dma =  mm\n",
    "    dmi = -mm\n",
    "    fma =  mm\n",
    "    fmi = -mm\n",
    "\n",
    "    \n",
    "    sa = []  # initialize solution array\n",
    "    msa = [] # initialize maximum strength array\n",
    "    \n",
    "    for i in range(ni):\n",
    "        a = linspace(ami,ama,num)     # generating data within the required range \n",
    "        b = linspace(bmi,bma,num)\n",
    "        c = linspace(cmi,cma,num)\n",
    "        d = linspace(dmi,dma,num)\n",
    "        f = linspace(fmi,fma,num)\n",
    "        \n",
    "        s = multsolver(x0,y0,a,b,c,d,f) # compute x1,x2\n",
    "    \n",
    "        ms = max(abs(s+ss))            # find the max in solution array\n",
    "    \n",
    "        ra = 1- i/10                    # narrowing the variation range of data array\n",
    "    \n",
    "        if ra<0.1:                     # set minimum variation range\n",
    "            ra=0.1\n",
    "\n",
    "        if i!= 0 and ms >= msa[-1]:    # if iteration step finds a bigger strength, \n",
    "                                       #go back to previous solution and increase num\n",
    "            num += 1\n",
    "        \n",
    "            ama = sa[-1][2]+ra\n",
    "            ami = sa[-1][2]-ra\n",
    "        \n",
    "            bma = sa[-1][3]+ra\n",
    "            bmi = sa[-1][3]-ra\n",
    "        \n",
    "            cma = sa[-1][4]+ra\n",
    "            cmi = sa[-1][4]-ra\n",
    "        \n",
    "            dma = sa[-1][5]+ra\n",
    "            dmi = sa[-1][5]-ra\n",
    "            \n",
    "            fma = sa[-1][6]+ra\n",
    "            fmi = sa[-1][6]-ra\n",
    "            \n",
    "        else:\n",
    "            ama = s[2]+ra\n",
    "            ami = s[2]-ra\n",
    "        \n",
    "            bma = s[3]+ra\n",
    "            bmi = s[3]-ra\n",
    "        \n",
    "            cma = s[4]+ra\n",
    "            cmi = s[4]-ra\n",
    "        \n",
    "            dma = s[5]+ra\n",
    "            dmi = s[5]-ra\n",
    "            \n",
    "            fma = s[6]+ra\n",
    "            fmi = s[6]-ra\n",
    "            \n",
    "        \n",
    "        if num >= 15:    #insurance of efficiency\n",
    "            num = 15\n",
    "            \n",
    "        sa.append(s)\n",
    "        msa.append(ms)\n",
    "\n",
    "        print('iteration step: %s'%(i+1))\n",
    "        print('the max strength is:',ms)\n",
    "        print(s+ss)\n",
    "        print(num)\n",
    "        print('')\n",
    "        print('')\n",
    "    \n",
    "    sa = array(sa)\n",
    "    msa = array(msa)\n",
    "\n",
    "    nm = where(msa ==min(msa))[0][0]      # find the where the minimum solution is\n",
    "\n",
    "    xs = sa[nm]\n",
    "    print('the iretation step reached mininum:',nm+1)\n",
    "    print('the max strength in the solution is:',min(msa))\n",
    "    return xs"
   ]
  },
  {
   "cell_type": "code",
   "execution_count": 9,
   "metadata": {},
   "outputs": [],
   "source": [
    "mm = 2.5     # max variation of sextupole strength\n",
    "ni = 15    # number of iterations to do\n",
    "num  = 11  # number of data to be generated"
   ]
  },
  {
   "cell_type": "code",
   "execution_count": 10,
   "metadata": {
    "scrolled": false
   },
   "outputs": [
    {
     "name": "stdout",
     "output_type": "stream",
     "text": [
      "iteration step: 1\n",
      "the max strength is: 6.495606171885463\n",
      "[-6.49560617  0.84745576 -6.10689     0.7704      1.32926    -4.19482\n",
      "  1.00485067]\n",
      "11\n",
      "\n",
      "\n",
      "iteration step: 2\n",
      "the max strength is: 5.30689\n",
      "[-5.30641775  1.25053961 -5.30689    -0.2296      0.92926    -5.19482\n",
      "  1.00485067]\n",
      "11\n",
      "\n",
      "\n",
      "iteration step: 3\n",
      "the max strength is: 5.01482\n",
      "[-4.95190901  1.79272133 -4.94689    -1.1296      0.92926    -5.01482\n",
      "  0.46485067]\n",
      "11\n",
      "\n",
      "\n",
      "iteration step: 4\n",
      "the max strength is: 4.785101418171971\n",
      "[-4.78510142  0.83106109 -4.62689    -1.9296      1.08926    -4.69482\n",
      "  1.26485067]\n",
      "11\n",
      "\n",
      "\n",
      "iteration step: 5\n",
      "the max strength is: 4.504982901913545\n",
      "[-4.5049829   0.83177506 -4.48689    -2.6296      0.94926    -4.41482\n",
      "  1.40485067]\n",
      "11\n",
      "\n",
      "\n",
      "iteration step: 6\n",
      "the max strength is: 4.29482\n",
      "[-4.27049326  1.43379177 -4.24689    -3.2296      0.94926    -4.29482\n",
      "  0.80485067]\n",
      "11\n",
      "\n",
      "\n",
      "iteration step: 7\n",
      "the max strength is: 4.14689\n",
      "[-4.07272052  1.73500453 -4.14689    -3.7296      0.84926    -4.09482\n",
      "  0.60485067]\n",
      "11\n",
      "\n",
      "\n",
      "iteration step: 8\n",
      "the max strength is: 4.0496\n",
      "[-3.99355474  1.81549284 -3.98689    -4.0496      0.84926    -4.01482\n",
      "  0.52485067]\n",
      "11\n",
      "\n",
      "\n",
      "iteration step: 9\n",
      "the max strength is: 4.046889999999999\n",
      "[-3.99351424  1.81543362 -4.04689    -3.9896      0.84926    -4.01482\n",
      "  0.52485067]\n",
      "11\n",
      "\n",
      "\n",
      "iteration step: 10\n",
      "the max strength is: 4.0296\n",
      "[-3.99354124  1.8154731  -4.00689    -4.0296      0.84926    -4.01482\n",
      "  0.52485067]\n",
      "11\n",
      "\n",
      "\n",
      "iteration step: 11\n",
      "the max strength is: 4.014819999999999\n",
      "[-4.01344791  1.81544647 -4.00689    -4.0096      0.84926    -4.01482\n",
      "  0.52485067]\n",
      "11\n",
      "\n",
      "\n",
      "iteration step: 12\n",
      "the max strength is: 4.014819999999999\n",
      "[-4.01344791  1.81544647 -4.00689    -4.0096      0.84926    -4.01482\n",
      "  0.52485067]\n",
      "12\n",
      "\n",
      "\n",
      "iteration step: 13\n",
      "the max strength is: 4.018690909090909\n",
      "[-4.00432456  1.81545864 -4.01598091 -4.01869091  0.84016909 -4.00572909\n",
      "  0.53394158]\n",
      "13\n",
      "\n",
      "\n",
      "iteration step: 14\n",
      "the max strength is: 4.014819999999999\n",
      "[-4.01337683  1.81545543 -4.00689    -4.0096      0.83259333 -4.01482\n",
      "  0.54151734]\n",
      "13\n",
      "\n",
      "\n",
      "iteration step: 15\n",
      "the max strength is: 4.014819999999999\n",
      "[-4.01337683  1.81545543 -4.00689    -4.0096      0.83259333 -4.01482\n",
      "  0.54151734]\n",
      "14\n",
      "\n",
      "\n",
      "the iretation step reached mininum: 11\n",
      "the max strength in the solution is: 4.014819999999999\n"
     ]
    }
   ],
   "source": [
    "solution = opt(x0,y0,mm,ni,num)"
   ]
  },
  {
   "cell_type": "code",
   "execution_count": 11,
   "metadata": {},
   "outputs": [
    {
     "data": {
      "text/plain": [
       "array([-3.57664   ,  0.8176    , -3.60689   , -1.7296    ,  0.82926   ,\n",
       "       -1.69482   ,  0.50485067])"
      ]
     },
     "execution_count": 11,
     "metadata": {},
     "output_type": "execute_result"
    }
   ],
   "source": [
    "ss #original sextupoles"
   ]
  },
  {
   "cell_type": "code",
   "execution_count": 12,
   "metadata": {},
   "outputs": [
    {
     "data": {
      "text/plain": [
       "array([-0.43680791,  0.99784647, -0.4       , -2.28      ,  0.02      ,\n",
       "       -2.32      ,  0.02      ])"
      ]
     },
     "execution_count": 12,
     "metadata": {},
     "output_type": "execute_result"
    }
   ],
   "source": [
    "solution"
   ]
  },
  {
   "cell_type": "code",
   "execution_count": 13,
   "metadata": {},
   "outputs": [
    {
     "data": {
      "text/plain": [
       "array([-4.01344791,  1.81544647, -4.00689   , -4.0096    ,  0.84926   ,\n",
       "       -4.01482   ,  0.52485067])"
      ]
     },
     "execution_count": 13,
     "metadata": {},
     "output_type": "execute_result"
    }
   ],
   "source": [
    "solution+ss #solution array "
   ]
  },
  {
   "cell_type": "markdown",
   "metadata": {},
   "source": [
    "# Orginal chromaticity  $\\xi_x = 3.953515$   "
   ]
  },
  {
   "cell_type": "code",
   "execution_count": 14,
   "metadata": {},
   "outputs": [
    {
     "data": {
      "text/plain": [
       "1.5935080000000004"
      ]
     },
     "execution_count": 14,
     "metadata": {},
     "output_type": "execute_result"
    }
   ],
   "source": [
    "cx(solution) # testing the solution"
   ]
  },
  {
   "cell_type": "markdown",
   "metadata": {},
   "source": [
    "# Orginal chromaticity $ \\xi_y = 6.595477 $"
   ]
  },
  {
   "cell_type": "code",
   "execution_count": 15,
   "metadata": {},
   "outputs": [
    {
     "data": {
      "text/plain": [
       "1.6228649999999982"
      ]
     },
     "execution_count": 15,
     "metadata": {},
     "output_type": "execute_result"
    }
   ],
   "source": [
    "cy(solution)"
   ]
  }
 ],
 "metadata": {
  "kernelspec": {
   "display_name": "Python 3",
   "language": "python",
   "name": "python3"
  },
  "language_info": {
   "codemirror_mode": {
    "name": "ipython",
    "version": 3
   },
   "file_extension": ".py",
   "mimetype": "text/x-python",
   "name": "python",
   "nbconvert_exporter": "python",
   "pygments_lexer": "ipython3",
   "version": "3.8.5"
  }
 },
 "nbformat": 4,
 "nbformat_minor": 4
}
