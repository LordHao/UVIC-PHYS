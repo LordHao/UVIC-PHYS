{
 "cells": [
  {
   "cell_type": "code",
   "execution_count": 1,
   "metadata": {},
   "outputs": [
    {
     "name": "stdout",
     "output_type": "stream",
     "text": [
      "Populating the interactive namespace from numpy and matplotlib\n"
     ]
    }
   ],
   "source": [
    "%pylab inline\n",
    "import sys"
   ]
  },
  {
   "cell_type": "markdown",
   "metadata": {},
   "source": [
    "# The total chromaticity is given by :\n",
    "\n",
    "# $ \\xi_{tot} = \\frac{1}{4\\pi} \\oint [ m (s)D(s)+k(s)] \\beta(s) ds $\n",
    "\n",
    "## Where m is the strength of the sextupole; D is the dispersion function; k is the quadrupole strength; $\\beta$ is the beta function \n",
    "\n",
    "## There exists a linear relationship between the chromaticity and the sextupole strength, and the slope is proportional to the product of D and $\\beta$"
   ]
  },
  {
   "cell_type": "markdown",
   "metadata": {},
   "source": [
    "$  $"
   ]
  },
  {
   "cell_type": "markdown",
   "metadata": {},
   "source": [
    "## $\\begin{cases} \\begin{align*} \\xi_x &= \\sum_im_i x_i + x_0 \\\\\n",
    "                              \\xi_y &= \\sum_i n_i x_i + y_0 \\end{align*}\\end{cases}$ \n",
    "\n",
    "\n",
    "##  Where $\\xi_x$, $\\xi_y$ is the first order chromaticity\n",
    "\n",
    "## $x_i$ is the strength of sextupole\n",
    "\n",
    "## $m_i$, $ n_i$ only depends on local optical functions\n",
    "\n"
   ]
  },
  {
   "cell_type": "markdown",
   "metadata": {},
   "source": [
    "$ $"
   ]
  },
  {
   "cell_type": "code",
   "execution_count": 2,
   "metadata": {},
   "outputs": [],
   "source": [
    "m = array([0.6909, 6.3624, 0.6912, 0.6915, 6.3631, 0.6916])       #coefficient of the first equation\n",
    "n = array([-1.7945, -1.9225, -1.7601, -1.7911, -1.9199, -1.7599]) # coefficient of the second equation\n",
    "\n",
    "CX = 3.953515      #orginal chrom.x\n",
    "CY = 6.595477      #orginal chrom.y"
   ]
  },
  {
   "cell_type": "code",
   "execution_count": 3,
   "metadata": {},
   "outputs": [],
   "source": [
    "def cx(x):         #compute chrom.x\n",
    "    return dot(m,x) + x0     \n",
    "\n",
    "def cy(x):         #compute chrom.y\n",
    "    return dot(n,x) + y0    "
   ]
  },
  {
   "cell_type": "markdown",
   "metadata": {},
   "source": [
    "$  $"
   ]
  },
  {
   "cell_type": "markdown",
   "metadata": {},
   "source": [
    "# let $\\xi'_x = \\xi_x - x_0 $, and  $\\xi'_y = \\xi_y - y_0 $\n",
    "\n",
    "## $\\begin{cases} \\begin{align*} \\xi'_x &= m_1 x_1+m_2 x_2 + ...+ m_6 x_6  \\\\\n",
    "                              \\xi'_y &= n_1 x_1+n_2 x_2 + ...+ n_6 x_6  \\end{align*}\\end{cases}$ \n",
    "\n",
    "# 6 variables to be determined and exists 2 equations, so there are 4 free variables\n",
    "                              \n",
    "## Manipulate the second equation, find $x_1$ as a function of other variables\n",
    "\n",
    "## $x_1 = \\frac{\\xi'_y - n_2 x_2 - ...- n_6 x_6}{n_1}$, subsitute it into the first equation \n",
    "\n",
    "## $\\xi'_x - \\frac{m_1 \\xi'_y}{n_1} = (m_2-\\frac{m_1 n_2}{n_1}) x_2 +(m_3-\\frac{m_1 n_3}{n_1}) x_3 + ...+ (m_6-\\frac{m_1 n_6}{n_1}) x_6$"
   ]
  },
  {
   "cell_type": "code",
   "execution_count": 4,
   "metadata": {},
   "outputs": [
    {
     "name": "stdout",
     "output_type": "stream",
     "text": [
      "the coefficients are : [5.62221875e+00 1.35443355e-02 1.90903316e-03 5.62391978e+00\n",
      " 1.40213374e-02]\n"
     ]
    }
   ],
   "source": [
    "coeff = array([m[i]-m[0]*n[i]/n[0] for i in arange(1,6)])   # coefficients of equation above\n",
    "\n",
    "print('the coefficients are :' ,coeff)"
   ]
  },
  {
   "cell_type": "code",
   "execution_count": 5,
   "metadata": {},
   "outputs": [],
   "source": [
    "def func(X0,Y0,x): # function to comptue x1 and x2; x is the array contains 4 free variables (x3,x4,x5,x6)\n",
    "    Xp = CX - X0   #Chrom'.x\n",
    "    Yp = CY - Y0   #Chrom'.y\n",
    "    lhs = Xp - m[0]*Yp/n[0]                 # compute LHS in the equation above\n",
    "    x2 = (lhs-dot(coeff[1:],x))/coeff[0]    # variable x2\n",
    "    x1 = (Yp - n[1]*x2- dot(n[2:],x))/n[0]  # variable x1\n",
    "    return x1, x2"
   ]
  },
  {
   "cell_type": "markdown",
   "metadata": {},
   "source": [
    "# To solve for the equation at minimum strength:\n",
    "\n",
    "## Step 1: First generate a data array for 4 free variables within a resonable range\n",
    "\n",
    "## Step 2: Pick a number from each data array to generate a data group for those 4 variables $\\{x_3, x_4, x_5, x_6\\}$\n",
    "\n",
    "## Step3: Compute $x_1, x_2$ and only record solutions in the required range \n",
    "\n",
    "## Step4: Find the maximum strength in each solution group {$x_1,x_2, x_3, x_4, x_5, x_6$}\n",
    "\n",
    "## Step5: Make a comparison between these max to find the minimum group, which is the expected solution\n",
    "\n",
    "## Step6: Do iteration, use the solution to gradually narrow dataset range \n",
    "## e.g. let's say, in first iteration, we find $x_3$ = 3.1. The initial data range of $x_3$ is $[-5.5,5.5]$, now we can add $\\pm 0.5$ to 3.1.  Narrow this range to $[2.6,3.6]$, and  use it for the next iteration."
   ]
  },
  {
   "cell_type": "markdown",
   "metadata": {},
   "source": [
    "## Optimizer   "
   ]
  },
  {
   "cell_type": "code",
   "execution_count": 6,
   "metadata": {
    "scrolled": false
   },
   "outputs": [],
   "source": [
    "def multsolver(X0,Y0,a,b,c,d):\n",
    "\n",
    "    xxi = []\n",
    "    \n",
    "    for i in range(num):\n",
    "        for j in range(num): \n",
    "            for k in range(num):\n",
    "                for l in range(num):\n",
    "                    \n",
    "                    xx = array([a[i],b[j],c[k],d[l]]) # record the 4 variables\n",
    "                    x1 = func(X0,Y0,xx)[0]      # compute x1\n",
    "                    x2 = func(X0,Y0,xx)[1]      # compute x2\n",
    "                    \n",
    "                    if abs(x1) <=4.5 and abs(x2) <=4.5: # pick up the solutions in required range\n",
    "                        xs = concatenate((x1,x2),axis=None)\n",
    "                        xxi.append(concatenate((xs,xx),axis=None))\n",
    "                        \n",
    "    xxi = array(xxi)\n",
    "    \n",
    "    xxim = []\n",
    "    for i in range(len(xxi)):\n",
    "        xxim.append(max(abs(xxi[i]))) # find the maxium value of 6 ariables in each solution\n",
    "    xxim = array(xxim)\n",
    "    \n",
    "    if len(xxim)==0:\n",
    "        sys.exit('please increase the maximum strength')\n",
    "\n",
    "    nm = where(xxim == min(xxim))[0][0]      # find where the minimum solution is\n",
    "    return xxi[nm]"
   ]
  },
  {
   "cell_type": "code",
   "execution_count": 7,
   "metadata": {},
   "outputs": [],
   "source": [
    "def opt(x0,y0,mm,ni,num):   # sextupole strength optimizer\n",
    "    \n",
    "    ama =  mm   ## max of the data \n",
    "    ami = -mm   ## min of the data \n",
    "    bma =  mm\n",
    "    bmi = -mm\n",
    "    cma =  mm\n",
    "    cmi = -mm\n",
    "    dma =  mm\n",
    "    dmi = -mm\n",
    "    \n",
    "    sa = []  # initialize solution array\n",
    "    msa = [] # initialize maximum strength array\n",
    "    \n",
    "    for i in range(ni):\n",
    "        a = linspace(ami,ama,num)      # generating data within the required range \n",
    "        b = linspace(bmi,bma,num)\n",
    "        c = linspace(cmi,cma,num)\n",
    "        d = linspace(dmi,dma,num)\n",
    "        \n",
    "        s = multsolver(x0,y0,a,b,c,d) # compute x1,x2\n",
    "    \n",
    "        ms = max(abs(s))              # find the max in solution array{x1,x2,x3,x4,x5,x6}\n",
    "    \n",
    "        ra = 1- i/5                   # narrowing the variation range of data array\n",
    "    \n",
    "        if ra<0.02:                   # set minimum variation range\n",
    "            ra=0.02\n",
    "\n",
    "        if i!= 0 and ms > msa[-1]:    # if iteration step finds a bigger strength, \n",
    "                                      #go back to previous solution and increase num\n",
    "            num += 1\n",
    "        \n",
    "            ama = sa[-1][2]+ra\n",
    "            ami = sa[-1][2]-ra\n",
    "        \n",
    "            bma = sa[-1][3]+ra\n",
    "            bmi = sa[-1][3]-ra\n",
    "        \n",
    "            cma = sa[-1][4]+ra\n",
    "            cmi = sa[-1][4]-ra\n",
    "        \n",
    "            dma = sa[-1][5]+ra\n",
    "            dmi = sa[-1][5]-ra\n",
    "            \n",
    "        else:\n",
    "            ama = s[2]+ra\n",
    "            ami = s[2]-ra\n",
    "        \n",
    "            bma = s[3]+ra\n",
    "            bmi = s[3]-ra\n",
    "        \n",
    "            cma = s[4]+ra\n",
    "            cmi = s[4]-ra\n",
    "        \n",
    "            dma = s[5]+ra\n",
    "            dmi = s[5]-ra\n",
    "        \n",
    "        if num > 16:    #insurance of efficiency\n",
    "            num = 16\n",
    "            \n",
    "        sa.append(s)\n",
    "        msa.append(ms)\n",
    "\n",
    "        print('iteration step: %s'%(i+1))\n",
    "        print('the max strength is:',ms)\n",
    "        print(s)\n",
    "        print(num)\n",
    "        print('')\n",
    "        print('')\n",
    "    \n",
    "    sa = array(sa)\n",
    "    msa = array(msa)\n",
    "\n",
    "    nm = where(msa ==min(msa))[0][0]      # find the where the minimum solution is\n",
    "\n",
    "    xs = sa[nm]\n",
    "    print('the iretation step reached mininum:',nm+1)\n",
    "    print('the max strength in the solution is:',min(msa))\n",
    "    return xs"
   ]
  },
  {
   "cell_type": "markdown",
   "metadata": {},
   "source": [
    "## Equation for tuning Slx and Sly\n",
    "\n",
    "## $\\begin{cases} \\begin{align*} x_0 &= 0.9253 \\textbf{Slx} -0.0109 \\textbf{Sly} - 8.677114 \\\\\n",
    "                                  y_0 &= -0.0123 \\textbf{Slx} +10.038 \\textbf{Sly}- 32.160215 \\end{align*}\\end{cases}$\n",
    "\n",
    "## Where Slx is the percentage change on SLX* sextupoles and Sly for SLY* sextupoles"
   ]
  },
  {
   "cell_type": "code",
   "execution_count": 8,
   "metadata": {},
   "outputs": [],
   "source": [
    "def xg(sx,sy):\n",
    "    return 0.9253*sx-0.0109*sy - 8.677114     \n",
    "\n",
    "def yg(sx,sy):\n",
    "    return -0.0123*sx+10.038*sy - 32.160215  "
   ]
  },
  {
   "cell_type": "code",
   "execution_count": 9,
   "metadata": {},
   "outputs": [],
   "source": [
    "Sx = 0 # percentage increment on Slx\n",
    "Sy = 1.7 #percentage increment on Sly"
   ]
  },
  {
   "cell_type": "code",
   "execution_count": 10,
   "metadata": {},
   "outputs": [
    {
     "name": "stdout",
     "output_type": "stream",
     "text": [
      "x0: -8.695644\n",
      "y0: -15.095615000000002\n"
     ]
    }
   ],
   "source": [
    "x0 = xg(Sx,Sy) \n",
    "y0 = yg(Sx,Sy) \n",
    "print('x0:',x0)\n",
    "print('y0:',y0)"
   ]
  },
  {
   "cell_type": "code",
   "execution_count": 11,
   "metadata": {},
   "outputs": [],
   "source": [
    "mm = 4     # max sextupole strength\n",
    "ni = 12    # number of iterations to do\n",
    "num  = 12  # number of data to be generated, total combination n^4"
   ]
  },
  {
   "cell_type": "code",
   "execution_count": 12,
   "metadata": {
    "scrolled": false
   },
   "outputs": [
    {
     "name": "stdout",
     "output_type": "stream",
     "text": [
      "iteration step: 1\n",
      "the max strength is: 4.265987825044221\n",
      "[-4.26598783 -0.24498146 -4.         -4.          4.         -4.        ]\n",
      "12\n",
      "\n",
      "\n",
      "iteration step: 2\n",
      "the max strength is: 4.090909090909091\n",
      "[-3.99921192  0.75579769 -4.09090909 -4.09090909  3.         -4.09090909]\n",
      "12\n",
      "\n",
      "\n",
      "iteration step: 3\n",
      "the max strength is: 4.163636363636364\n",
      "[-3.7857912   1.55642101 -4.16363636 -4.16363636  2.2        -4.16363636]\n",
      "13\n",
      "\n",
      "\n",
      "iteration step: 4\n",
      "the max strength is: 4.090909090909091\n",
      "[-4.00027573  1.35597923 -4.09090909 -4.09090909  2.4        -4.09090909]\n",
      "13\n",
      "\n",
      "\n",
      "iteration step: 5\n",
      "the max strength is: 4.090909090909091\n",
      "[-4.00098493  1.75610025 -4.09090909 -4.09090909  2.         -4.09090909]\n",
      "13\n",
      "\n",
      "\n",
      "iteration step: 6\n",
      "the max strength is: 4.090909090909091\n",
      "[-4.00133953  1.95616076 -4.09090909 -4.09090909  1.8        -4.09090909]\n",
      "13\n",
      "\n",
      "\n",
      "iteration step: 7\n",
      "the max strength is: 4.074242424242424\n",
      "[-4.05060896  1.97607943 -4.07424242 -4.07424242  1.78       -4.07424242]\n",
      "13\n",
      "\n",
      "\n",
      "iteration step: 8\n",
      "the max strength is: 4.070272992749449\n",
      "[-4.07027299  1.95937277 -4.06757576 -4.06757576  1.79666667 -4.06757576]\n",
      "13\n",
      "\n",
      "\n",
      "iteration step: 9\n",
      "the max strength is: 4.070243442640186\n",
      "[-4.07024344  1.94270106 -4.06757576 -4.06757576  1.81333333 -4.06757576]\n",
      "13\n",
      "\n",
      "\n",
      "iteration step: 10\n",
      "the max strength is: 4.070213892530924\n",
      "[-4.07021389  1.92602936 -4.06757576 -4.06757576  1.83       -4.06757576]\n",
      "13\n",
      "\n",
      "\n",
      "iteration step: 11\n",
      "the max strength is: 4.070184342421659\n",
      "[-4.07018434  1.90935765 -4.06757576 -4.06757576  1.84666667 -4.06757576]\n",
      "13\n",
      "\n",
      "\n",
      "iteration step: 12\n",
      "the max strength is: 4.070154792312397\n",
      "[-4.07015479  1.89268594 -4.06757576 -4.06757576  1.86333333 -4.06757576]\n",
      "13\n",
      "\n",
      "\n",
      "the iretation step reached mininum: 12\n",
      "the max strength in the solution is: 4.070154792312397\n"
     ]
    }
   ],
   "source": [
    "solution = opt(x0,y0,mm,ni,num)"
   ]
  },
  {
   "cell_type": "code",
   "execution_count": 13,
   "metadata": {},
   "outputs": [
    {
     "data": {
      "text/plain": [
       "array([-4.07015479,  1.89268594, -4.06757576, -4.06757576,  1.86333333,\n",
       "       -4.06757576])"
      ]
     },
     "execution_count": 13,
     "metadata": {},
     "output_type": "execute_result"
    }
   ],
   "source": [
    "solution #solution array"
   ]
  },
  {
   "cell_type": "markdown",
   "metadata": {},
   "source": [
    "### Orginal chromaticity  $\\xi_x = 3.953515$   "
   ]
  },
  {
   "cell_type": "code",
   "execution_count": 14,
   "metadata": {},
   "outputs": [
    {
     "data": {
      "text/plain": [
       "3.9535149999999977"
      ]
     },
     "execution_count": 14,
     "metadata": {},
     "output_type": "execute_result"
    }
   ],
   "source": [
    "cx(solution) # testing the solution"
   ]
  },
  {
   "cell_type": "markdown",
   "metadata": {},
   "source": [
    "### Orginal chromaticity $ \\xi_y = 6.595477 $"
   ]
  },
  {
   "cell_type": "code",
   "execution_count": 15,
   "metadata": {},
   "outputs": [
    {
     "data": {
      "text/plain": [
       "6.595476999999999"
      ]
     },
     "execution_count": 15,
     "metadata": {},
     "output_type": "execute_result"
    }
   ],
   "source": [
    "cy(solution)"
   ]
  },
  {
   "cell_type": "markdown",
   "metadata": {},
   "source": [
    "## When this solution passes the test, we can use Tao to further optimize it. It won't take too long, since it's close to  a true solution."
   ]
  }
 ],
 "metadata": {
  "kernelspec": {
   "display_name": "Python 3",
   "language": "python",
   "name": "python3"
  },
  "language_info": {
   "codemirror_mode": {
    "name": "ipython",
    "version": 3
   },
   "file_extension": ".py",
   "mimetype": "text/x-python",
   "name": "python",
   "nbconvert_exporter": "python",
   "pygments_lexer": "ipython3",
   "version": "3.8.5"
  }
 },
 "nbformat": 4,
 "nbformat_minor": 4
}
