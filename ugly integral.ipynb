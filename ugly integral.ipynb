{
 "cells": [
  {
   "cell_type": "code",
   "execution_count": 1,
   "metadata": {},
   "outputs": [
    {
     "name": "stdout",
     "output_type": "stream",
     "text": [
      "Populating the interactive namespace from numpy and matplotlib\n"
     ]
    }
   ],
   "source": [
    "%pylab inline"
   ]
  },
  {
   "cell_type": "code",
   "execution_count": 2,
   "metadata": {},
   "outputs": [],
   "source": [
    "import sympy as sp\n",
    "from sympy import *\n",
    "init_printing()"
   ]
  },
  {
   "cell_type": "code",
   "execution_count": 3,
   "metadata": {},
   "outputs": [
    {
     "data": {
      "image/png": "[encoded data removed]",
      "text/latex": [
       "$$\\frac{z^{6} + 2 z^{4} + z^{2}}{\\left(z - i \\left(- \\sqrt{-1 + \\frac{1}{\\beta^{2} \\cos^{2}{\\left (\\theta \\right )}}} - \\frac{1}{\\beta \\cos{\\left (\\theta \\right )}}\\right)\\right)^{5}}$$"
      ],
      "text/plain": [
       "                 6      4    2                \n",
       "                z  + 2⋅z  + z                 \n",
       "──────────────────────────────────────────────\n",
       "                                             5\n",
       "⎛      ⎛       _________________           ⎞⎞ \n",
       "⎜      ⎜      ╱          1            1    ⎟⎟ \n",
       "⎜z - ⅈ⋅⎜-    ╱  -1 + ──────────  - ────────⎟⎟ \n",
       "⎜      ⎜    ╱         2    2       β⋅cos(θ)⎟⎟ \n",
       "⎝      ⎝  ╲╱         β ⋅cos (θ)            ⎠⎠ "
      ]
     },
     "metadata": {},
     "output_type": "display_data"
    }
   ],
   "source": [
    "z,b,x,e,c,pi,a,n= symbols('z beta theta e c pi a n')\n",
    "k=b*cos(x)\n",
    "m=(-sqrt(1/(k)**2-1)-1/(k))*I\n",
    "p=(sqrt(1/(k)**2-1)-1/k)*I\n",
    "f1=(z**6+2*z**4+z**2)/(z-m)**5\n",
    "display(f1)"
   ]
  },
  {
   "cell_type": "code",
   "execution_count": 4,
   "metadata": {
    "scrolled": false
   },
   "outputs": [
    {
     "data": {
      "image/png": "[encoded data removed]",
      "text/latex": [
       "$$i \\left(- \\sqrt{-1 + \\frac{1}{\\beta^{2} \\cos^{2}{\\left (\\theta \\right )}}} - \\frac{1}{\\beta \\cos{\\left (\\theta \\right )}}\\right)$$"
      ],
      "text/plain": [
       "  ⎛       _________________           ⎞\n",
       "  ⎜      ╱          1            1    ⎟\n",
       "ⅈ⋅⎜-    ╱  -1 + ──────────  - ────────⎟\n",
       "  ⎜    ╱         2    2       β⋅cos(θ)⎟\n",
       "  ⎝  ╲╱         β ⋅cos (θ)            ⎠"
      ]
     },
     "metadata": {},
     "output_type": "display_data"
    },
    {
     "data": {
      "image/png": "[encoded data removed]",
      "text/latex": [
       "$$i \\left(\\sqrt{-1 + \\frac{1}{\\beta^{2} \\cos^{2}{\\left (\\theta \\right )}}} - \\frac{1}{\\beta \\cos{\\left (\\theta \\right )}}\\right)$$"
      ],
      "text/plain": [
       "  ⎛     _________________           ⎞\n",
       "  ⎜    ╱          1            1    ⎟\n",
       "ⅈ⋅⎜   ╱  -1 + ──────────  - ────────⎟\n",
       "  ⎜  ╱         2    2       β⋅cos(θ)⎟\n",
       "  ⎝╲╱         β ⋅cos (θ)            ⎠"
      ]
     },
     "metadata": {},
     "output_type": "display_data"
    },
    {
     "data": {
      "image/png": "[encoded data removed]",
      "text/latex": [
       "$$\\frac{3 i \\beta^{4} \\left(\\beta^{2} \\cos^{2}{\\left (\\theta \\right )} + 4\\right) \\cos^{4}{\\left (\\theta \\right )}}{8 \\sqrt{-1 + \\frac{1}{\\beta^{2} \\cos^{2}{\\left (\\theta \\right )}}} \\left(\\beta \\cos{\\left (\\theta \\right )} - 1\\right)^{3} \\left(\\beta \\cos{\\left (\\theta \\right )} + 1\\right)^{3}}$$"
      ],
      "text/plain": [
       "                 4 ⎛ 2    2       ⎞    4                \n",
       "            3⋅ⅈ⋅β ⋅⎝β ⋅cos (θ) + 4⎠⋅cos (θ)             \n",
       "────────────────────────────────────────────────────────\n",
       "       _________________                                \n",
       "      ╱          1                     3               3\n",
       "8⋅   ╱  -1 + ────────── ⋅(β⋅cos(θ) - 1) ⋅(β⋅cos(θ) + 1) \n",
       "    ╱         2    2                                    \n",
       "  ╲╱         β ⋅cos (θ)                                 "
      ]
     },
     "metadata": {},
     "output_type": "display_data"
    }
   ],
   "source": [
    "s1=diff(f1,z,4).doit().subs(z,p).simplify()\n",
    "display(m)\n",
    "display(p)\n",
    "display(simplify(s1))"
   ]
  },
  {
   "cell_type": "code",
   "execution_count": 5,
   "metadata": {},
   "outputs": [
    {
     "data": {
      "image/png": "[encoded data removed]",
      "text/latex": [
       "$$- \\frac{\\beta^{3} c e^{2} \\left(\\beta^{2} \\cos^{2}{\\left (\\theta \\right )} + 4\\right) \\sin^{2}{\\left (\\theta \\right )}}{32 a^{2} \\pi \\sqrt{-1 + \\frac{1}{\\beta^{2} \\cos^{2}{\\left (\\theta \\right )}}} \\left(\\beta \\cos{\\left (\\theta \\right )} - 1\\right)^{3} \\left(\\beta \\cos{\\left (\\theta \\right )} + 1\\right)^{3} \\cos{\\left (\\theta \\right )}}$$"
      ],
      "text/plain": [
       "                    3    2 ⎛ 2    2       ⎞    2                     \n",
       "                  -β ⋅c⋅e ⋅⎝β ⋅cos (θ) + 4⎠⋅sin (θ)                  \n",
       "─────────────────────────────────────────────────────────────────────\n",
       "             _________________                                       \n",
       "    2       ╱          1                     3               3       \n",
       "32⋅a ⋅π⋅   ╱  -1 + ────────── ⋅(β⋅cos(θ) - 1) ⋅(β⋅cos(θ) + 1) ⋅cos(θ)\n",
       "          ╱         2    2                                           \n",
       "        ╲╱         β ⋅cos (θ)                                        "
      ]
     },
     "metadata": {},
     "output_type": "display_data"
    }
   ],
   "source": [
    "r=e**2*c*b**4*(sin(x))**2*2*pi*I*8/(8*pi**2*a**2*factorial(4)*(k)**5)*s1.simplify()\n",
    "display(simplify(r))"
   ]
  }
 ],
 "metadata": {
  "anaconda-cloud": {},
  "kernelspec": {
   "display_name": "Python 3",
   "language": "python",
   "name": "python3"
  },
  "language_info": {
   "codemirror_mode": {
    "name": "ipython",
    "version": 3
   },
   "file_extension": ".py",
   "mimetype": "text/x-python",
   "name": "python",
   "nbconvert_exporter": "python",
   "pygments_lexer": "ipython3",
   "version": "3.7.1"
  }
 },
 "nbformat": 4,
 "nbformat_minor": 1
}
